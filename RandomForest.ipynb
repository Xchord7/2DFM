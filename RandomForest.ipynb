{
 "cells": [
  {
   "cell_type": "markdown",
   "id": "ad8296f4-19f3-417f-84d0-4611c63c5eb8",
   "metadata": {},
   "source": [
    "## model1磁性与非磁性分类模型"
   ]
  },
  {
   "cell_type": "markdown",
   "id": "73770dca-9c45-47c4-b891-8bc0b046ad59",
   "metadata": {},
   "source": [
    "### 导入数据"
   ]
  },
  {
   "cell_type": "code",
   "execution_count": 1,
   "id": "1bee5182-07a5-41c0-a5cd-947a6507a140",
   "metadata": {},
   "outputs": [
    {
     "data": {
      "text/html": [
       "<div>\n",
       "<style scoped>\n",
       "    .dataframe tbody tr th:only-of-type {\n",
       "        vertical-align: middle;\n",
       "    }\n",
       "\n",
       "    .dataframe tbody tr th {\n",
       "        vertical-align: top;\n",
       "    }\n",
       "\n",
       "    .dataframe thead th {\n",
       "        text-align: right;\n",
       "    }\n",
       "</style>\n",
       "<table border=\"1\" class=\"dataframe\">\n",
       "  <thead>\n",
       "    <tr style=\"text-align: right;\">\n",
       "      <th></th>\n",
       "      <th>Formula</th>\n",
       "      <th>SGnumber</th>\n",
       "      <th>Magmom</th>\n",
       "      <th>Magnetic</th>\n",
       "    </tr>\n",
       "  </thead>\n",
       "  <tbody>\n",
       "    <tr>\n",
       "      <th>0</th>\n",
       "      <td>Ca4As4</td>\n",
       "      <td>14</td>\n",
       "      <td>0.0</td>\n",
       "      <td>False</td>\n",
       "    </tr>\n",
       "    <tr>\n",
       "      <th>1</th>\n",
       "      <td>In2Se2</td>\n",
       "      <td>12</td>\n",
       "      <td>0.0</td>\n",
       "      <td>False</td>\n",
       "    </tr>\n",
       "  </tbody>\n",
       "</table>\n",
       "</div>"
      ],
      "text/plain": [
       "  Formula  SGnumber  Magmom  Magnetic\n",
       "0  Ca4As4        14     0.0     False\n",
       "1  In2Se2        12     0.0     False"
      ]
     },
     "execution_count": 1,
     "metadata": {},
     "output_type": "execute_result"
    }
   ],
   "source": [
    "import numpy as np\n",
    "import pandas as pd\n",
    "data = pd.read_csv('new2417.csv', index_col = 0)\n",
    "data.head(2)"
   ]
  },
  {
   "cell_type": "code",
   "execution_count": 2,
   "id": "9b1b10ca-fe14-4213-94b9-030ea475a44b",
   "metadata": {},
   "outputs": [
    {
     "data": {
      "text/plain": [
       "False    1292\n",
       "True     1125\n",
       "Name: Magnetic, dtype: int64"
      ]
     },
     "execution_count": 2,
     "metadata": {},
     "output_type": "execute_result"
    }
   ],
   "source": [
    "data['Magnetic'].value_counts()"
   ]
  },
  {
   "cell_type": "markdown",
   "id": "3b6824c4-2245-4252-8222-59b72600d1f0",
   "metadata": {},
   "source": [
    "### 添加特征"
   ]
  },
  {
   "cell_type": "code",
   "execution_count": 3,
   "id": "6806485d-8d26-4ade-b625-d132826c98a3",
   "metadata": {},
   "outputs": [
    {
     "data": {
      "application/vnd.jupyter.widget-view+json": {
       "model_id": "e3168e887af64cbebc1ff740215efa76",
       "version_major": 2,
       "version_minor": 0
      },
      "text/plain": [
       "StrToComposition:   0%|          | 0/2417 [00:00<?, ?it/s]"
      ]
     },
     "metadata": {},
     "output_type": "display_data"
    },
    {
     "data": {
      "text/html": [
       "<div>\n",
       "<style scoped>\n",
       "    .dataframe tbody tr th:only-of-type {\n",
       "        vertical-align: middle;\n",
       "    }\n",
       "\n",
       "    .dataframe tbody tr th {\n",
       "        vertical-align: top;\n",
       "    }\n",
       "\n",
       "    .dataframe thead th {\n",
       "        text-align: right;\n",
       "    }\n",
       "</style>\n",
       "<table border=\"1\" class=\"dataframe\">\n",
       "  <thead>\n",
       "    <tr style=\"text-align: right;\">\n",
       "      <th></th>\n",
       "      <th>Formula</th>\n",
       "      <th>SGnumber</th>\n",
       "      <th>Magmom</th>\n",
       "      <th>Magnetic</th>\n",
       "      <th>composition</th>\n",
       "    </tr>\n",
       "  </thead>\n",
       "  <tbody>\n",
       "    <tr>\n",
       "      <th>0</th>\n",
       "      <td>Ca4As4</td>\n",
       "      <td>14</td>\n",
       "      <td>0.0</td>\n",
       "      <td>False</td>\n",
       "      <td>(Ca, As)</td>\n",
       "    </tr>\n",
       "    <tr>\n",
       "      <th>1</th>\n",
       "      <td>In2Se2</td>\n",
       "      <td>12</td>\n",
       "      <td>0.0</td>\n",
       "      <td>False</td>\n",
       "      <td>(In, Se)</td>\n",
       "    </tr>\n",
       "  </tbody>\n",
       "</table>\n",
       "</div>"
      ],
      "text/plain": [
       "  Formula  SGnumber  Magmom  Magnetic composition\n",
       "0  Ca4As4        14     0.0     False    (Ca, As)\n",
       "1  In2Se2        12     0.0     False    (In, Se)"
      ]
     },
     "execution_count": 3,
     "metadata": {},
     "output_type": "execute_result"
    }
   ],
   "source": [
    "from matminer.featurizers.conversions import StrToComposition\n",
    "data_Composition = StrToComposition().featurize_dataframe(data, 'Formula')\n",
    "data_Composition.head(2)"
   ]
  },
  {
   "cell_type": "code",
   "execution_count": 4,
   "id": "ccdf8990-921a-420e-a566-439763b03f49",
   "metadata": {},
   "outputs": [
    {
     "data": {
      "application/vnd.jupyter.widget-view+json": {
       "model_id": "c7de443c1ffb4e19af2dc3908ba48c6d",
       "version_major": 2,
       "version_minor": 0
      },
      "text/plain": [
       "CompositionToOxidComposition:   0%|          | 0/2417 [00:00<?, ?it/s]"
      ]
     },
     "metadata": {},
     "output_type": "display_data"
    },
    {
     "data": {
      "text/html": [
       "<div>\n",
       "<style scoped>\n",
       "    .dataframe tbody tr th:only-of-type {\n",
       "        vertical-align: middle;\n",
       "    }\n",
       "\n",
       "    .dataframe tbody tr th {\n",
       "        vertical-align: top;\n",
       "    }\n",
       "\n",
       "    .dataframe thead th {\n",
       "        text-align: right;\n",
       "    }\n",
       "</style>\n",
       "<table border=\"1\" class=\"dataframe\">\n",
       "  <thead>\n",
       "    <tr style=\"text-align: right;\">\n",
       "      <th></th>\n",
       "      <th>Formula</th>\n",
       "      <th>SGnumber</th>\n",
       "      <th>Magmom</th>\n",
       "      <th>Magnetic</th>\n",
       "      <th>composition</th>\n",
       "      <th>composition_oxid</th>\n",
       "    </tr>\n",
       "  </thead>\n",
       "  <tbody>\n",
       "    <tr>\n",
       "      <th>0</th>\n",
       "      <td>Ca4As4</td>\n",
       "      <td>14</td>\n",
       "      <td>0.0</td>\n",
       "      <td>False</td>\n",
       "      <td>(Ca, As)</td>\n",
       "      <td>(Ca2+, As3-, As-)</td>\n",
       "    </tr>\n",
       "    <tr>\n",
       "      <th>1</th>\n",
       "      <td>In2Se2</td>\n",
       "      <td>12</td>\n",
       "      <td>0.0</td>\n",
       "      <td>False</td>\n",
       "      <td>(In, Se)</td>\n",
       "      <td>(In+, In3+, Se2-)</td>\n",
       "    </tr>\n",
       "  </tbody>\n",
       "</table>\n",
       "</div>"
      ],
      "text/plain": [
       "  Formula  SGnumber  Magmom  Magnetic composition   composition_oxid\n",
       "0  Ca4As4        14     0.0     False    (Ca, As)  (Ca2+, As3-, As-)\n",
       "1  In2Se2        12     0.0     False    (In, Se)  (In+, In3+, Se2-)"
      ]
     },
     "execution_count": 4,
     "metadata": {},
     "output_type": "execute_result"
    }
   ],
   "source": [
    "from matminer.featurizers.conversions import CompositionToOxidComposition\n",
    "data_Oxide = CompositionToOxidComposition().featurize_dataframe(data_Composition, 'composition')\n",
    "data_Oxide.head(2)"
   ]
  },
  {
   "cell_type": "code",
   "execution_count": 5,
   "id": "915ada34-4e36-4674-b5b3-858c3414da90",
   "metadata": {},
   "outputs": [
    {
     "data": {
      "application/vnd.jupyter.widget-view+json": {
       "model_id": "55bd12d94abe48c1a97661a4fea26c3e",
       "version_major": 2,
       "version_minor": 0
      },
      "text/plain": [
       "OxidationStates:   0%|          | 0/2417 [00:00<?, ?it/s]"
      ]
     },
     "metadata": {},
     "output_type": "display_data"
    },
    {
     "data": {
      "text/html": [
       "<div>\n",
       "<style scoped>\n",
       "    .dataframe tbody tr th:only-of-type {\n",
       "        vertical-align: middle;\n",
       "    }\n",
       "\n",
       "    .dataframe tbody tr th {\n",
       "        vertical-align: top;\n",
       "    }\n",
       "\n",
       "    .dataframe thead th {\n",
       "        text-align: right;\n",
       "    }\n",
       "</style>\n",
       "<table border=\"1\" class=\"dataframe\">\n",
       "  <thead>\n",
       "    <tr style=\"text-align: right;\">\n",
       "      <th></th>\n",
       "      <th>Formula</th>\n",
       "      <th>SGnumber</th>\n",
       "      <th>Magmom</th>\n",
       "      <th>Magnetic</th>\n",
       "      <th>composition</th>\n",
       "      <th>composition_oxid</th>\n",
       "      <th>minimum oxidation state</th>\n",
       "      <th>maximum oxidation state</th>\n",
       "      <th>range oxidation state</th>\n",
       "      <th>std_dev oxidation state</th>\n",
       "    </tr>\n",
       "  </thead>\n",
       "  <tbody>\n",
       "    <tr>\n",
       "      <th>0</th>\n",
       "      <td>Ca4As4</td>\n",
       "      <td>14</td>\n",
       "      <td>0.0</td>\n",
       "      <td>False</td>\n",
       "      <td>(Ca, As)</td>\n",
       "      <td>(Ca2+, As3-, As-)</td>\n",
       "      <td>-3</td>\n",
       "      <td>2</td>\n",
       "      <td>5</td>\n",
       "      <td>2.683282</td>\n",
       "    </tr>\n",
       "    <tr>\n",
       "      <th>1</th>\n",
       "      <td>In2Se2</td>\n",
       "      <td>12</td>\n",
       "      <td>0.0</td>\n",
       "      <td>False</td>\n",
       "      <td>(In, Se)</td>\n",
       "      <td>(In+, In3+, Se2-)</td>\n",
       "      <td>-2</td>\n",
       "      <td>3</td>\n",
       "      <td>5</td>\n",
       "      <td>2.683282</td>\n",
       "    </tr>\n",
       "    <tr>\n",
       "      <th>2</th>\n",
       "      <td>Sc4S6</td>\n",
       "      <td>65</td>\n",
       "      <td>0.0</td>\n",
       "      <td>False</td>\n",
       "      <td>(Sc, S)</td>\n",
       "      <td>(Sc3+, S2-)</td>\n",
       "      <td>-2</td>\n",
       "      <td>3</td>\n",
       "      <td>5</td>\n",
       "      <td>3.535534</td>\n",
       "    </tr>\n",
       "    <tr>\n",
       "      <th>3</th>\n",
       "      <td>Zr3B2H2S2</td>\n",
       "      <td>187</td>\n",
       "      <td>0.0</td>\n",
       "      <td>False</td>\n",
       "      <td>(Zr, B, H, S)</td>\n",
       "      <td>(Zr2+, Zr4+, B3-, H+, S2-)</td>\n",
       "      <td>-3</td>\n",
       "      <td>4</td>\n",
       "      <td>7</td>\n",
       "      <td>2.704163</td>\n",
       "    </tr>\n",
       "    <tr>\n",
       "      <th>4</th>\n",
       "      <td>Zr2Te10</td>\n",
       "      <td>59</td>\n",
       "      <td>0.0</td>\n",
       "      <td>False</td>\n",
       "      <td>(Zr, Te)</td>\n",
       "      <td>(Zr4+, Te2-, Te4+)</td>\n",
       "      <td>-2</td>\n",
       "      <td>4</td>\n",
       "      <td>6</td>\n",
       "      <td>4.000000</td>\n",
       "    </tr>\n",
       "  </tbody>\n",
       "</table>\n",
       "</div>"
      ],
      "text/plain": [
       "     Formula  SGnumber  Magmom  Magnetic    composition  \\\n",
       "0     Ca4As4        14     0.0     False       (Ca, As)   \n",
       "1     In2Se2        12     0.0     False       (In, Se)   \n",
       "2      Sc4S6        65     0.0     False        (Sc, S)   \n",
       "3  Zr3B2H2S2       187     0.0     False  (Zr, B, H, S)   \n",
       "4    Zr2Te10        59     0.0     False       (Zr, Te)   \n",
       "\n",
       "             composition_oxid  minimum oxidation state  \\\n",
       "0           (Ca2+, As3-, As-)                       -3   \n",
       "1           (In+, In3+, Se2-)                       -2   \n",
       "2                 (Sc3+, S2-)                       -2   \n",
       "3  (Zr2+, Zr4+, B3-, H+, S2-)                       -3   \n",
       "4          (Zr4+, Te2-, Te4+)                       -2   \n",
       "\n",
       "   maximum oxidation state  range oxidation state  std_dev oxidation state  \n",
       "0                        2                      5                 2.683282  \n",
       "1                        3                      5                 2.683282  \n",
       "2                        3                      5                 3.535534  \n",
       "3                        4                      7                 2.704163  \n",
       "4                        4                      6                 4.000000  "
      ]
     },
     "execution_count": 5,
     "metadata": {},
     "output_type": "execute_result"
    }
   ],
   "source": [
    "from matminer.featurizers.composition import OxidationStates\n",
    "data_OS = OxidationStates().featurize_dataframe(data_Oxide, 'composition_oxid')\n",
    "data_OS.head()"
   ]
  },
  {
   "cell_type": "code",
   "execution_count": 6,
   "id": "d3e4c749-251e-4b3d-b0d5-d9a583ea7b30",
   "metadata": {},
   "outputs": [
    {
     "data": {
      "application/vnd.jupyter.widget-view+json": {
       "model_id": "9bec005a37a641818879a099f32e4f27",
       "version_major": 2,
       "version_minor": 0
      },
      "text/plain": [
       "ElementProperty:   0%|          | 0/2417 [00:00<?, ?it/s]"
      ]
     },
     "metadata": {},
     "output_type": "display_data"
    },
    {
     "data": {
      "text/html": [
       "<div>\n",
       "<style scoped>\n",
       "    .dataframe tbody tr th:only-of-type {\n",
       "        vertical-align: middle;\n",
       "    }\n",
       "\n",
       "    .dataframe tbody tr th {\n",
       "        vertical-align: top;\n",
       "    }\n",
       "\n",
       "    .dataframe thead th {\n",
       "        text-align: right;\n",
       "    }\n",
       "</style>\n",
       "<table border=\"1\" class=\"dataframe\">\n",
       "  <thead>\n",
       "    <tr style=\"text-align: right;\">\n",
       "      <th></th>\n",
       "      <th>Formula</th>\n",
       "      <th>SGnumber</th>\n",
       "      <th>Magmom</th>\n",
       "      <th>Magnetic</th>\n",
       "      <th>composition</th>\n",
       "      <th>composition_oxid</th>\n",
       "      <th>minimum oxidation state</th>\n",
       "      <th>maximum oxidation state</th>\n",
       "      <th>range oxidation state</th>\n",
       "      <th>std_dev oxidation state</th>\n",
       "      <th>...</th>\n",
       "      <th>MagpieData range GSmagmom</th>\n",
       "      <th>MagpieData mean GSmagmom</th>\n",
       "      <th>MagpieData avg_dev GSmagmom</th>\n",
       "      <th>MagpieData mode GSmagmom</th>\n",
       "      <th>MagpieData minimum SpaceGroupNumber</th>\n",
       "      <th>MagpieData maximum SpaceGroupNumber</th>\n",
       "      <th>MagpieData range SpaceGroupNumber</th>\n",
       "      <th>MagpieData mean SpaceGroupNumber</th>\n",
       "      <th>MagpieData avg_dev SpaceGroupNumber</th>\n",
       "      <th>MagpieData mode SpaceGroupNumber</th>\n",
       "    </tr>\n",
       "  </thead>\n",
       "  <tbody>\n",
       "    <tr>\n",
       "      <th>0</th>\n",
       "      <td>Ca4As4</td>\n",
       "      <td>14</td>\n",
       "      <td>0.0</td>\n",
       "      <td>False</td>\n",
       "      <td>(Ca, As)</td>\n",
       "      <td>(Ca2+, As3-, As-)</td>\n",
       "      <td>-3</td>\n",
       "      <td>2</td>\n",
       "      <td>5</td>\n",
       "      <td>2.683282</td>\n",
       "      <td>...</td>\n",
       "      <td>0.0</td>\n",
       "      <td>0.0</td>\n",
       "      <td>0.0</td>\n",
       "      <td>0.0</td>\n",
       "      <td>166.0</td>\n",
       "      <td>225.0</td>\n",
       "      <td>59.0</td>\n",
       "      <td>195.5</td>\n",
       "      <td>29.5</td>\n",
       "      <td>166.0</td>\n",
       "    </tr>\n",
       "    <tr>\n",
       "      <th>1</th>\n",
       "      <td>In2Se2</td>\n",
       "      <td>12</td>\n",
       "      <td>0.0</td>\n",
       "      <td>False</td>\n",
       "      <td>(In, Se)</td>\n",
       "      <td>(In+, In3+, Se2-)</td>\n",
       "      <td>-2</td>\n",
       "      <td>3</td>\n",
       "      <td>5</td>\n",
       "      <td>2.683282</td>\n",
       "      <td>...</td>\n",
       "      <td>0.0</td>\n",
       "      <td>0.0</td>\n",
       "      <td>0.0</td>\n",
       "      <td>0.0</td>\n",
       "      <td>14.0</td>\n",
       "      <td>139.0</td>\n",
       "      <td>125.0</td>\n",
       "      <td>76.5</td>\n",
       "      <td>62.5</td>\n",
       "      <td>14.0</td>\n",
       "    </tr>\n",
       "  </tbody>\n",
       "</table>\n",
       "<p>2 rows × 142 columns</p>\n",
       "</div>"
      ],
      "text/plain": [
       "  Formula  SGnumber  Magmom  Magnetic composition   composition_oxid  \\\n",
       "0  Ca4As4        14     0.0     False    (Ca, As)  (Ca2+, As3-, As-)   \n",
       "1  In2Se2        12     0.0     False    (In, Se)  (In+, In3+, Se2-)   \n",
       "\n",
       "   minimum oxidation state  maximum oxidation state  range oxidation state  \\\n",
       "0                       -3                        2                      5   \n",
       "1                       -2                        3                      5   \n",
       "\n",
       "   std_dev oxidation state  ...  MagpieData range GSmagmom  \\\n",
       "0                 2.683282  ...                        0.0   \n",
       "1                 2.683282  ...                        0.0   \n",
       "\n",
       "   MagpieData mean GSmagmom  MagpieData avg_dev GSmagmom  \\\n",
       "0                       0.0                          0.0   \n",
       "1                       0.0                          0.0   \n",
       "\n",
       "   MagpieData mode GSmagmom  MagpieData minimum SpaceGroupNumber  \\\n",
       "0                       0.0                                166.0   \n",
       "1                       0.0                                 14.0   \n",
       "\n",
       "   MagpieData maximum SpaceGroupNumber  MagpieData range SpaceGroupNumber  \\\n",
       "0                                225.0                               59.0   \n",
       "1                                139.0                              125.0   \n",
       "\n",
       "   MagpieData mean SpaceGroupNumber  MagpieData avg_dev SpaceGroupNumber  \\\n",
       "0                             195.5                                 29.5   \n",
       "1                              76.5                                 62.5   \n",
       "\n",
       "   MagpieData mode SpaceGroupNumber  \n",
       "0                             166.0  \n",
       "1                              14.0  \n",
       "\n",
       "[2 rows x 142 columns]"
      ]
     },
     "execution_count": 6,
     "metadata": {},
     "output_type": "execute_result"
    }
   ],
   "source": [
    "from matminer.featurizers.composition import ElementProperty\n",
    "ep_feat = ElementProperty.from_preset(preset_name='magpie')\n",
    "data_EP = ep_feat.featurize_dataframe(data_OS, col_id = 'composition')\n",
    "data_EP.head(2)"
   ]
  },
  {
   "cell_type": "markdown",
   "id": "fb792922-5f1c-4cb5-ba55-f94c56d87443",
   "metadata": {},
   "source": [
    "### 导入必要库"
   ]
  },
  {
   "cell_type": "code",
   "execution_count": 7,
   "id": "762b93d5-2304-41ce-8054-2051e9dd2764",
   "metadata": {},
   "outputs": [],
   "source": [
    "from sklearn.model_selection import train_test_split\n",
    "from sklearn.tree import DecisionTreeClassifier\n",
    "from sklearn.model_selection import KFold, StratifiedKFold\n",
    "from sklearn.metrics import mean_squared_error\n",
    "from sklearn.ensemble import RandomForestClassifier\n",
    "from sklearn.ensemble import RandomForestRegressor\n",
    "from sklearn.metrics import cohen_kappa_score\n",
    "from sklearn.metrics import plot_roc_curve\n",
    "from sklearn.linear_model import LogisticRegression\n",
    "from sklearn.model_selection import GridSearchCV"
   ]
  },
  {
   "cell_type": "code",
   "execution_count": 8,
   "id": "3d16f2c9-09cd-4835-aacf-191b32dfb717",
   "metadata": {},
   "outputs": [],
   "source": [
    "y = data_EP['Magnetic'].values\n",
    "excluded = ['Formula', 'Magmom', 'composition', 'composition_oxid', 'Magnetic']\n",
    "X = data_EP.drop(excluded, axis = 1)"
   ]
  },
  {
   "cell_type": "code",
   "execution_count": 9,
   "id": "d5b93524-8dfd-482b-a625-e5423a41208d",
   "metadata": {},
   "outputs": [],
   "source": [
    "X_train, X_test, y_train, y_test = train_test_split(X, y, stratify = y, \n",
    "                                                    test_size = 0.3,\n",
    "                                                    random_state = 42)"
   ]
  },
  {
   "cell_type": "markdown",
   "id": "11a79528-86a6-4cca-950d-fc732789a3c3",
   "metadata": {},
   "source": [
    "### 测试决策树分类"
   ]
  },
  {
   "cell_type": "code",
   "execution_count": 10,
   "id": "614956a1-6dc7-4fbb-9416-888991e785ec",
   "metadata": {},
   "outputs": [],
   "source": [
    "#model_DTC = DecisionTreeClassifier()\n",
    "#path = model_DTC.cost_complexity_pruning_path(X_train, y_train)\n",
    "\n",
    "#param_grid = {'ccp_alpha': path.ccp_alphas}\n",
    "#kfold = KFold(n_splits = 10, shuffle = True, random_state =14)\n",
    "#model_DTC = GridSearchCV(DecisionTreeClassifier(random_state = 123),\n",
    "#                     param_grid, cv = kfold)\n",
    "#model_DTC.fit(X_train, y_train)\n",
    "#model_DTC.score(X_test, y_test)"
   ]
  },
  {
   "cell_type": "code",
   "execution_count": 11,
   "id": "2bdfb497-eb94-4375-b54c-7ab4a5b6cbb1",
   "metadata": {},
   "outputs": [],
   "source": [
    "#model_DTC.best_params_"
   ]
  },
  {
   "cell_type": "code",
   "execution_count": 12,
   "id": "356a4502-ff17-49fc-a114-6441ebacc7de",
   "metadata": {},
   "outputs": [],
   "source": [
    "#model_test = DecisionTreeClassifier(random_state = 123, ccp_alpha = 0.00205)\n",
    "#model_test.fit(X_train, y_train)\n",
    "#model_test.score(X_test, y_test)"
   ]
  },
  {
   "cell_type": "markdown",
   "id": "3e42e50d-0bf6-40f7-a269-fbd4b5f9e9ee",
   "metadata": {},
   "source": [
    "### 测试未经交叉验证的随机森林模型"
   ]
  },
  {
   "cell_type": "code",
   "execution_count": 13,
   "id": "abde2eea-cced-4ba7-83ad-b25764083b1c",
   "metadata": {},
   "outputs": [
    {
     "data": {
      "text/plain": [
       "0.8732782369146006"
      ]
     },
     "execution_count": 13,
     "metadata": {},
     "output_type": "execute_result"
    }
   ],
   "source": [
    "modelrfc = RandomForestClassifier(n_estimators = 500, max_features = 'sqrt', random_state=53)\n",
    "modelrfc.fit(X_train, y_train)\n",
    "modelrfc.score(X_test, y_test)"
   ]
  },
  {
   "cell_type": "markdown",
   "id": "dee6690d-db4e-49d6-bbe8-1d9a3891b5a7",
   "metadata": {},
   "source": [
    "### 转换y_train虚拟变量"
   ]
  },
  {
   "cell_type": "code",
   "execution_count": 14,
   "id": "86aa2767-edc2-40ab-a8bc-70038177a43f",
   "metadata": {},
   "outputs": [
    {
     "data": {
      "text/plain": [
       "0    0\n",
       "1    1\n",
       "2    1\n",
       "3    0\n",
       "4    0\n",
       "Name: True, dtype: uint8"
      ]
     },
     "execution_count": 14,
     "metadata": {},
     "output_type": "execute_result"
    }
   ],
   "source": [
    "y_train_dummy = pd.get_dummies(y_train)\n",
    "y_train_dummy\n",
    "y_train_dummy = y_train_dummy.iloc[:, 1]\n",
    "y_train_dummy.head(5)"
   ]
  },
  {
   "cell_type": "markdown",
   "id": "416fc9c7-5d83-419f-a456-390fca521225",
   "metadata": {},
   "source": [
    "### 10则交叉验证调节超参数"
   ]
  },
  {
   "cell_type": "code",
   "execution_count": 15,
   "id": "a912b4eb-53e2-46cc-9507-ba534452d48c",
   "metadata": {},
   "outputs": [],
   "source": [
    "param_grid = {'n_estimators':(300, 400, 500),\n",
    "              'max_features': range(15, 25),\n",
    "              'min_samples_split': (2, 3, 4)}\n",
    "kfold = StratifiedKFold(n_splits = 10, shuffle=True,\n",
    "                        random_state = 1)\n",
    "model_kf = GridSearchCV(RandomForestClassifier(random_state = 321),\n",
    "                     param_grid, cv = kfold)"
   ]
  },
  {
   "cell_type": "markdown",
   "id": "7b52b93c-2560-4afb-aeee-714de0acac50",
   "metadata": {},
   "source": [
    "### 这一步时间较长建议越过此步骤"
   ]
  },
  {
   "cell_type": "code",
   "execution_count": 16,
   "id": "019ef999-cd12-42f7-b893-2f447a2f0399",
   "metadata": {},
   "outputs": [],
   "source": [
    "#model_kf.fit(X_train, y_train_dummy)"
   ]
  },
  {
   "cell_type": "markdown",
   "id": "89c20828-2a39-4394-8801-fa2b008d7fdb",
   "metadata": {},
   "source": [
    "### 确定超参数"
   ]
  },
  {
   "cell_type": "code",
   "execution_count": 17,
   "id": "310d1448-5df1-4a15-8222-6bbb9a7b9f65",
   "metadata": {},
   "outputs": [
    {
     "data": {
      "text/plain": [
       "{'max_features': 18, 'min_samples_split': 3, 'n_estimators': 400}"
      ]
     },
     "execution_count": 17,
     "metadata": {},
     "output_type": "execute_result"
    }
   ],
   "source": [
    "model_kf.best_params_"
   ]
  },
  {
   "cell_type": "code",
   "execution_count": 17,
   "id": "932707b3-472b-4a97-b721-5b87da00eac5",
   "metadata": {},
   "outputs": [
    {
     "data": {
      "text/plain": [
       "0.8774104683195593"
      ]
     },
     "execution_count": 17,
     "metadata": {},
     "output_type": "execute_result"
    }
   ],
   "source": [
    "model_rfc = RandomForestClassifier(n_estimators=400, \n",
    "                                   random_state = 346,\n",
    "                                   max_features = 18, \n",
    "                                   min_samples_split = 3)\n",
    "\n",
    "model_rfc.fit(X_train, y_train_dummy)\n",
    "model_rfc.score(X_test, y_test)"
   ]
  },
  {
   "cell_type": "markdown",
   "id": "1ff0536a-96f6-4750-b705-75b57d1ee639",
   "metadata": {},
   "source": [
    "### 特征重要性排序"
   ]
  },
  {
   "cell_type": "code",
   "execution_count": 18,
   "id": "c5e13545-70d2-4252-938d-d54c0fc19564",
   "metadata": {},
   "outputs": [
    {
     "data": {
      "text/plain": [
       "array([2.65422547e-02, 1.24265336e-02, 8.04159056e-03, 9.42407771e-03,\n",
       "       1.12912215e-02, 3.78126555e-03, 6.21893779e-03, 4.75308338e-03,\n",
       "       8.00066427e-03, 6.83279816e-03, 2.03639750e-03, 1.77604511e-02,\n",
       "       8.96481251e-03, 1.29746047e-02, 1.21604592e-02, 1.22041196e-02,\n",
       "       1.26080717e-02, 3.30997598e-03, 6.19919610e-03, 6.59755981e-03,\n",
       "       7.17157381e-03, 8.25150265e-03, 2.56715930e-03, 2.88411291e-03,\n",
       "       1.80736402e-02, 1.91411964e-02, 1.59801003e-02, 1.44986591e-02,\n",
       "       3.76530788e-03, 1.17640009e-02, 2.45399748e-03, 5.33422792e-03,\n",
       "       1.16074316e-02, 1.10497170e-02, 1.19769088e-02, 1.00889493e-03,\n",
       "       2.27640647e-03, 1.18369873e-03, 6.55967210e-03, 5.03743784e-03,\n",
       "       1.69054329e-03, 2.57951396e-03, 2.73165582e-02, 6.55543388e-03,\n",
       "       1.22119270e-02, 8.75026536e-03, 3.27754097e-03, 1.56873190e-02,\n",
       "       3.59509934e-03, 9.39034881e-03, 3.09664828e-02, 9.79570251e-03,\n",
       "       4.93533948e-02, 8.49383894e-04, 0.00000000e+00, 1.08505209e-03,\n",
       "       2.69539209e-03, 2.96072450e-03, 1.11032777e-03, 8.95266363e-04,\n",
       "       2.04798412e-03, 1.33522491e-03, 8.05121740e-03, 6.33016533e-03,\n",
       "       1.12132020e-02, 1.53427764e-03, 2.62167001e-03, 4.20373033e-03,\n",
       "       6.83376106e-03, 8.95537806e-03, 8.76202708e-04, 4.66913287e-06,\n",
       "       4.91336283e-04, 5.39127558e-04, 2.15852528e-03, 2.78936806e-03,\n",
       "       1.04269202e-05, 3.37559611e-03, 3.21072161e-03, 4.94472637e-03,\n",
       "       9.37372332e-03, 9.16659776e-03, 3.05242698e-03, 0.00000000e+00,\n",
       "       6.33999086e-04, 8.04591423e-04, 2.54712015e-03, 2.38128322e-03,\n",
       "       1.01202949e-04, 1.22801546e-03, 7.61675136e-03, 3.49240724e-03,\n",
       "       9.07942556e-03, 2.07598766e-02, 3.05959650e-03, 1.28644524e-05,\n",
       "       9.15109760e-03, 8.30586522e-03, 1.31853608e-02, 1.29808799e-02,\n",
       "       7.80379338e-04, 0.00000000e+00, 5.30074040e-03, 6.14437570e-03,\n",
       "       5.68007347e-03, 6.06063832e-03, 0.00000000e+00, 2.71801479e-03,\n",
       "       8.55561287e-03, 8.07869976e-03, 1.51527499e-02, 1.77275108e-02,\n",
       "       2.32986278e-03, 2.30549895e-02, 5.54318376e-03, 9.12291161e-03,\n",
       "       1.43438433e-02, 1.12924828e-02, 5.47343550e-03, 6.85643479e-04,\n",
       "       3.27944889e-03, 2.63749430e-03, 6.28212221e-03, 5.55146882e-03,\n",
       "       2.34963835e-03, 1.40269753e-06, 1.39905774e-02, 8.56491081e-03,\n",
       "       1.52180225e-02, 1.34928977e-02, 4.42823017e-04, 3.18610851e-03,\n",
       "       1.02871657e-02, 9.24178823e-03, 1.31156813e-02, 8.38356629e-03,\n",
       "       1.98934043e-03])"
      ]
     },
     "execution_count": 18,
     "metadata": {},
     "output_type": "execute_result"
    }
   ],
   "source": [
    "model_rfc.feature_importances_"
   ]
  },
  {
   "cell_type": "code",
   "execution_count": 19,
   "id": "ad812edb-2807-4974-9b4f-3ddfb223ce0e",
   "metadata": {},
   "outputs": [
    {
     "data": {
      "text/plain": [
       "array([106, 101,  54,  83, 125,  71,  76,  95,  88, 130,  72,  73,  84,\n",
       "       119, 100,  85,  53,  70,  59,  35,  55,  58,  37,  89,  61,  65,\n",
       "        40, 136,  10,  60,  74,  36, 112, 124,  87,  30,  86,  22,  41,\n",
       "        66, 121,  56, 107,  75,  23,  57,  82,  94, 131,  78,  46, 120,\n",
       "        17,  77,  91,  48,  28,   5,  67,   7,  79,  39, 102,  31, 118,\n",
       "       114, 123, 104, 105, 103,  18,   6, 122,  63,  43,  38,  19,   9,\n",
       "        68,  20,  90,   8,   2,  62, 109,  21,  97, 135, 108, 127,  45,\n",
       "        69,  12,  92, 115,  96,  81, 133,  80,  49,   3,  51, 132,  33,\n",
       "        64,   4, 117,  32,  29,  34,  14,  15,  44,   1,  16,  13,  99,\n",
       "       134,  98, 129, 126, 116,  27, 110, 128,  47,  26, 111,  11,  24,\n",
       "        25,  93, 113,   0,  42,  50,  52], dtype=int64)"
      ]
     },
     "execution_count": 19,
     "metadata": {},
     "output_type": "execute_result"
    }
   ],
   "source": [
    "sorted_index = model_rfc.feature_importances_.argsort()\n",
    "sorted_index"
   ]
  },
  {
   "cell_type": "code",
   "execution_count": 31,
   "id": "1088d36d-8293-4eb8-b803-f8abd2b2e939",
   "metadata": {},
   "outputs": [],
   "source": [
    "X.rename(columns={'MagpieData mode Electronegativity': 'Mode Electronegativity', \n",
    "                  'MagpieData mean Electronegativity': 'Mean Electronegativity', \n",
    "                  'MagpieData maximum CovalentRadius': 'Maximum CovalentRadius'}, inplace=True)"
   ]
  },
  {
   "cell_type": "code",
   "execution_count": 33,
   "id": "b38bdd54-f053-49e8-9983-557e81143f27",
   "metadata": {},
   "outputs": [],
   "source": [
    "X.rename(columns={'MagpieData minimum GSvolume_pa': 'Minimum GSvolume_pa', \n",
    "                  'MagpieData avg_dev NpUnfilled': 'Avg_dev NpUnfilled', \n",
    "                  'MagpieData range MeltingT': 'Range MeltingT',\n",
    "                  'MagpieData maximum MeltingT': 'Maximum MeltingT',\n",
    "                  'MagpieData minimum MendeleevNumber': 'Minimum MendeleevN',\n",
    "                  'MagpieData avg_dev NUnfilled': 'Avg_dev NUnfilled'}, inplace=True)"
   ]
  },
  {
   "cell_type": "code",
   "execution_count": 34,
   "id": "aac90061-6a46-42ab-a9ed-46f0d53eb2c2",
   "metadata": {},
   "outputs": [
    {
     "data": {
      "text/plain": [
       "Index(['Avg_dev NUnfilled', 'Minimum MendeleevN', 'Maximum MeltingT',\n",
       "       'Range MeltingT', 'Avg_dev NpUnfilled', 'Minimum GSvolume_pa',\n",
       "       'SGnumber', 'Maximum CovalentRadius', 'Mean Electronegativity',\n",
       "       'Mode Electronegativity'],\n",
       "      dtype='object')"
      ]
     },
     "execution_count": 34,
     "metadata": {},
     "output_type": "execute_result"
    }
   ],
   "source": [
    "X.columns[sorted_index][-10:]"
   ]
  },
  {
   "cell_type": "code",
   "execution_count": 35,
   "id": "353d1098-a4a5-40bd-a765-5e7b9d9f6dcc",
   "metadata": {},
   "outputs": [
    {
     "data": {
      "image/png": "[encoded data removed]",
      "text/plain": [
       "<Figure size 500x500 with 1 Axes>"
      ]
     },
     "metadata": {},
     "output_type": "display_data"
    }
   ],
   "source": [
    "import matplotlib.pyplot as plt\n",
    "plt.rcParams['font.sans-serif']=['Times New Roman']\n",
    "sorted_index = model_rfc.feature_importances_.argsort()\n",
    "plt.figure(figsize = (5, 5))\n",
    "plt.barh(range(10),\n",
    "         model_rfc.feature_importances_[sorted_index][-10:],\n",
    "         color='green', alpha = 0.8)\n",
    "plt.yticks(np.arange(10), X.columns[sorted_index][-10:])\n",
    "plt.xlabel('Feature Importance')\n",
    "plt.ylabel('Features')\n",
    "plt.title('Random Forest')\n",
    "plt.savefig('feature.png', dpi = 300, bbox_inches='tight')\n",
    "#plt.show()"
   ]
  },
  {
   "cell_type": "code",
   "execution_count": 21,
   "id": "d21cada4-44e2-4b30-b524-86aee8cb511e",
   "metadata": {},
   "outputs": [
    {
     "data": {
      "text/plain": [
       "(726,)"
      ]
     },
     "execution_count": 21,
     "metadata": {},
     "output_type": "execute_result"
    }
   ],
   "source": [
    "y_pred = model_rfc.predict(X_test)\n",
    "y_pred.shape"
   ]
  },
  {
   "cell_type": "markdown",
   "id": "c704b41d-a211-49a5-9922-469aa1c5fac7",
   "metadata": {},
   "source": [
    "### 混淆矩阵绘图"
   ]
  },
  {
   "cell_type": "code",
   "execution_count": 36,
   "id": "8b9dc713-2826-49ed-a923-0c3a4ad44478",
   "metadata": {},
   "outputs": [
    {
     "name": "stdout",
     "output_type": "stream",
     "text": [
      "[[343  45]\n",
      " [ 44 294]]\n"
     ]
    },
    {
     "data": {
      "image/png": "[encoded data removed]",
      "text/plain": [
       "<Figure size 480x480 with 2 Axes>"
      ]
     },
     "metadata": {},
     "output_type": "display_data"
    }
   ],
   "source": [
    "import matplotlib.pyplot as plt\n",
    "plt.rcParams['font.sans-serif']=['Times New Roman']\n",
    "from sklearn.metrics import confusion_matrix\n",
    "confusion_matrix = confusion_matrix(y_test, y_pred)\n",
    "print(confusion_matrix)\n",
    "plt.matshow(confusion_matrix)\n",
    "plt.title('Confusion matrix',fontsize = 20)\n",
    "plt.xticks(fontsize = 16)\n",
    "plt.yticks(fontsize = 16)\n",
    "cb = plt.colorbar()\n",
    "cb.ax.tick_params(labelsize=16)\n",
    "plt.ylabel('True label', fontsize = 20)\n",
    "plt.xlabel('Predicted label',fontsize = 20)\n",
    "plt.savefig('c4.png', dpi = 300)\n",
    "#plt.show()"
   ]
  },
  {
   "cell_type": "code",
   "execution_count": 24,
   "id": "e18526e0-c8c7-47fd-a9d5-105afdbe2ccd",
   "metadata": {},
   "outputs": [
    {
     "data": {
      "text/html": [
       "<div>\n",
       "<style scoped>\n",
       "    .dataframe tbody tr th:only-of-type {\n",
       "        vertical-align: middle;\n",
       "    }\n",
       "\n",
       "    .dataframe tbody tr th {\n",
       "        vertical-align: top;\n",
       "    }\n",
       "\n",
       "    .dataframe thead th {\n",
       "        text-align: right;\n",
       "    }\n",
       "</style>\n",
       "<table border=\"1\" class=\"dataframe\">\n",
       "  <thead>\n",
       "    <tr style=\"text-align: right;\">\n",
       "      <th>Predicted</th>\n",
       "      <th>0</th>\n",
       "      <th>1</th>\n",
       "    </tr>\n",
       "    <tr>\n",
       "      <th>Actual</th>\n",
       "      <th></th>\n",
       "      <th></th>\n",
       "    </tr>\n",
       "  </thead>\n",
       "  <tbody>\n",
       "    <tr>\n",
       "      <th>False</th>\n",
       "      <td>343</td>\n",
       "      <td>45</td>\n",
       "    </tr>\n",
       "    <tr>\n",
       "      <th>True</th>\n",
       "      <td>44</td>\n",
       "      <td>294</td>\n",
       "    </tr>\n",
       "  </tbody>\n",
       "</table>\n",
       "</div>"
      ],
      "text/plain": [
       "Predicted    0    1\n",
       "Actual             \n",
       "False      343   45\n",
       "True        44  294"
      ]
     },
     "execution_count": 24,
     "metadata": {},
     "output_type": "execute_result"
    }
   ],
   "source": [
    "#from sklearn.inspection import plot_partial_dependence\n",
    "table = pd.crosstab(y_test, y_pred, rownames = ['Actual'], colnames = ['Predicted'])\n",
    "table"
   ]
  },
  {
   "cell_type": "code",
   "execution_count": 25,
   "id": "c441f6b5-26f0-4e6e-a48d-450ef9a8291d",
   "metadata": {},
   "outputs": [
    {
     "data": {
      "text/plain": [
       "0.8774104683195593"
      ]
     },
     "execution_count": 25,
     "metadata": {},
     "output_type": "execute_result"
    }
   ],
   "source": [
    "table = np.array(table)\n",
    "Accuracy = (table[0, 0] + table[1,1]) /np.sum(table)\n",
    "Accuracy"
   ]
  },
  {
   "cell_type": "code",
   "execution_count": 26,
   "id": "a59b4cc1-b7dd-4aa2-ab52-d08abf93ceb5",
   "metadata": {},
   "outputs": [
    {
     "name": "stdout",
     "output_type": "stream",
     "text": [
      "Precision: 0.867\n",
      "0.8698224852071006\n",
      "0.884020618556701\n",
      "0.8672566371681416\n"
     ]
    },
    {
     "data": {
      "text/plain": [
       "0.753699425931432"
      ]
     },
     "execution_count": 26,
     "metadata": {},
     "output_type": "execute_result"
    }
   ],
   "source": [
    "Precision = table[1, 1]/(table[1, 1]+table[0, 1])\n",
    "print('Precision:', Precision.round(3))\n",
    "\n",
    "Sensitivity = table[1, 1]/(table[1, 0] + table[1,1])\n",
    "print(Sensitivity)\n",
    "\n",
    "Specificity = table[0, 0] /(table[0,0] + table[0, 1])\n",
    "print(Specificity)\n",
    "\n",
    "Recall = table[1, 1] /(table[0, 1] + table[1,1])\n",
    "print(Recall)\n",
    "\n",
    "cohen_kappa_score(y_test, y_pred)"
   ]
  },
  {
   "cell_type": "code",
   "execution_count": 27,
   "id": "5b918f7f-f75e-4d26-9deb-6d18aec928ab",
   "metadata": {},
   "outputs": [
    {
     "name": "stdout",
     "output_type": "stream",
     "text": [
      "0.8685376661742984\n"
     ]
    }
   ],
   "source": [
    "from sklearn.metrics import f1_score\n",
    "\n",
    "print(f1_score(y_test, y_pred)) "
   ]
  },
  {
   "cell_type": "code",
   "execution_count": 35,
   "id": "f38ddcf9-6d53-4c5e-ba2d-014b6cd8d7e3",
   "metadata": {},
   "outputs": [
    {
     "data": {
      "image/png": "[encoded data removed]",
      "text/plain": [
       "<Figure size 640x480 with 1 Axes>"
      ]
     },
     "metadata": {},
     "output_type": "display_data"
    }
   ],
   "source": [
    "from sklearn.metrics import RocCurveDisplay\n",
    "plt.rcParams['font.sans-serif']=['Times New Roman']\n",
    "\n",
    "RocCurveDisplay.from_estimator(model_rfc, X_test, y_test, color = 'orangered')\n",
    "x = np.linspace(0, 1, 100)\n",
    "plt.plot(x, x, 'k--', linewidth = 1)\n",
    "plt.title('ROC Curve for RFC', fontsize = 15)\n",
    "plt.axis('square')\n",
    "plt.xlim()\n",
    "plt.xticks(fontsize = 15)\n",
    "plt.yticks(fontsize = 15)\n",
    "plt.xlabel('False Positive Rate', fontsize = 15)\n",
    "plt.ylabel('True Positive Rate',fontsize = 15)\n",
    "fontdict = {'family': 'Times New Roman',\n",
    "            'size': 12}\n",
    "            #'style': 'italic'}\n",
    "plt.legend(prop=fontdict, loc = 'upper left')\n",
    "plt.savefig('r4.png', dpi = 300)\n",
    "#plt.show()"
   ]
  },
  {
   "cell_type": "markdown",
   "id": "9375268b-abfd-4c0b-8bd8-035531a25e81",
   "metadata": {},
   "source": [
    "### 外部数据测试external data"
   ]
  },
  {
   "cell_type": "code",
   "execution_count": 30,
   "id": "65ef7611-e0c5-4b1e-855b-b56e823a9ceb",
   "metadata": {},
   "outputs": [
    {
     "data": {
      "text/html": [
       "<div>\n",
       "<style scoped>\n",
       "    .dataframe tbody tr th:only-of-type {\n",
       "        vertical-align: middle;\n",
       "    }\n",
       "\n",
       "    .dataframe tbody tr th {\n",
       "        vertical-align: top;\n",
       "    }\n",
       "\n",
       "    .dataframe thead th {\n",
       "        text-align: right;\n",
       "    }\n",
       "</style>\n",
       "<table border=\"1\" class=\"dataframe\">\n",
       "  <thead>\n",
       "    <tr style=\"text-align: right;\">\n",
       "      <th></th>\n",
       "      <th>Formula</th>\n",
       "      <th>SGnumber</th>\n",
       "      <th>Magmom</th>\n",
       "      <th>Magnetic</th>\n",
       "    </tr>\n",
       "  </thead>\n",
       "  <tbody>\n",
       "    <tr>\n",
       "      <th>209</th>\n",
       "      <td>CrI3</td>\n",
       "      <td>162</td>\n",
       "      <td>6.001232</td>\n",
       "      <td>True</td>\n",
       "    </tr>\n",
       "    <tr>\n",
       "      <th>4955</th>\n",
       "      <td>CrGeTe3</td>\n",
       "      <td>162</td>\n",
       "      <td>6.002313</td>\n",
       "      <td>True</td>\n",
       "    </tr>\n",
       "  </tbody>\n",
       "</table>\n",
       "</div>"
      ],
      "text/plain": [
       "      Formula  SGnumber    Magmom  Magnetic\n",
       "209      CrI3       162  6.001232      True\n",
       "4955  CrGeTe3       162  6.002313      True"
      ]
     },
     "execution_count": 30,
     "metadata": {},
     "output_type": "execute_result"
    }
   ],
   "source": [
    "df_ex = pd.read_csv('testset0.csv', index_col = 0)\n",
    "df_ex.head(2)"
   ]
  },
  {
   "cell_type": "code",
   "execution_count": 31,
   "id": "9704136e-4898-4fab-b7ce-6fba41e502a0",
   "metadata": {},
   "outputs": [
    {
     "data": {
      "text/html": [
       "<div>\n",
       "<style scoped>\n",
       "    .dataframe tbody tr th:only-of-type {\n",
       "        vertical-align: middle;\n",
       "    }\n",
       "\n",
       "    .dataframe tbody tr th {\n",
       "        vertical-align: top;\n",
       "    }\n",
       "\n",
       "    .dataframe thead th {\n",
       "        text-align: right;\n",
       "    }\n",
       "</style>\n",
       "<table border=\"1\" class=\"dataframe\">\n",
       "  <thead>\n",
       "    <tr style=\"text-align: right;\">\n",
       "      <th></th>\n",
       "      <th>Formula</th>\n",
       "      <th>SGnumber</th>\n",
       "      <th>Magmom</th>\n",
       "      <th>Magnetic</th>\n",
       "    </tr>\n",
       "  </thead>\n",
       "  <tbody>\n",
       "    <tr>\n",
       "      <th>209</th>\n",
       "      <td>CrI3</td>\n",
       "      <td>162</td>\n",
       "      <td>6.001</td>\n",
       "      <td>True</td>\n",
       "    </tr>\n",
       "    <tr>\n",
       "      <th>4955</th>\n",
       "      <td>CrGeTe3</td>\n",
       "      <td>162</td>\n",
       "      <td>6.002</td>\n",
       "      <td>True</td>\n",
       "    </tr>\n",
       "  </tbody>\n",
       "</table>\n",
       "</div>"
      ],
      "text/plain": [
       "      Formula  SGnumber  Magmom  Magnetic\n",
       "209      CrI3       162   6.001      True\n",
       "4955  CrGeTe3       162   6.002      True"
      ]
     },
     "execution_count": 31,
     "metadata": {},
     "output_type": "execute_result"
    }
   ],
   "source": [
    "df_ex['Magmom'] = df_ex['Magmom'].round(3)\n",
    "df_ex.head(2)"
   ]
  },
  {
   "cell_type": "code",
   "execution_count": 32,
   "id": "f2627062-8efa-43c9-b371-a9ed95edc9e4",
   "metadata": {},
   "outputs": [
    {
     "data": {
      "application/vnd.jupyter.widget-view+json": {
       "model_id": "dd9e6e838ecf483e9ff363cb2d21f55f",
       "version_major": 2,
       "version_minor": 0
      },
      "text/plain": [
       "StrToComposition:   0%|          | 0/10 [00:00<?, ?it/s]"
      ]
     },
     "metadata": {},
     "output_type": "display_data"
    },
    {
     "data": {
      "application/vnd.jupyter.widget-view+json": {
       "model_id": "d765e9ce4e404e95933c8997ef792823",
       "version_major": 2,
       "version_minor": 0
      },
      "text/plain": [
       "CompositionToOxidComposition:   0%|          | 0/10 [00:00<?, ?it/s]"
      ]
     },
     "metadata": {},
     "output_type": "display_data"
    },
    {
     "data": {
      "application/vnd.jupyter.widget-view+json": {
       "model_id": "bfb717a09d844d6ea32fab5c1e9db4cf",
       "version_major": 2,
       "version_minor": 0
      },
      "text/plain": [
       "OxidationStates:   0%|          | 0/10 [00:00<?, ?it/s]"
      ]
     },
     "metadata": {},
     "output_type": "display_data"
    },
    {
     "data": {
      "application/vnd.jupyter.widget-view+json": {
       "model_id": "dbe70973be7d4066b643355bb39f4282",
       "version_major": 2,
       "version_minor": 0
      },
      "text/plain": [
       "ElementProperty:   0%|          | 0/10 [00:00<?, ?it/s]"
      ]
     },
     "metadata": {},
     "output_type": "display_data"
    },
    {
     "data": {
      "text/html": [
       "<div>\n",
       "<style scoped>\n",
       "    .dataframe tbody tr th:only-of-type {\n",
       "        vertical-align: middle;\n",
       "    }\n",
       "\n",
       "    .dataframe tbody tr th {\n",
       "        vertical-align: top;\n",
       "    }\n",
       "\n",
       "    .dataframe thead th {\n",
       "        text-align: right;\n",
       "    }\n",
       "</style>\n",
       "<table border=\"1\" class=\"dataframe\">\n",
       "  <thead>\n",
       "    <tr style=\"text-align: right;\">\n",
       "      <th></th>\n",
       "      <th>Formula</th>\n",
       "      <th>SGnumber</th>\n",
       "      <th>Magmom</th>\n",
       "      <th>Magnetic</th>\n",
       "      <th>composition</th>\n",
       "      <th>composition_oxid</th>\n",
       "      <th>minimum oxidation state</th>\n",
       "      <th>maximum oxidation state</th>\n",
       "      <th>range oxidation state</th>\n",
       "      <th>std_dev oxidation state</th>\n",
       "      <th>...</th>\n",
       "      <th>MagpieData range GSmagmom</th>\n",
       "      <th>MagpieData mean GSmagmom</th>\n",
       "      <th>MagpieData avg_dev GSmagmom</th>\n",
       "      <th>MagpieData mode GSmagmom</th>\n",
       "      <th>MagpieData minimum SpaceGroupNumber</th>\n",
       "      <th>MagpieData maximum SpaceGroupNumber</th>\n",
       "      <th>MagpieData range SpaceGroupNumber</th>\n",
       "      <th>MagpieData mean SpaceGroupNumber</th>\n",
       "      <th>MagpieData avg_dev SpaceGroupNumber</th>\n",
       "      <th>MagpieData mode SpaceGroupNumber</th>\n",
       "    </tr>\n",
       "  </thead>\n",
       "  <tbody>\n",
       "    <tr>\n",
       "      <th>209</th>\n",
       "      <td>CrI3</td>\n",
       "      <td>162</td>\n",
       "      <td>6.001</td>\n",
       "      <td>True</td>\n",
       "      <td>(Cr, I)</td>\n",
       "      <td>(Cr3+, I-)</td>\n",
       "      <td>-1</td>\n",
       "      <td>3</td>\n",
       "      <td>4</td>\n",
       "      <td>2.828427</td>\n",
       "      <td>...</td>\n",
       "      <td>0.000000</td>\n",
       "      <td>0.000000</td>\n",
       "      <td>0.000000</td>\n",
       "      <td>0.0</td>\n",
       "      <td>64.0</td>\n",
       "      <td>229.0</td>\n",
       "      <td>165.0</td>\n",
       "      <td>105.250000</td>\n",
       "      <td>61.875000</td>\n",
       "      <td>64.0</td>\n",
       "    </tr>\n",
       "    <tr>\n",
       "      <th>4955</th>\n",
       "      <td>CrGeTe3</td>\n",
       "      <td>162</td>\n",
       "      <td>6.002</td>\n",
       "      <td>True</td>\n",
       "      <td>(Cr, Ge, Te)</td>\n",
       "      <td>(Cr2+, Ge4+, Te2-)</td>\n",
       "      <td>-2</td>\n",
       "      <td>4</td>\n",
       "      <td>6</td>\n",
       "      <td>3.380617</td>\n",
       "      <td>...</td>\n",
       "      <td>0.000000</td>\n",
       "      <td>0.000000</td>\n",
       "      <td>0.000000</td>\n",
       "      <td>0.0</td>\n",
       "      <td>152.0</td>\n",
       "      <td>229.0</td>\n",
       "      <td>77.0</td>\n",
       "      <td>182.000000</td>\n",
       "      <td>36.000000</td>\n",
       "      <td>152.0</td>\n",
       "    </tr>\n",
       "    <tr>\n",
       "      <th>2108</th>\n",
       "      <td>PrTe3</td>\n",
       "      <td>191</td>\n",
       "      <td>-0.000</td>\n",
       "      <td>False</td>\n",
       "      <td>(Pr, Te)</td>\n",
       "      <td>(Pr4+, Te2-, Te-)</td>\n",
       "      <td>-2</td>\n",
       "      <td>4</td>\n",
       "      <td>6</td>\n",
       "      <td>2.966479</td>\n",
       "      <td>...</td>\n",
       "      <td>0.000000</td>\n",
       "      <td>0.000000</td>\n",
       "      <td>0.000000</td>\n",
       "      <td>0.0</td>\n",
       "      <td>152.0</td>\n",
       "      <td>194.0</td>\n",
       "      <td>42.0</td>\n",
       "      <td>162.500000</td>\n",
       "      <td>15.750000</td>\n",
       "      <td>152.0</td>\n",
       "    </tr>\n",
       "    <tr>\n",
       "      <th>3969</th>\n",
       "      <td>TiPb9O11</td>\n",
       "      <td>75</td>\n",
       "      <td>0.000</td>\n",
       "      <td>False</td>\n",
       "      <td>(Ti, Pb, O)</td>\n",
       "      <td>(Ti4+, Pb2+, O2-)</td>\n",
       "      <td>-2</td>\n",
       "      <td>4</td>\n",
       "      <td>6</td>\n",
       "      <td>2.910428</td>\n",
       "      <td>...</td>\n",
       "      <td>0.000023</td>\n",
       "      <td>0.000001</td>\n",
       "      <td>0.000002</td>\n",
       "      <td>0.0</td>\n",
       "      <td>12.0</td>\n",
       "      <td>225.0</td>\n",
       "      <td>213.0</td>\n",
       "      <td>111.952381</td>\n",
       "      <td>104.712018</td>\n",
       "      <td>12.0</td>\n",
       "    </tr>\n",
       "    <tr>\n",
       "      <th>1691</th>\n",
       "      <td>TaSe</td>\n",
       "      <td>129</td>\n",
       "      <td>0.000</td>\n",
       "      <td>False</td>\n",
       "      <td>(Ta, Se)</td>\n",
       "      <td>(Ta0+, Se0+)</td>\n",
       "      <td>0</td>\n",
       "      <td>0</td>\n",
       "      <td>0</td>\n",
       "      <td>0.000000</td>\n",
       "      <td>...</td>\n",
       "      <td>0.000000</td>\n",
       "      <td>0.000000</td>\n",
       "      <td>0.000000</td>\n",
       "      <td>0.0</td>\n",
       "      <td>14.0</td>\n",
       "      <td>229.0</td>\n",
       "      <td>215.0</td>\n",
       "      <td>121.500000</td>\n",
       "      <td>107.500000</td>\n",
       "      <td>14.0</td>\n",
       "    </tr>\n",
       "  </tbody>\n",
       "</table>\n",
       "<p>5 rows × 142 columns</p>\n",
       "</div>"
      ],
      "text/plain": [
       "       Formula  SGnumber  Magmom  Magnetic   composition    composition_oxid  \\\n",
       "209       CrI3       162   6.001      True       (Cr, I)          (Cr3+, I-)   \n",
       "4955   CrGeTe3       162   6.002      True  (Cr, Ge, Te)  (Cr2+, Ge4+, Te2-)   \n",
       "2108     PrTe3       191  -0.000     False      (Pr, Te)   (Pr4+, Te2-, Te-)   \n",
       "3969  TiPb9O11        75   0.000     False   (Ti, Pb, O)   (Ti4+, Pb2+, O2-)   \n",
       "1691      TaSe       129   0.000     False      (Ta, Se)        (Ta0+, Se0+)   \n",
       "\n",
       "      minimum oxidation state  maximum oxidation state  range oxidation state  \\\n",
       "209                        -1                        3                      4   \n",
       "4955                       -2                        4                      6   \n",
       "2108                       -2                        4                      6   \n",
       "3969                       -2                        4                      6   \n",
       "1691                        0                        0                      0   \n",
       "\n",
       "      std_dev oxidation state  ...  MagpieData range GSmagmom  \\\n",
       "209                  2.828427  ...                   0.000000   \n",
       "4955                 3.380617  ...                   0.000000   \n",
       "2108                 2.966479  ...                   0.000000   \n",
       "3969                 2.910428  ...                   0.000023   \n",
       "1691                 0.000000  ...                   0.000000   \n",
       "\n",
       "      MagpieData mean GSmagmom  MagpieData avg_dev GSmagmom  \\\n",
       "209                   0.000000                     0.000000   \n",
       "4955                  0.000000                     0.000000   \n",
       "2108                  0.000000                     0.000000   \n",
       "3969                  0.000001                     0.000002   \n",
       "1691                  0.000000                     0.000000   \n",
       "\n",
       "      MagpieData mode GSmagmom  MagpieData minimum SpaceGroupNumber  \\\n",
       "209                        0.0                                 64.0   \n",
       "4955                       0.0                                152.0   \n",
       "2108                       0.0                                152.0   \n",
       "3969                       0.0                                 12.0   \n",
       "1691                       0.0                                 14.0   \n",
       "\n",
       "      MagpieData maximum SpaceGroupNumber  MagpieData range SpaceGroupNumber  \\\n",
       "209                                 229.0                              165.0   \n",
       "4955                                229.0                               77.0   \n",
       "2108                                194.0                               42.0   \n",
       "3969                                225.0                              213.0   \n",
       "1691                                229.0                              215.0   \n",
       "\n",
       "      MagpieData mean SpaceGroupNumber  MagpieData avg_dev SpaceGroupNumber  \\\n",
       "209                         105.250000                            61.875000   \n",
       "4955                        182.000000                            36.000000   \n",
       "2108                        162.500000                            15.750000   \n",
       "3969                        111.952381                           104.712018   \n",
       "1691                        121.500000                           107.500000   \n",
       "\n",
       "      MagpieData mode SpaceGroupNumber  \n",
       "209                               64.0  \n",
       "4955                             152.0  \n",
       "2108                             152.0  \n",
       "3969                              12.0  \n",
       "1691                              14.0  \n",
       "\n",
       "[5 rows x 142 columns]"
      ]
     },
     "execution_count": 32,
     "metadata": {},
     "output_type": "execute_result"
    }
   ],
   "source": [
    "df_ex = StrToComposition().featurize_dataframe(df_ex, 'Formula')\n",
    "df_ex = CompositionToOxidComposition().featurize_dataframe(df_ex, 'composition')\n",
    "df_ex = OxidationStates().featurize_dataframe(df_ex, 'composition_oxid')\n",
    "ep_feat = ElementProperty.from_preset(preset_name='magpie')\n",
    "df_ex = ep_feat.featurize_dataframe(df_ex, col_id = 'composition')\n",
    "df_ex.head()"
   ]
  },
  {
   "cell_type": "code",
   "execution_count": 33,
   "id": "71323612-a1ec-409f-81ba-60169b345b87",
   "metadata": {},
   "outputs": [],
   "source": [
    "excluded = ['Formula', 'Magmom', 'composition', 'composition_oxid', 'Magnetic']\n",
    "X_validation = df_ex.drop(excluded, axis = 1)\n",
    "X_validation\n",
    "y_validation = df_ex['Magnetic'].values"
   ]
  },
  {
   "cell_type": "code",
   "execution_count": 34,
   "id": "2120cdb4-c960-4a59-a52c-6ca4c3db6a26",
   "metadata": {},
   "outputs": [
    {
     "data": {
      "text/plain": [
       "array([1, 1, 1, 0, 0, 0, 0, 1, 0, 0], dtype=uint8)"
      ]
     },
     "execution_count": 34,
     "metadata": {},
     "output_type": "execute_result"
    }
   ],
   "source": [
    "y_predv = model_rfc.predict(X_validation)\n",
    "y_predv"
   ]
  },
  {
   "cell_type": "code",
   "execution_count": null,
   "id": "db1de0f4-15d8-4fd8-8515-718e649649ae",
   "metadata": {},
   "outputs": [],
   "source": []
  }
 ],
 "metadata": {
  "kernelspec": {
   "display_name": "Python 3 (ipykernel)",
   "language": "python",
   "name": "python3"
  },
  "language_info": {
   "codemirror_mode": {
    "name": "ipython",
    "version": 3
   },
   "file_extension": ".py",
   "mimetype": "text/x-python",
   "name": "python",
   "nbconvert_exporter": "python",
   "pygments_lexer": "ipython3",
   "version": "3.8.8"
  }
 },
 "nbformat": 4,
 "nbformat_minor": 5
}
