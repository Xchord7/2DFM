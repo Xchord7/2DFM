{
 "cells": [
  {
   "cell_type": "code",
   "execution_count": 1,
   "id": "7eade2cf-a5ff-4152-a7e6-e9897a23f0a3",
   "metadata": {},
   "outputs": [
    {
     "data": {
      "text/html": [
       "<div>\n",
       "<style scoped>\n",
       "    .dataframe tbody tr th:only-of-type {\n",
       "        vertical-align: middle;\n",
       "    }\n",
       "\n",
       "    .dataframe tbody tr th {\n",
       "        vertical-align: top;\n",
       "    }\n",
       "\n",
       "    .dataframe thead th {\n",
       "        text-align: right;\n",
       "    }\n",
       "</style>\n",
       "<table border=\"1\" class=\"dataframe\">\n",
       "  <thead>\n",
       "    <tr style=\"text-align: right;\">\n",
       "      <th></th>\n",
       "      <th>ID</th>\n",
       "      <th>Formula</th>\n",
       "      <th>order</th>\n",
       "      <th>d</th>\n",
       "      <th>TM-atom</th>\n",
       "      <th>CO-atom</th>\n",
       "      <th>Spin-Magmom</th>\n",
       "      <th>TM-IonicRadius</th>\n",
       "      <th>CO-IonicRadius</th>\n",
       "      <th>Sum-IonicRadius</th>\n",
       "      <th>...</th>\n",
       "      <th>ACSF_11</th>\n",
       "      <th>ACSF_12</th>\n",
       "      <th>ACSF_13</th>\n",
       "      <th>ACSF_14</th>\n",
       "      <th>ACSF_15</th>\n",
       "      <th>ACSF_16</th>\n",
       "      <th>ACSF_17</th>\n",
       "      <th>ACSF_18</th>\n",
       "      <th>ACSF_19</th>\n",
       "      <th>ACSF_20</th>\n",
       "    </tr>\n",
       "  </thead>\n",
       "  <tbody>\n",
       "    <tr>\n",
       "      <th>0</th>\n",
       "      <td>4</td>\n",
       "      <td>Fe4S8</td>\n",
       "      <td>1</td>\n",
       "      <td>6</td>\n",
       "      <td>Fe</td>\n",
       "      <td>S</td>\n",
       "      <td>4.898979</td>\n",
       "      <td>63.0</td>\n",
       "      <td>184.0</td>\n",
       "      <td>247.0</td>\n",
       "      <td>...</td>\n",
       "      <td>0.000</td>\n",
       "      <td>0.000</td>\n",
       "      <td>0.0</td>\n",
       "      <td>0.0</td>\n",
       "      <td>0.0</td>\n",
       "      <td>0.0</td>\n",
       "      <td>0.0</td>\n",
       "      <td>0.0</td>\n",
       "      <td>0.0</td>\n",
       "      <td>0.0</td>\n",
       "    </tr>\n",
       "    <tr>\n",
       "      <th>1</th>\n",
       "      <td>11</td>\n",
       "      <td>Ca2Mn2Si2</td>\n",
       "      <td>0</td>\n",
       "      <td>5</td>\n",
       "      <td>Mn</td>\n",
       "      <td>Si</td>\n",
       "      <td>5.916080</td>\n",
       "      <td>66.0</td>\n",
       "      <td>26.0</td>\n",
       "      <td>92.0</td>\n",
       "      <td>...</td>\n",
       "      <td>0.339</td>\n",
       "      <td>1.452</td>\n",
       "      <td>0.0</td>\n",
       "      <td>0.0</td>\n",
       "      <td>0.0</td>\n",
       "      <td>0.0</td>\n",
       "      <td>0.0</td>\n",
       "      <td>0.0</td>\n",
       "      <td>0.0</td>\n",
       "      <td>0.0</td>\n",
       "    </tr>\n",
       "  </tbody>\n",
       "</table>\n",
       "<p>2 rows × 45 columns</p>\n",
       "</div>"
      ],
      "text/plain": [
       "   ID    Formula  order  d TM-atom CO-atom  Spin-Magmom  TM-IonicRadius  \\\n",
       "0   4      Fe4S8      1  6      Fe       S     4.898979            63.0   \n",
       "1  11  Ca2Mn2Si2      0  5      Mn      Si     5.916080            66.0   \n",
       "\n",
       "   CO-IonicRadius  Sum-IonicRadius  ...  ACSF_11  ACSF_12  ACSF_13  ACSF_14  \\\n",
       "0           184.0            247.0  ...    0.000    0.000      0.0      0.0   \n",
       "1            26.0             92.0  ...    0.339    1.452      0.0      0.0   \n",
       "\n",
       "   ACSF_15  ACSF_16  ACSF_17  ACSF_18  ACSF_19  ACSF_20  \n",
       "0      0.0      0.0      0.0      0.0      0.0      0.0  \n",
       "1      0.0      0.0      0.0      0.0      0.0      0.0  \n",
       "\n",
       "[2 rows x 45 columns]"
      ]
     },
     "execution_count": 1,
     "metadata": {},
     "output_type": "execute_result"
    }
   ],
   "source": [
    "import numpy as np\n",
    "import pandas as pd\n",
    "\n",
    "data_606 = pd.read_csv('606sets.csv', index_col=False)\n",
    "data_acsf = pd.read_csv('acsf20new1.csv')\n",
    "\n",
    "data_ALL = data_606.join(data_acsf)\n",
    "data_ALL.head(2)"
   ]
  },
  {
   "cell_type": "code",
   "execution_count": 2,
   "id": "77cc6a0b-c582-4847-827d-86bb853f6135",
   "metadata": {},
   "outputs": [],
   "source": [
    "from sklearn.model_selection import train_test_split\n",
    "from sklearn.tree import DecisionTreeClassifier\n",
    "from sklearn.model_selection import KFold, StratifiedKFold\n",
    "from sklearn.metrics import mean_squared_error\n",
    "from sklearn.ensemble import RandomForestClassifier\n",
    "from sklearn.metrics import cohen_kappa_score\n",
    "from sklearn.metrics import plot_roc_curve\n",
    "from sklearn.linear_model import LogisticRegression\n",
    "from sklearn.model_selection import GridSearchCV"
   ]
  },
  {
   "cell_type": "code",
   "execution_count": 3,
   "id": "7c996019-3f78-4f65-ab2f-9bd224f489ed",
   "metadata": {},
   "outputs": [],
   "source": [
    "y = data_ALL['order'].values\n",
    "excluded = ['ID', 'Formula', 'order', 'TM-atom', 'CO-atom']\n",
    "X = data_ALL.drop(excluded, axis = 1)"
   ]
  },
  {
   "cell_type": "code",
   "execution_count": 4,
   "id": "4277b21b-cfaf-4f9d-8575-48aa5cf22d69",
   "metadata": {},
   "outputs": [],
   "source": [
    "X_train, X_test, y_train, y_test = train_test_split(X, y, stratify = y, \n",
    "                                                    test_size = 0.2,\n",
    "                                                    random_state = 28)"
   ]
  },
  {
   "cell_type": "code",
   "execution_count": 5,
   "id": "9839bd03-cff4-41e5-8da5-a10528c22b2d",
   "metadata": {},
   "outputs": [
    {
     "data": {
      "text/plain": [
       "0.9016393442622951"
      ]
     },
     "execution_count": 5,
     "metadata": {},
     "output_type": "execute_result"
    }
   ],
   "source": [
    "model_rfc = RandomForestClassifier(n_estimators = 300, max_features ='sqrt', random_state=30)\n",
    "model_rfc.fit(X_train, y_train)\n",
    "model_rfc.score(X_test, y_test)"
   ]
  },
  {
   "cell_type": "code",
   "execution_count": 6,
   "id": "f24a8421-6e1d-48d3-9503-361f7bb9158d",
   "metadata": {},
   "outputs": [
    {
     "data": {
      "text/plain": [
       "0    0\n",
       "1    1\n",
       "2    0\n",
       "3    0\n",
       "4    0\n",
       "Name: 1, dtype: uint8"
      ]
     },
     "execution_count": 6,
     "metadata": {},
     "output_type": "execute_result"
    }
   ],
   "source": [
    "y_train_dummy = pd.get_dummies(y_train)\n",
    "y_train_dummy\n",
    "y_train_dummy = y_train_dummy.iloc[:, 1]\n",
    "y_train_dummy.head(5)"
   ]
  },
  {
   "cell_type": "code",
   "execution_count": 7,
   "id": "99dce632-e00d-4c8c-b21f-cbe7f078e8d0",
   "metadata": {},
   "outputs": [],
   "source": [
    "#param_grid = {'n_estimators':(300, 400, 500),\n",
    "#              'max_features': range(15, 25),\n",
    "#              'min_samples_split': (2, 3, 4)}\n",
    "#kfold = StratifiedKFold(n_splits = 10, shuffle=True,\n",
    "#                        random_state = 1)\n",
    "#model_kf = GridSearchCV(RandomForestClassifier(random_state = 321),\n",
    "#                     param_grid, cv = kfold)"
   ]
  },
  {
   "cell_type": "code",
   "execution_count": 8,
   "id": "ccc50984-0d38-4f7f-bc0d-0012583ac695",
   "metadata": {},
   "outputs": [],
   "source": [
    "#model_kf.fit(X_train, y_train_dummy)"
   ]
  },
  {
   "cell_type": "code",
   "execution_count": 9,
   "id": "589a217c-3a9c-4bf9-864b-d10bf8ec9fd9",
   "metadata": {},
   "outputs": [],
   "source": [
    "#model_kf.best_params_"
   ]
  },
  {
   "cell_type": "code",
   "execution_count": 10,
   "id": "dce09f36-0fa5-4ebf-a41b-4ae2fc36da34",
   "metadata": {},
   "outputs": [],
   "source": [
    "#model_kf.best_score_"
   ]
  },
  {
   "cell_type": "code",
   "execution_count": 11,
   "id": "16967a0f-6a49-41a4-af55-fa81f5c49d12",
   "metadata": {},
   "outputs": [],
   "source": [
    "#model_kf.best_estimator_"
   ]
  },
  {
   "cell_type": "code",
   "execution_count": 12,
   "id": "842ea4a2-3c67-4118-8fbb-370fb27db8e1",
   "metadata": {},
   "outputs": [
    {
     "data": {
      "text/plain": [
       "0.9180327868852459"
      ]
     },
     "execution_count": 12,
     "metadata": {},
     "output_type": "execute_result"
    }
   ],
   "source": [
    "model_rfc = RandomForestClassifier(n_estimators=500, \n",
    "                                   random_state = 343,\n",
    "                                   max_features = 15, \n",
    "                                   min_samples_split = 2)\n",
    "\n",
    "model_rfc.fit(X_train, y_train_dummy)\n",
    "model_rfc.score(X_test, y_test)"
   ]
  },
  {
   "cell_type": "code",
   "execution_count": 13,
   "id": "652ea763-3d9f-4245-bae1-8362b05adde3",
   "metadata": {},
   "outputs": [
    {
     "data": {
      "text/plain": [
       "array([6.29454059e-03, 5.44768361e-03, 7.09780491e-03, 1.80234920e-01,\n",
       "       3.18966175e-01, 7.07353566e-03, 1.33653724e-02, 2.54218751e-02,\n",
       "       1.23304402e-02, 3.71211746e-02, 1.20006305e-02, 5.01521138e-03,\n",
       "       8.98420870e-02, 4.34637434e-02, 5.19317221e-03, 3.28132470e-02,\n",
       "       1.30570062e-02, 9.51604784e-03, 1.75770022e-02, 1.93488973e-02,\n",
       "       1.50733956e-02, 1.13250001e-02, 1.27574034e-02, 1.84981725e-02,\n",
       "       1.55030321e-02, 1.10558702e-02, 1.49296222e-02, 1.31071266e-02,\n",
       "       9.89284434e-03, 3.22142109e-03, 4.46282347e-03, 8.43297853e-03,\n",
       "       1.24288194e-04, 8.64629781e-05, 1.72162682e-04, 1.76829028e-04,\n",
       "       0.00000000e+00, 0.00000000e+00, 0.00000000e+00, 0.00000000e+00])"
      ]
     },
     "execution_count": 13,
     "metadata": {},
     "output_type": "execute_result"
    }
   ],
   "source": [
    "model_rfc.feature_importances_"
   ]
  },
  {
   "cell_type": "code",
   "execution_count": 14,
   "id": "b74d7466-98d3-42d3-87f0-d7dd594406e8",
   "metadata": {},
   "outputs": [
    {
     "data": {
      "image/png": "[encoded data removed]",
      "text/plain": [
       "<Figure size 500x500 with 1 Axes>"
      ]
     },
     "metadata": {},
     "output_type": "display_data"
    }
   ],
   "source": [
    "import matplotlib.pyplot as plt\n",
    "plt.rcParams['font.sans-serif']=['Times New Roman']\n",
    "sorted_index = model_rfc.feature_importances_.argsort()\n",
    "plt.figure(figsize = (5, 5))\n",
    "plt.barh(range(10),\n",
    "         model_rfc.feature_importances_[sorted_index][-10:],\n",
    "         color='orange', alpha = 0.8)\n",
    "plt.yticks(np.arange(10), X.columns[sorted_index][-10:])\n",
    "plt.xlabel('Feature Importance')\n",
    "plt.ylabel('Features')\n",
    "plt.title('Random Forest')\n",
    "plt.savefig('featuremodel2.png', dpi = 300, bbox_inches='tight')\n",
    "#plt.show()"
   ]
  },
  {
   "cell_type": "code",
   "execution_count": 16,
   "id": "5f6a867e-0dc2-4633-bf81-87bede476c9b",
   "metadata": {},
   "outputs": [
    {
     "data": {
      "text/plain": [
       "(122,)"
      ]
     },
     "execution_count": 16,
     "metadata": {},
     "output_type": "execute_result"
    }
   ],
   "source": [
    "y_pred = model_rfc.predict(X_test)\n",
    "y_pred.shape"
   ]
  },
  {
   "cell_type": "code",
   "execution_count": 17,
   "id": "1e5987c4-6f85-46f3-b6fc-f79b5dbaea1c",
   "metadata": {},
   "outputs": [
    {
     "name": "stdout",
     "output_type": "stream",
     "text": [
      "[[46  4]\n",
      " [ 6 66]]\n"
     ]
    },
    {
     "data": {
      "image/png": "[encoded data removed]",
      "text/plain": [
       "<Figure size 480x480 with 2 Axes>"
      ]
     },
     "metadata": {},
     "output_type": "display_data"
    }
   ],
   "source": [
    "import matplotlib.pyplot as plt\n",
    "plt.rcParams['font.sans-serif']=['Times New Roman']\n",
    "from sklearn.metrics import confusion_matrix\n",
    "confusion_matrix = confusion_matrix(y_test, y_pred)\n",
    "print(confusion_matrix)\n",
    "plt.matshow(confusion_matrix)\n",
    "plt.title('Confusion matrix',fontsize = 20)\n",
    "plt.xticks(fontsize = 16)\n",
    "plt.yticks(fontsize = 16)\n",
    "cb = plt.colorbar()\n",
    "cb.ax.tick_params(labelsize=16)\n",
    "plt.ylabel('True label', fontsize = 20)\n",
    "plt.xlabel('Predicted label',fontsize = 20)\n",
    "plt.savefig('c4.png', dpi = 300)\n",
    "#plt.show()"
   ]
  },
  {
   "cell_type": "code",
   "execution_count": 18,
   "id": "7faed4c6-7315-4e65-8398-a39de49db5db",
   "metadata": {},
   "outputs": [
    {
     "data": {
      "text/html": [
       "<div>\n",
       "<style scoped>\n",
       "    .dataframe tbody tr th:only-of-type {\n",
       "        vertical-align: middle;\n",
       "    }\n",
       "\n",
       "    .dataframe tbody tr th {\n",
       "        vertical-align: top;\n",
       "    }\n",
       "\n",
       "    .dataframe thead th {\n",
       "        text-align: right;\n",
       "    }\n",
       "</style>\n",
       "<table border=\"1\" class=\"dataframe\">\n",
       "  <thead>\n",
       "    <tr style=\"text-align: right;\">\n",
       "      <th>Predicted</th>\n",
       "      <th>0</th>\n",
       "      <th>1</th>\n",
       "    </tr>\n",
       "    <tr>\n",
       "      <th>Actual</th>\n",
       "      <th></th>\n",
       "      <th></th>\n",
       "    </tr>\n",
       "  </thead>\n",
       "  <tbody>\n",
       "    <tr>\n",
       "      <th>0</th>\n",
       "      <td>46</td>\n",
       "      <td>4</td>\n",
       "    </tr>\n",
       "    <tr>\n",
       "      <th>1</th>\n",
       "      <td>6</td>\n",
       "      <td>66</td>\n",
       "    </tr>\n",
       "  </tbody>\n",
       "</table>\n",
       "</div>"
      ],
      "text/plain": [
       "Predicted   0   1\n",
       "Actual           \n",
       "0          46   4\n",
       "1           6  66"
      ]
     },
     "execution_count": 18,
     "metadata": {},
     "output_type": "execute_result"
    }
   ],
   "source": [
    "#from sklearn.inspection import plot_partial_dependence\n",
    "table = pd.crosstab(y_test, y_pred, rownames = ['Actual'], colnames = ['Predicted'])\n",
    "table"
   ]
  },
  {
   "cell_type": "code",
   "execution_count": 19,
   "id": "3a5c6d4e-5b5b-40a5-b7e1-e53b913c1b2e",
   "metadata": {},
   "outputs": [
    {
     "data": {
      "text/plain": [
       "0.9180327868852459"
      ]
     },
     "execution_count": 19,
     "metadata": {},
     "output_type": "execute_result"
    }
   ],
   "source": [
    "table = np.array(table)\n",
    "Accuracy = (table[0, 0] + table[1,1]) /np.sum(table)\n",
    "Accuracy"
   ]
  },
  {
   "cell_type": "code",
   "execution_count": 20,
   "id": "f0d4f23c-9b49-4f44-9c73-718b3d8b1fcb",
   "metadata": {},
   "outputs": [
    {
     "name": "stdout",
     "output_type": "stream",
     "text": [
      "Precision: 0.943\n",
      "0.917\n",
      "0.92\n",
      "0.9428571428571428\n"
     ]
    },
    {
     "data": {
      "text/plain": [
       "0.8315847598012148"
      ]
     },
     "execution_count": 20,
     "metadata": {},
     "output_type": "execute_result"
    }
   ],
   "source": [
    "Precision = table[1, 1]/(table[1, 1]+table[0, 1])\n",
    "print('Precision:', Precision.round(3))\n",
    "\n",
    "Sensitivity = table[1, 1]/(table[1, 0] + table[1,1])\n",
    "print(Sensitivity.round(3))\n",
    "\n",
    "Specificity = table[0, 0] /(table[0,0] + table[0, 1])\n",
    "print(Specificity)\n",
    "\n",
    "Recall = table[1, 1] /(table[0, 1] + table[1,1])\n",
    "print(Recall)\n",
    "\n",
    "cohen_kappa_score(y_test, y_pred)"
   ]
  },
  {
   "cell_type": "code",
   "execution_count": 21,
   "id": "a45ca240-cb36-43b0-8e13-194a8450c39b",
   "metadata": {},
   "outputs": [
    {
     "name": "stdout",
     "output_type": "stream",
     "text": [
      "0.9295774647887323\n"
     ]
    }
   ],
   "source": [
    "from sklearn.metrics import f1_score\n",
    "\n",
    "print(f1_score(y_test, y_pred)) "
   ]
  },
  {
   "cell_type": "code",
   "execution_count": 22,
   "id": "362b431e-be4f-4009-81b2-1648ced02c43",
   "metadata": {},
   "outputs": [
    {
     "data": {
      "image/png": "[encoded data removed]",
      "text/plain": [
       "<Figure size 640x480 with 1 Axes>"
      ]
     },
     "metadata": {},
     "output_type": "display_data"
    }
   ],
   "source": [
    "from sklearn.metrics import RocCurveDisplay\n",
    "plt.rcParams['font.sans-serif']=['Times New Roman']\n",
    "\n",
    "RocCurveDisplay.from_estimator(model_rfc, X_test, y_test, color = 'royalblue')\n",
    "x = np.linspace(0, 1, 100)\n",
    "plt.plot(x, x, 'k--', linewidth = 1)\n",
    "plt.title('ROC Curve for RFC', fontsize = 15)\n",
    "plt.axis('square')\n",
    "plt.xlim()\n",
    "plt.xticks(fontsize = 15)\n",
    "plt.yticks(fontsize = 15)\n",
    "plt.xlabel('False Positive Rate', fontsize = 15)\n",
    "plt.ylabel('True Positive Rate',fontsize = 15)\n",
    "fontdict = {'family': 'Times New Roman',\n",
    "            'size': 12}\n",
    "            #'style': 'italic'}\n",
    "plt.legend(prop=fontdict, loc = 'upper left')\n",
    "plt.savefig('r4.png', dpi = 300)\n",
    "#plt.show()"
   ]
  },
  {
   "cell_type": "code",
   "execution_count": null,
   "id": "518daa48-1b41-481a-96cc-2d4e96df5ce0",
   "metadata": {},
   "outputs": [],
   "source": []
  }
 ],
 "metadata": {
  "kernelspec": {
   "display_name": "Python 3 (ipykernel)",
   "language": "python",
   "name": "python3"
  },
  "language_info": {
   "codemirror_mode": {
    "name": "ipython",
    "version": 3
   },
   "file_extension": ".py",
   "mimetype": "text/x-python",
   "name": "python",
   "nbconvert_exporter": "python",
   "pygments_lexer": "ipython3",
   "version": "3.8.8"
  }
 },
 "nbformat": 4,
 "nbformat_minor": 5
}
