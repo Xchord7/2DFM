{
 "cells": [
  {
   "cell_type": "code",
   "execution_count": 1,
   "id": "16816254-df31-449c-a64c-430350d5511f",
   "metadata": {},
   "outputs": [],
   "source": [
    "import numpy as np\n",
    "import pandas as pd\n",
    "\n",
    "from sklearn.model_selection import train_test_split\n",
    "from sklearn.model_selection import KFold, StratifiedKFold\n",
    "from sklearn.metrics import mean_squared_error\n",
    "from sklearn.ensemble import RandomForestClassifier\n",
    "from sklearn.naive_bayes import GaussianNB\n",
    "from sklearn.neighbors import KNeighborsClassifier\n",
    "from sklearn.metrics import cohen_kappa_score\n",
    "from sklearn.metrics import plot_roc_curve\n",
    "from sklearn.model_selection import GridSearchCV\n",
    "\n",
    "data_606 = pd.read_csv('606sets.csv', index_col=False)\n",
    "data_acsf = pd.read_csv('acsf20new1.csv')\n",
    "\n",
    "data_ALL = data_606.join(data_acsf)\n",
    "#data_ALL.head(2)\n",
    "\n",
    "y = data_ALL['order'].values\n",
    "excluded = ['ID', 'Formula', 'order', 'TMatom', 'co-atoms']\n",
    "X = data_ALL.drop(excluded, axis = 1)\n",
    "\n",
    "X_train, X_test, y_train, y_test = train_test_split(X, y, stratify = y, \n",
    "                                                    test_size = 0.2,\n",
    "                                                    random_state = 57)"
   ]
  },
  {
   "cell_type": "code",
   "execution_count": 2,
   "id": "e4408fb4-4679-4da7-99b9-258ceab14a9a",
   "metadata": {},
   "outputs": [
    {
     "data": {
      "text/plain": [
       "0.9098360655737705"
      ]
     },
     "execution_count": 2,
     "metadata": {},
     "output_type": "execute_result"
    }
   ],
   "source": [
    "modelKNN = KNeighborsClassifier(n_neighbors=5)\n",
    "modelKNN.fit(X_train, y_train)\n",
    "modelKNN.score(X_test, y_test)"
   ]
  },
  {
   "cell_type": "code",
   "execution_count": 3,
   "id": "f5689900-bb77-4b78-a0ee-e670b52cddf6",
   "metadata": {},
   "outputs": [],
   "source": [
    "#param_grid = {'n_neighbors': np.arange(1, 11, 1),\n",
    "#              'weights' : ('uniform', 'distance'),\n",
    "#              'leaf_size': (20, 30, 40, 50)\n",
    "#              }\n",
    "#kfold = StratifiedKFold(n_splits = 10, shuffle=True,\n",
    "#                        random_state = 20)\n",
    "#model_knn = GridSearchCV(KNeighborsClassifier(),\n",
    "#                     param_grid, cv = kfold)\n",
    "\n",
    "#model_knn.fit(X_train, y_train)"
   ]
  },
  {
   "cell_type": "code",
   "execution_count": 4,
   "id": "41bec129-43c4-4475-9ab4-3eea9b974947",
   "metadata": {},
   "outputs": [],
   "source": [
    "#model_knn.score(X_test, y_test)"
   ]
  },
  {
   "cell_type": "code",
   "execution_count": 6,
   "id": "4a641987-e35b-44a1-bc8e-5f16f1f86fb9",
   "metadata": {},
   "outputs": [],
   "source": [
    "#model_knn.best_params_"
   ]
  },
  {
   "cell_type": "code",
   "execution_count": 7,
   "id": "742f752b-5ab6-4860-85f6-50ba42715fa2",
   "metadata": {},
   "outputs": [],
   "source": [
    "#model_knn.best_score_"
   ]
  },
  {
   "cell_type": "code",
   "execution_count": 8,
   "id": "129fbdb9-4745-48c9-8b89-04783ba59f26",
   "metadata": {},
   "outputs": [],
   "source": [
    "#model_knn.best_estimator_"
   ]
  },
  {
   "cell_type": "code",
   "execution_count": 9,
   "id": "8c3faec9-36d8-4e38-a124-5dfb65eeff30",
   "metadata": {},
   "outputs": [
    {
     "data": {
      "text/plain": [
       "0.9016393442622951"
      ]
     },
     "execution_count": 9,
     "metadata": {},
     "output_type": "execute_result"
    }
   ],
   "source": [
    "model_KNN = KNeighborsClassifier(leaf_size=20, n_neighbors=9, weights='distance')\n",
    "model_KNN.fit(X_train, y_train)\n",
    "model_KNN.score(X_test, y_test)"
   ]
  },
  {
   "cell_type": "code",
   "execution_count": 10,
   "id": "a32d82f5-1c33-4b2a-9f8b-c13efd8d00dc",
   "metadata": {},
   "outputs": [
    {
     "data": {
      "text/plain": [
       "(122,)"
      ]
     },
     "execution_count": 10,
     "metadata": {},
     "output_type": "execute_result"
    }
   ],
   "source": [
    "y_pred = model_KNN.predict(X_test)\n",
    "y_pred.shape"
   ]
  },
  {
   "cell_type": "code",
   "execution_count": 11,
   "id": "d7e660dd-3889-49b1-aa5d-d8e050cef0c7",
   "metadata": {},
   "outputs": [
    {
     "name": "stdout",
     "output_type": "stream",
     "text": [
      "[[45  5]\n",
      " [ 7 65]]\n"
     ]
    },
    {
     "data": {
      "image/png": "[encoded data removed]",
      "text/plain": [
       "<Figure size 480x480 with 2 Axes>"
      ]
     },
     "metadata": {},
     "output_type": "display_data"
    }
   ],
   "source": [
    "import matplotlib.pyplot as plt\n",
    "plt.rcParams['font.sans-serif']=['Times New Roman']\n",
    "from sklearn.metrics import confusion_matrix\n",
    "confusion_matrix = confusion_matrix(y_test, y_pred)\n",
    "print(confusion_matrix)\n",
    "plt.matshow(confusion_matrix)\n",
    "plt.title('Confusion matrix',fontsize = 20)\n",
    "plt.xticks(fontsize = 16)\n",
    "plt.yticks(fontsize = 16)\n",
    "cb = plt.colorbar()\n",
    "cb.ax.tick_params(labelsize=16)\n",
    "plt.ylabel('True label', fontsize = 20)\n",
    "plt.xlabel('Predicted label',fontsize = 20)\n",
    "plt.savefig('c3.png', dpi = 300)\n",
    "#plt.show()"
   ]
  },
  {
   "cell_type": "code",
   "execution_count": 12,
   "id": "84b1286f-23e3-41b3-ad63-32bec00665a4",
   "metadata": {},
   "outputs": [
    {
     "data": {
      "text/html": [
       "<div>\n",
       "<style scoped>\n",
       "    .dataframe tbody tr th:only-of-type {\n",
       "        vertical-align: middle;\n",
       "    }\n",
       "\n",
       "    .dataframe tbody tr th {\n",
       "        vertical-align: top;\n",
       "    }\n",
       "\n",
       "    .dataframe thead th {\n",
       "        text-align: right;\n",
       "    }\n",
       "</style>\n",
       "<table border=\"1\" class=\"dataframe\">\n",
       "  <thead>\n",
       "    <tr style=\"text-align: right;\">\n",
       "      <th>Predicted</th>\n",
       "      <th>0</th>\n",
       "      <th>1</th>\n",
       "    </tr>\n",
       "    <tr>\n",
       "      <th>Actual</th>\n",
       "      <th></th>\n",
       "      <th></th>\n",
       "    </tr>\n",
       "  </thead>\n",
       "  <tbody>\n",
       "    <tr>\n",
       "      <th>0</th>\n",
       "      <td>45</td>\n",
       "      <td>5</td>\n",
       "    </tr>\n",
       "    <tr>\n",
       "      <th>1</th>\n",
       "      <td>7</td>\n",
       "      <td>65</td>\n",
       "    </tr>\n",
       "  </tbody>\n",
       "</table>\n",
       "</div>"
      ],
      "text/plain": [
       "Predicted   0   1\n",
       "Actual           \n",
       "0          45   5\n",
       "1           7  65"
      ]
     },
     "execution_count": 12,
     "metadata": {},
     "output_type": "execute_result"
    }
   ],
   "source": [
    "#from sklearn.inspection import plot_partial_dependence\n",
    "table = pd.crosstab(y_test, y_pred, rownames = ['Actual'], colnames = ['Predicted'])\n",
    "table"
   ]
  },
  {
   "cell_type": "code",
   "execution_count": 13,
   "id": "5b32a27c-3eb0-415c-88cc-0b31c91d469d",
   "metadata": {},
   "outputs": [
    {
     "name": "stdout",
     "output_type": "stream",
     "text": [
      "0.9016393442622951\n",
      "0.09836065573770492\n"
     ]
    }
   ],
   "source": [
    "table = np.array(table)\n",
    "Accuracy = (table[0, 0] + table[1,1]) /np.sum(table)\n",
    "print(Accuracy)\n",
    "\n",
    "Error_rate = 1 - Accuracy\n",
    "print(Error_rate)"
   ]
  },
  {
   "cell_type": "code",
   "execution_count": 14,
   "id": "82711d34-1a43-4d56-93d7-1704506a2218",
   "metadata": {},
   "outputs": [
    {
     "name": "stdout",
     "output_type": "stream",
     "text": [
      "Precision: 0.9285714285714286\n",
      "0.9027777777777778\n",
      "0.9\n",
      "0.9285714285714286\n",
      "0.9154929577464788\n"
     ]
    },
    {
     "data": {
      "text/plain": [
       "0.7979017117614577"
      ]
     },
     "execution_count": 14,
     "metadata": {},
     "output_type": "execute_result"
    }
   ],
   "source": [
    "from sklearn.metrics import f1_score\n",
    "Precision = table[1, 1]/(table[1, 1]+table[0, 1])\n",
    "print('Precision:', Precision)\n",
    "\n",
    "Sensitivity = table[1, 1]/(table[1, 0] + table[1,1])\n",
    "print(Sensitivity)\n",
    "\n",
    "Specificity = table[0, 0] /(table[0,0] + table[0, 1])\n",
    "print(Specificity)\n",
    "\n",
    "Recall = table[1, 1] /(table[0, 1] + table[1,1])\n",
    "print(Recall)\n",
    "\n",
    "print(f1_score(y_test, y_pred))\n",
    "cohen_kappa_score(y_test, y_pred)"
   ]
  },
  {
   "cell_type": "code",
   "execution_count": 15,
   "id": "2e90c8ad-9d61-4b24-8289-827932efca43",
   "metadata": {},
   "outputs": [
    {
     "data": {
      "image/png": "[encoded data removed]",
      "text/plain": [
       "<Figure size 640x480 with 1 Axes>"
      ]
     },
     "metadata": {},
     "output_type": "display_data"
    }
   ],
   "source": [
    "from sklearn.metrics import RocCurveDisplay\n",
    "plt.rcParams['font.sans-serif']=['Times New Roman']\n",
    "\n",
    "RocCurveDisplay.from_estimator(model_KNN, X_test, y_test, color = 'deepskyblue')\n",
    "x = np.linspace(0, 1, 100)\n",
    "plt.plot(x, x, 'k--', linewidth = 1)\n",
    "plt.title('ROC Curve for KNN', fontsize = 15)\n",
    "plt.axis('square')\n",
    "plt.xlim()\n",
    "plt.xticks(fontsize = 15)\n",
    "plt.yticks(fontsize = 15)\n",
    "plt.xlabel('False Positive Rate', fontsize = 15)\n",
    "plt.ylabel('True Positive Rate',fontsize = 15)\n",
    "fontdict = {'family': 'Times New Roman',\n",
    "            'size': 12}\n",
    "            #'style': 'italic'}\n",
    "plt.legend(prop=fontdict, loc = 'upper left')\n",
    "plt.savefig('r3.png', dpi = 300)\n",
    "#plt.show()"
   ]
  },
  {
   "cell_type": "code",
   "execution_count": null,
   "id": "a981c150-528f-441b-89db-dd7b2b2c9a2d",
   "metadata": {},
   "outputs": [],
   "source": []
  }
 ],
 "metadata": {
  "kernelspec": {
   "display_name": "Python 3 (ipykernel)",
   "language": "python",
   "name": "python3"
  },
  "language_info": {
   "codemirror_mode": {
    "name": "ipython",
    "version": 3
   },
   "file_extension": ".py",
   "mimetype": "text/x-python",
   "name": "python",
   "nbconvert_exporter": "python",
   "pygments_lexer": "ipython3",
   "version": "3.8.8"
  }
 },
 "nbformat": 4,
 "nbformat_minor": 5
}
