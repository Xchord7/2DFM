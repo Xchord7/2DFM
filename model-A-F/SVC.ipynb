{
 "cells": [
  {
   "cell_type": "code",
   "execution_count": 1,
   "id": "2d6c277e-4f38-41ef-8035-b71c2e623059",
   "metadata": {},
   "outputs": [
    {
     "data": {
      "text/html": [
       "<div>\n",
       "<style scoped>\n",
       "    .dataframe tbody tr th:only-of-type {\n",
       "        vertical-align: middle;\n",
       "    }\n",
       "\n",
       "    .dataframe tbody tr th {\n",
       "        vertical-align: top;\n",
       "    }\n",
       "\n",
       "    .dataframe thead th {\n",
       "        text-align: right;\n",
       "    }\n",
       "</style>\n",
       "<table border=\"1\" class=\"dataframe\">\n",
       "  <thead>\n",
       "    <tr style=\"text-align: right;\">\n",
       "      <th></th>\n",
       "      <th>ID</th>\n",
       "      <th>Formula</th>\n",
       "      <th>order</th>\n",
       "      <th>d</th>\n",
       "      <th>TMatom</th>\n",
       "      <th>co-atoms</th>\n",
       "      <th>SpinMM</th>\n",
       "      <th>TM-ionicR</th>\n",
       "      <th>co-ionicR</th>\n",
       "      <th>Sum-ionicR</th>\n",
       "      <th>...</th>\n",
       "      <th>ACSF_11</th>\n",
       "      <th>ACSF_12</th>\n",
       "      <th>ACSF_13</th>\n",
       "      <th>ACSF_14</th>\n",
       "      <th>ACSF_15</th>\n",
       "      <th>ACSF_16</th>\n",
       "      <th>ACSF_17</th>\n",
       "      <th>ACSF_18</th>\n",
       "      <th>ACSF_19</th>\n",
       "      <th>ACSF_20</th>\n",
       "    </tr>\n",
       "  </thead>\n",
       "  <tbody>\n",
       "    <tr>\n",
       "      <th>0</th>\n",
       "      <td>4</td>\n",
       "      <td>Fe4S8</td>\n",
       "      <td>1</td>\n",
       "      <td>6</td>\n",
       "      <td>Fe</td>\n",
       "      <td>S</td>\n",
       "      <td>4.898979</td>\n",
       "      <td>63.0</td>\n",
       "      <td>184.0</td>\n",
       "      <td>247.0</td>\n",
       "      <td>...</td>\n",
       "      <td>0.000</td>\n",
       "      <td>0.000</td>\n",
       "      <td>0.0</td>\n",
       "      <td>0.0</td>\n",
       "      <td>0.0</td>\n",
       "      <td>0.0</td>\n",
       "      <td>0.0</td>\n",
       "      <td>0.0</td>\n",
       "      <td>0.0</td>\n",
       "      <td>0.0</td>\n",
       "    </tr>\n",
       "    <tr>\n",
       "      <th>1</th>\n",
       "      <td>11</td>\n",
       "      <td>Ca2Mn2Si2</td>\n",
       "      <td>0</td>\n",
       "      <td>5</td>\n",
       "      <td>Mn</td>\n",
       "      <td>Si</td>\n",
       "      <td>5.916080</td>\n",
       "      <td>66.0</td>\n",
       "      <td>26.0</td>\n",
       "      <td>92.0</td>\n",
       "      <td>...</td>\n",
       "      <td>0.339</td>\n",
       "      <td>1.452</td>\n",
       "      <td>0.0</td>\n",
       "      <td>0.0</td>\n",
       "      <td>0.0</td>\n",
       "      <td>0.0</td>\n",
       "      <td>0.0</td>\n",
       "      <td>0.0</td>\n",
       "      <td>0.0</td>\n",
       "      <td>0.0</td>\n",
       "    </tr>\n",
       "  </tbody>\n",
       "</table>\n",
       "<p>2 rows × 45 columns</p>\n",
       "</div>"
      ],
      "text/plain": [
       "   ID    Formula  order  d TMatom co-atoms    SpinMM  TM-ionicR  co-ionicR  \\\n",
       "0   4      Fe4S8      1  6     Fe        S  4.898979       63.0      184.0   \n",
       "1  11  Ca2Mn2Si2      0  5     Mn       Si  5.916080       66.0       26.0   \n",
       "\n",
       "   Sum-ionicR  ...  ACSF_11  ACSF_12  ACSF_13  ACSF_14  ACSF_15  ACSF_16  \\\n",
       "0       247.0  ...    0.000    0.000      0.0      0.0      0.0      0.0   \n",
       "1        92.0  ...    0.339    1.452      0.0      0.0      0.0      0.0   \n",
       "\n",
       "   ACSF_17  ACSF_18  ACSF_19  ACSF_20  \n",
       "0      0.0      0.0      0.0      0.0  \n",
       "1      0.0      0.0      0.0      0.0  \n",
       "\n",
       "[2 rows x 45 columns]"
      ]
     },
     "execution_count": 1,
     "metadata": {},
     "output_type": "execute_result"
    }
   ],
   "source": [
    "import numpy as np\n",
    "import pandas as pd\n",
    "\n",
    "data_606 = pd.read_csv('606sets.csv', index_col=False)\n",
    "data_acsf = pd.read_csv('acsf20new1.csv')\n",
    "\n",
    "data_ALL = data_606.join(data_acsf)\n",
    "data_ALL.head(2)"
   ]
  },
  {
   "cell_type": "code",
   "execution_count": 2,
   "id": "b63c5a6b-1142-43de-87cc-3f194f95e365",
   "metadata": {},
   "outputs": [],
   "source": [
    "from sklearn.model_selection import train_test_split\n",
    "from sklearn.model_selection import KFold, StratifiedKFold\n",
    "from sklearn.metrics import mean_squared_error\n",
    "from sklearn.svm import SVC\n",
    "from sklearn.metrics import cohen_kappa_score\n",
    "from sklearn.metrics import plot_roc_curve\n",
    "from sklearn.model_selection import GridSearchCV\n",
    "from sklearn.metrics import f1_score"
   ]
  },
  {
   "cell_type": "code",
   "execution_count": 3,
   "id": "df0c3986-d1a5-48e8-aaa8-48a1fef311ab",
   "metadata": {},
   "outputs": [],
   "source": [
    "y = data_ALL['order'].values\n",
    "excluded = ['ID', 'Formula', 'order', 'TMatom', 'co-atoms']\n",
    "X = data_ALL.drop(excluded, axis = 1)"
   ]
  },
  {
   "cell_type": "code",
   "execution_count": 4,
   "id": "3c5eebc9-635a-400e-8a00-288b636c7c8f",
   "metadata": {},
   "outputs": [],
   "source": [
    "X_train, X_test, y_train, y_test = train_test_split(X, y, stratify = y, \n",
    "                                                    test_size = 0.2,\n",
    "                                                    random_state = 38)"
   ]
  },
  {
   "cell_type": "code",
   "execution_count": 5,
   "id": "9fa71c46-91a8-41fb-94ae-a3133bdd461c",
   "metadata": {},
   "outputs": [
    {
     "data": {
      "text/html": [
       "<div>\n",
       "<style scoped>\n",
       "    .dataframe tbody tr th:only-of-type {\n",
       "        vertical-align: middle;\n",
       "    }\n",
       "\n",
       "    .dataframe tbody tr th {\n",
       "        vertical-align: top;\n",
       "    }\n",
       "\n",
       "    .dataframe thead th {\n",
       "        text-align: right;\n",
       "    }\n",
       "</style>\n",
       "<table border=\"1\" class=\"dataframe\">\n",
       "  <thead>\n",
       "    <tr style=\"text-align: right;\">\n",
       "      <th></th>\n",
       "      <th>d</th>\n",
       "      <th>SpinMM</th>\n",
       "      <th>TM-ionicR</th>\n",
       "      <th>co-ionicR</th>\n",
       "      <th>Sum-ionicR</th>\n",
       "      <th>TM-CVR</th>\n",
       "      <th>CO-CVR</th>\n",
       "      <th>Sum-CVR</th>\n",
       "      <th>TM-DP</th>\n",
       "      <th>CO-DP</th>\n",
       "      <th>...</th>\n",
       "      <th>ACSF_11</th>\n",
       "      <th>ACSF_12</th>\n",
       "      <th>ACSF_13</th>\n",
       "      <th>ACSF_14</th>\n",
       "      <th>ACSF_15</th>\n",
       "      <th>ACSF_16</th>\n",
       "      <th>ACSF_17</th>\n",
       "      <th>ACSF_18</th>\n",
       "      <th>ACSF_19</th>\n",
       "      <th>ACSF_20</th>\n",
       "    </tr>\n",
       "  </thead>\n",
       "  <tbody>\n",
       "    <tr>\n",
       "      <th>count</th>\n",
       "      <td>606.000000</td>\n",
       "      <td>606.000000</td>\n",
       "      <td>606.000000</td>\n",
       "      <td>606.000000</td>\n",
       "      <td>606.000000</td>\n",
       "      <td>606.000000</td>\n",
       "      <td>606.000000</td>\n",
       "      <td>606.000000</td>\n",
       "      <td>606.000000</td>\n",
       "      <td>606.000000</td>\n",
       "      <td>...</td>\n",
       "      <td>606.000000</td>\n",
       "      <td>606.000000</td>\n",
       "      <td>606.000000</td>\n",
       "      <td>606.000000</td>\n",
       "      <td>606.000000</td>\n",
       "      <td>606.000000</td>\n",
       "      <td>606.000000</td>\n",
       "      <td>606.000000</td>\n",
       "      <td>606.000000</td>\n",
       "      <td>606.00000</td>\n",
       "    </tr>\n",
       "    <tr>\n",
       "      <th>mean</th>\n",
       "      <td>5.483498</td>\n",
       "      <td>4.351014</td>\n",
       "      <td>67.812706</td>\n",
       "      <td>118.919142</td>\n",
       "      <td>186.731848</td>\n",
       "      <td>125.204620</td>\n",
       "      <td>108.929043</td>\n",
       "      <td>234.133663</td>\n",
       "      <td>73.166436</td>\n",
       "      <td>34.986528</td>\n",
       "      <td>...</td>\n",
       "      <td>0.184790</td>\n",
       "      <td>0.335332</td>\n",
       "      <td>0.082787</td>\n",
       "      <td>0.003761</td>\n",
       "      <td>0.021964</td>\n",
       "      <td>0.046634</td>\n",
       "      <td>0.004305</td>\n",
       "      <td>0.000937</td>\n",
       "      <td>0.002955</td>\n",
       "      <td>0.00152</td>\n",
       "    </tr>\n",
       "    <tr>\n",
       "      <th>std</th>\n",
       "      <td>2.409806</td>\n",
       "      <td>1.841944</td>\n",
       "      <td>13.091256</td>\n",
       "      <td>80.937176</td>\n",
       "      <td>81.410948</td>\n",
       "      <td>14.004405</td>\n",
       "      <td>28.089407</td>\n",
       "      <td>32.028195</td>\n",
       "      <td>27.742865</td>\n",
       "      <td>30.325209</td>\n",
       "      <td>...</td>\n",
       "      <td>0.426975</td>\n",
       "      <td>0.630666</td>\n",
       "      <td>0.352585</td>\n",
       "      <td>0.034615</td>\n",
       "      <td>0.115228</td>\n",
       "      <td>0.221868</td>\n",
       "      <td>0.075984</td>\n",
       "      <td>0.016322</td>\n",
       "      <td>0.051404</td>\n",
       "      <td>0.02670</td>\n",
       "    </tr>\n",
       "    <tr>\n",
       "      <th>min</th>\n",
       "      <td>0.000000</td>\n",
       "      <td>0.000000</td>\n",
       "      <td>39.000000</td>\n",
       "      <td>-38.000000</td>\n",
       "      <td>8.000000</td>\n",
       "      <td>110.000000</td>\n",
       "      <td>32.000000</td>\n",
       "      <td>142.000000</td>\n",
       "      <td>26.140000</td>\n",
       "      <td>3.740000</td>\n",
       "      <td>...</td>\n",
       "      <td>0.000000</td>\n",
       "      <td>0.000000</td>\n",
       "      <td>0.000000</td>\n",
       "      <td>0.000000</td>\n",
       "      <td>0.000000</td>\n",
       "      <td>0.000000</td>\n",
       "      <td>0.000000</td>\n",
       "      <td>0.000000</td>\n",
       "      <td>0.000000</td>\n",
       "      <td>0.00000</td>\n",
       "    </tr>\n",
       "    <tr>\n",
       "      <th>25%</th>\n",
       "      <td>5.000000</td>\n",
       "      <td>2.828427</td>\n",
       "      <td>59.000000</td>\n",
       "      <td>58.000000</td>\n",
       "      <td>118.000000</td>\n",
       "      <td>116.000000</td>\n",
       "      <td>99.000000</td>\n",
       "      <td>221.000000</td>\n",
       "      <td>55.000000</td>\n",
       "      <td>14.600000</td>\n",
       "      <td>...</td>\n",
       "      <td>0.000000</td>\n",
       "      <td>0.000000</td>\n",
       "      <td>0.000000</td>\n",
       "      <td>0.000000</td>\n",
       "      <td>0.000000</td>\n",
       "      <td>0.000000</td>\n",
       "      <td>0.000000</td>\n",
       "      <td>0.000000</td>\n",
       "      <td>0.000000</td>\n",
       "      <td>0.00000</td>\n",
       "    </tr>\n",
       "    <tr>\n",
       "      <th>50%</th>\n",
       "      <td>5.000000</td>\n",
       "      <td>4.898979</td>\n",
       "      <td>66.000000</td>\n",
       "      <td>135.000000</td>\n",
       "      <td>208.000000</td>\n",
       "      <td>122.000000</td>\n",
       "      <td>114.000000</td>\n",
       "      <td>236.000000</td>\n",
       "      <td>68.000000</td>\n",
       "      <td>25.000000</td>\n",
       "      <td>...</td>\n",
       "      <td>0.000000</td>\n",
       "      <td>0.000000</td>\n",
       "      <td>0.000000</td>\n",
       "      <td>0.000000</td>\n",
       "      <td>0.000000</td>\n",
       "      <td>0.000000</td>\n",
       "      <td>0.000000</td>\n",
       "      <td>0.000000</td>\n",
       "      <td>0.000000</td>\n",
       "      <td>0.00000</td>\n",
       "    </tr>\n",
       "    <tr>\n",
       "      <th>75%</th>\n",
       "      <td>7.000000</td>\n",
       "      <td>5.916080</td>\n",
       "      <td>73.000000</td>\n",
       "      <td>196.000000</td>\n",
       "      <td>259.000000</td>\n",
       "      <td>134.000000</td>\n",
       "      <td>133.000000</td>\n",
       "      <td>252.750000</td>\n",
       "      <td>83.000000</td>\n",
       "      <td>40.000000</td>\n",
       "      <td>...</td>\n",
       "      <td>0.134500</td>\n",
       "      <td>0.641000</td>\n",
       "      <td>0.000000</td>\n",
       "      <td>0.000000</td>\n",
       "      <td>0.000000</td>\n",
       "      <td>0.000000</td>\n",
       "      <td>0.000000</td>\n",
       "      <td>0.000000</td>\n",
       "      <td>0.000000</td>\n",
       "      <td>0.00000</td>\n",
       "    </tr>\n",
       "    <tr>\n",
       "      <th>max</th>\n",
       "      <td>10.000000</td>\n",
       "      <td>6.928203</td>\n",
       "      <td>152.000000</td>\n",
       "      <td>221.000000</td>\n",
       "      <td>357.000000</td>\n",
       "      <td>210.000000</td>\n",
       "      <td>185.000000</td>\n",
       "      <td>326.000000</td>\n",
       "      <td>319.800000</td>\n",
       "      <td>197.200000</td>\n",
       "      <td>...</td>\n",
       "      <td>3.796000</td>\n",
       "      <td>4.747000</td>\n",
       "      <td>2.696000</td>\n",
       "      <td>0.500000</td>\n",
       "      <td>0.928000</td>\n",
       "      <td>1.825000</td>\n",
       "      <td>1.529000</td>\n",
       "      <td>0.298000</td>\n",
       "      <td>0.903000</td>\n",
       "      <td>0.52600</td>\n",
       "    </tr>\n",
       "  </tbody>\n",
       "</table>\n",
       "<p>8 rows × 40 columns</p>\n",
       "</div>"
      ],
      "text/plain": [
       "                d      SpinMM   TM-ionicR   co-ionicR  Sum-ionicR      TM-CVR  \\\n",
       "count  606.000000  606.000000  606.000000  606.000000  606.000000  606.000000   \n",
       "mean     5.483498    4.351014   67.812706  118.919142  186.731848  125.204620   \n",
       "std      2.409806    1.841944   13.091256   80.937176   81.410948   14.004405   \n",
       "min      0.000000    0.000000   39.000000  -38.000000    8.000000  110.000000   \n",
       "25%      5.000000    2.828427   59.000000   58.000000  118.000000  116.000000   \n",
       "50%      5.000000    4.898979   66.000000  135.000000  208.000000  122.000000   \n",
       "75%      7.000000    5.916080   73.000000  196.000000  259.000000  134.000000   \n",
       "max     10.000000    6.928203  152.000000  221.000000  357.000000  210.000000   \n",
       "\n",
       "           CO-CVR     Sum-CVR       TM-DP       CO-DP  ...     ACSF_11  \\\n",
       "count  606.000000  606.000000  606.000000  606.000000  ...  606.000000   \n",
       "mean   108.929043  234.133663   73.166436   34.986528  ...    0.184790   \n",
       "std     28.089407   32.028195   27.742865   30.325209  ...    0.426975   \n",
       "min     32.000000  142.000000   26.140000    3.740000  ...    0.000000   \n",
       "25%     99.000000  221.000000   55.000000   14.600000  ...    0.000000   \n",
       "50%    114.000000  236.000000   68.000000   25.000000  ...    0.000000   \n",
       "75%    133.000000  252.750000   83.000000   40.000000  ...    0.134500   \n",
       "max    185.000000  326.000000  319.800000  197.200000  ...    3.796000   \n",
       "\n",
       "          ACSF_12     ACSF_13     ACSF_14     ACSF_15     ACSF_16     ACSF_17  \\\n",
       "count  606.000000  606.000000  606.000000  606.000000  606.000000  606.000000   \n",
       "mean     0.335332    0.082787    0.003761    0.021964    0.046634    0.004305   \n",
       "std      0.630666    0.352585    0.034615    0.115228    0.221868    0.075984   \n",
       "min      0.000000    0.000000    0.000000    0.000000    0.000000    0.000000   \n",
       "25%      0.000000    0.000000    0.000000    0.000000    0.000000    0.000000   \n",
       "50%      0.000000    0.000000    0.000000    0.000000    0.000000    0.000000   \n",
       "75%      0.641000    0.000000    0.000000    0.000000    0.000000    0.000000   \n",
       "max      4.747000    2.696000    0.500000    0.928000    1.825000    1.529000   \n",
       "\n",
       "          ACSF_18     ACSF_19    ACSF_20  \n",
       "count  606.000000  606.000000  606.00000  \n",
       "mean     0.000937    0.002955    0.00152  \n",
       "std      0.016322    0.051404    0.02670  \n",
       "min      0.000000    0.000000    0.00000  \n",
       "25%      0.000000    0.000000    0.00000  \n",
       "50%      0.000000    0.000000    0.00000  \n",
       "75%      0.000000    0.000000    0.00000  \n",
       "max      0.298000    0.903000    0.52600  \n",
       "\n",
       "[8 rows x 40 columns]"
      ]
     },
     "execution_count": 5,
     "metadata": {},
     "output_type": "execute_result"
    }
   ],
   "source": [
    "X.describe()"
   ]
  },
  {
   "cell_type": "code",
   "execution_count": 6,
   "id": "f995d727-0884-4959-bd53-6c02246af3ab",
   "metadata": {},
   "outputs": [],
   "source": [
    "from sklearn.preprocessing import StandardScaler\n",
    "scaler = StandardScaler()"
   ]
  },
  {
   "cell_type": "code",
   "execution_count": 7,
   "id": "923a19c4-22b8-4c75-aba9-8823ad613a9a",
   "metadata": {},
   "outputs": [
    {
     "data": {
      "text/html": [
       "<style>#sk-container-id-1 {color: black;background-color: white;}#sk-container-id-1 pre{padding: 0;}#sk-container-id-1 div.sk-toggleable {background-color: white;}#sk-container-id-1 label.sk-toggleable__label {cursor: pointer;display: block;width: 100%;margin-bottom: 0;padding: 0.3em;box-sizing: border-box;text-align: center;}#sk-container-id-1 label.sk-toggleable__label-arrow:before {content: \"▸\";float: left;margin-right: 0.25em;color: #696969;}#sk-container-id-1 label.sk-toggleable__label-arrow:hover:before {color: black;}#sk-container-id-1 div.sk-estimator:hover label.sk-toggleable__label-arrow:before {color: black;}#sk-container-id-1 div.sk-toggleable__content {max-height: 0;max-width: 0;overflow: hidden;text-align: left;background-color: #f0f8ff;}#sk-container-id-1 div.sk-toggleable__content pre {margin: 0.2em;color: black;border-radius: 0.25em;background-color: #f0f8ff;}#sk-container-id-1 input.sk-toggleable__control:checked~div.sk-toggleable__content {max-height: 200px;max-width: 100%;overflow: auto;}#sk-container-id-1 input.sk-toggleable__control:checked~label.sk-toggleable__label-arrow:before {content: \"▾\";}#sk-container-id-1 div.sk-estimator input.sk-toggleable__control:checked~label.sk-toggleable__label {background-color: #d4ebff;}#sk-container-id-1 div.sk-label input.sk-toggleable__control:checked~label.sk-toggleable__label {background-color: #d4ebff;}#sk-container-id-1 input.sk-hidden--visually {border: 0;clip: rect(1px 1px 1px 1px);clip: rect(1px, 1px, 1px, 1px);height: 1px;margin: -1px;overflow: hidden;padding: 0;position: absolute;width: 1px;}#sk-container-id-1 div.sk-estimator {font-family: monospace;background-color: #f0f8ff;border: 1px dotted black;border-radius: 0.25em;box-sizing: border-box;margin-bottom: 0.5em;}#sk-container-id-1 div.sk-estimator:hover {background-color: #d4ebff;}#sk-container-id-1 div.sk-parallel-item::after {content: \"\";width: 100%;border-bottom: 1px solid gray;flex-grow: 1;}#sk-container-id-1 div.sk-label:hover label.sk-toggleable__label {background-color: #d4ebff;}#sk-container-id-1 div.sk-serial::before {content: \"\";position: absolute;border-left: 1px solid gray;box-sizing: border-box;top: 0;bottom: 0;left: 50%;z-index: 0;}#sk-container-id-1 div.sk-serial {display: flex;flex-direction: column;align-items: center;background-color: white;padding-right: 0.2em;padding-left: 0.2em;position: relative;}#sk-container-id-1 div.sk-item {position: relative;z-index: 1;}#sk-container-id-1 div.sk-parallel {display: flex;align-items: stretch;justify-content: center;background-color: white;position: relative;}#sk-container-id-1 div.sk-item::before, #sk-container-id-1 div.sk-parallel-item::before {content: \"\";position: absolute;border-left: 1px solid gray;box-sizing: border-box;top: 0;bottom: 0;left: 50%;z-index: -1;}#sk-container-id-1 div.sk-parallel-item {display: flex;flex-direction: column;z-index: 1;position: relative;background-color: white;}#sk-container-id-1 div.sk-parallel-item:first-child::after {align-self: flex-end;width: 50%;}#sk-container-id-1 div.sk-parallel-item:last-child::after {align-self: flex-start;width: 50%;}#sk-container-id-1 div.sk-parallel-item:only-child::after {width: 0;}#sk-container-id-1 div.sk-dashed-wrapped {border: 1px dashed gray;margin: 0 0.4em 0.5em 0.4em;box-sizing: border-box;padding-bottom: 0.4em;background-color: white;}#sk-container-id-1 div.sk-label label {font-family: monospace;font-weight: bold;display: inline-block;line-height: 1.2em;}#sk-container-id-1 div.sk-label-container {text-align: center;}#sk-container-id-1 div.sk-container {/* jupyter's `normalize.less` sets `[hidden] { display: none; }` but bootstrap.min.css set `[hidden] { display: none !important; }` so we also need the `!important` here to be able to override the default hidden behavior on the sphinx rendered scikit-learn.org. See: https://github.com/scikit-learn/scikit-learn/issues/21755 */display: inline-block !important;position: relative;}#sk-container-id-1 div.sk-text-repr-fallback {display: none;}</style><div id=\"sk-container-id-1\" class=\"sk-top-container\"><div class=\"sk-text-repr-fallback\"><pre>StandardScaler()</pre><b>In a Jupyter environment, please rerun this cell to show the HTML representation or trust the notebook. <br />On GitHub, the HTML representation is unable to render, please try loading this page with nbviewer.org.</b></div><div class=\"sk-container\" hidden><div class=\"sk-item\"><div class=\"sk-estimator sk-toggleable\"><input class=\"sk-toggleable__control sk-hidden--visually\" id=\"sk-estimator-id-1\" type=\"checkbox\" checked><label for=\"sk-estimator-id-1\" class=\"sk-toggleable__label sk-toggleable__label-arrow\">StandardScaler</label><div class=\"sk-toggleable__content\"><pre>StandardScaler()</pre></div></div></div></div></div>"
      ],
      "text/plain": [
       "StandardScaler()"
      ]
     },
     "execution_count": 7,
     "metadata": {},
     "output_type": "execute_result"
    }
   ],
   "source": [
    "scaler.fit(X_train)"
   ]
  },
  {
   "cell_type": "code",
   "execution_count": 8,
   "id": "b37ef8ea-4bf3-4575-a9ab-6a572859bc1e",
   "metadata": {},
   "outputs": [],
   "source": [
    "X_train_s = scaler.transform(X_train)\n",
    "X_test_s = scaler.transform(X_test)"
   ]
  },
  {
   "cell_type": "code",
   "execution_count": 9,
   "id": "20f0f738-9177-44aa-883d-82c24ec20b87",
   "metadata": {},
   "outputs": [
    {
     "data": {
      "text/plain": [
       "array([ 6.42277783e-17, -8.84508261e-16, -5.32173020e-16,  9.17539690e-18,\n",
       "       -1.13774922e-16,  1.13774922e-16, -2.93612701e-17,  4.62440004e-16,\n",
       "       -1.76167620e-16,  1.59651906e-16,  2.00023652e-16,  4.95471432e-16,\n",
       "        6.04658656e-16, -2.54158494e-16, -4.17939329e-16, -3.11963495e-17,\n",
       "       -5.06481909e-16, -1.06067588e-15,  5.37678258e-16, -9.30385245e-16,\n",
       "        7.34031752e-18,  2.56911113e-17, -1.98188573e-16, -3.30314288e-17,\n",
       "       -7.52382546e-17,  4.58769845e-18, -9.17539690e-18,  1.04599525e-16,\n",
       "        6.97330164e-17,  5.13822226e-17,  7.34031752e-18, -7.34031752e-18,\n",
       "       -1.04599525e-16,  2.20209526e-17,  3.85366670e-17,  7.15680958e-17,\n",
       "        1.10104763e-17,  3.30314288e-17,  7.34031752e-18,  5.13822226e-17])"
      ]
     },
     "execution_count": 9,
     "metadata": {},
     "output_type": "execute_result"
    }
   ],
   "source": [
    "np.mean(X_train_s, axis = 0)"
   ]
  },
  {
   "cell_type": "code",
   "execution_count": 10,
   "id": "cf98a871-983e-4256-973b-221aec7bef57",
   "metadata": {},
   "outputs": [
    {
     "data": {
      "text/plain": [
       "array([1., 1., 1., 1., 1., 1., 1., 1., 1., 1., 1., 1., 1., 1., 1., 1., 1.,\n",
       "       1., 1., 1., 1., 1., 1., 1., 1., 1., 1., 1., 1., 1., 1., 1., 1., 1.,\n",
       "       1., 1., 1., 1., 1., 1.])"
      ]
     },
     "execution_count": 10,
     "metadata": {},
     "output_type": "execute_result"
    }
   ],
   "source": [
    "np.std(X_train_s, axis = 0)"
   ]
  },
  {
   "cell_type": "code",
   "execution_count": 11,
   "id": "6582cd83-b2e9-4727-9342-46f2109af850",
   "metadata": {},
   "outputs": [
    {
     "data": {
      "text/plain": [
       "array([-0.06475096, -0.08875856,  0.09794723, -0.09660045, -0.08066887,\n",
       "        0.11417549, -0.06454977, -0.00936952,  0.13970814, -0.00718758,\n",
       "        0.07982007,  0.0021007 , -0.03062464, -0.02632161, -0.05229871,\n",
       "        0.16256887,  0.09699881,  0.17470944, -0.00441914,  0.0507696 ,\n",
       "        0.08982438, -0.01146071,  0.10847475,  0.15079976, -0.07362171,\n",
       "       -0.01890275, -0.00808004, -0.09544067,  0.01937898,  0.00268792,\n",
       "        0.03370133,  0.02456053,  0.08279227,  0.006926  , -0.00172373,\n",
       "        0.04831945, -0.06347865, -0.06433721, -0.06441339, -0.06377116])"
      ]
     },
     "execution_count": 11,
     "metadata": {},
     "output_type": "execute_result"
    }
   ],
   "source": [
    "np.mean(X_test_s, axis = 0)"
   ]
  },
  {
   "cell_type": "code",
   "execution_count": 12,
   "id": "9c88204e-7258-48cb-8e55-08cdd64d2805",
   "metadata": {},
   "outputs": [
    {
     "data": {
      "text/plain": [
       "array([1.06456890e+00, 9.64925736e-01, 1.18929778e+00, 9.76991646e-01,\n",
       "       9.58923365e-01, 1.23095301e+00, 9.75220401e-01, 9.84491025e-01,\n",
       "       1.51968102e+00, 1.04634580e+00, 1.20928911e+00, 1.15102139e+00,\n",
       "       9.67412532e-01, 9.62277040e-01, 1.01256340e+00, 1.05534115e+00,\n",
       "       9.88580556e-01, 1.51091071e+00, 9.61865813e-01, 9.95248583e-01,\n",
       "       9.46640363e-01, 8.89386824e-01, 1.01719987e+00, 9.58798826e-01,\n",
       "       9.87987268e-01, 8.24416464e-01, 1.01693060e+00, 9.30690474e-01,\n",
       "       1.07576925e+00, 9.24838168e-01, 1.11902409e+00, 1.02108432e+00,\n",
       "       1.18937068e+00, 1.03168302e+00, 9.39296164e-01, 1.10216123e+00,\n",
       "       1.38777878e-17, 1.38777878e-17, 1.38777878e-17, 0.00000000e+00])"
      ]
     },
     "execution_count": 12,
     "metadata": {},
     "output_type": "execute_result"
    }
   ],
   "source": [
    "np.std(X_test_s, axis = 0)"
   ]
  },
  {
   "cell_type": "code",
   "execution_count": 13,
   "id": "95b6a052-4a99-400d-ba8d-1f5b705374b9",
   "metadata": {},
   "outputs": [
    {
     "data": {
      "text/plain": [
       "0.8032786885245902"
      ]
     },
     "execution_count": 13,
     "metadata": {},
     "output_type": "execute_result"
    }
   ],
   "source": [
    "modelsvc = SVC(kernel=\"linear\", random_state = 1)\n",
    "modelsvc.fit(X_train_s, y_train)\n",
    "modelsvc.score(X_test_s, y_test)"
   ]
  },
  {
   "cell_type": "code",
   "execution_count": 14,
   "id": "5522333e-9ecc-4cb9-8b46-794983024b4e",
   "metadata": {},
   "outputs": [],
   "source": [
    "#param_grid = {'C': [0.1, 1, 10],\n",
    "#              'kernel': ('linear', 'poly', 'rbf', 'sigmoid'),\n",
    "#              'gamma': [0.01, 0.1, 1]}\n",
    "#kfold = StratifiedKFold(n_splits=10, shuffle=True,\n",
    "#                        random_state = 45)\n",
    "#model_svc = GridSearchCV(SVC(random_state = 46),\n",
    "#                     param_grid, cv = kfold)"
   ]
  },
  {
   "cell_type": "code",
   "execution_count": 15,
   "id": "3365fd6a-becb-4121-860b-fa8b45546e4b",
   "metadata": {},
   "outputs": [],
   "source": [
    "#model_svc.fit(X_train_s, y_train)\n",
    "#model_svc.score(X_test_s, y_test)"
   ]
  },
  {
   "cell_type": "code",
   "execution_count": 16,
   "id": "7c840e88-21a7-4d7b-abd9-7d695aed789d",
   "metadata": {},
   "outputs": [],
   "source": [
    "#model_svc.best_params_"
   ]
  },
  {
   "cell_type": "code",
   "execution_count": 17,
   "id": "a0b71abd-a21f-4a87-ba35-90b3a689028c",
   "metadata": {},
   "outputs": [],
   "source": [
    "#model_svc.best_estimator_"
   ]
  },
  {
   "cell_type": "code",
   "execution_count": 18,
   "id": "494049c0-7316-4cb3-849c-40c2906d0cc1",
   "metadata": {},
   "outputs": [
    {
     "data": {
      "text/plain": [
       "0.8688524590163934"
      ]
     },
     "execution_count": 18,
     "metadata": {},
     "output_type": "execute_result"
    }
   ],
   "source": [
    "model_SVC = SVC(C=10, gamma=0.01, random_state=46, kernel='rbf')\n",
    "model_SVC.fit(X_train_s, y_train)\n",
    "model_SVC.score(X_test_s, y_test)"
   ]
  },
  {
   "cell_type": "code",
   "execution_count": 19,
   "id": "546c5958-044d-47c0-bc13-eb01cce76e24",
   "metadata": {},
   "outputs": [
    {
     "data": {
      "text/plain": [
       "(122,)"
      ]
     },
     "execution_count": 19,
     "metadata": {},
     "output_type": "execute_result"
    }
   ],
   "source": [
    "y_pred = model_SVC.predict(X_test_s)\n",
    "y_pred.shape"
   ]
  },
  {
   "cell_type": "code",
   "execution_count": 21,
   "id": "6e081589-5f39-4328-8b14-04c4c62e096f",
   "metadata": {},
   "outputs": [
    {
     "name": "stdout",
     "output_type": "stream",
     "text": [
      "[[46  4]\n",
      " [12 60]]\n"
     ]
    },
    {
     "data": {
      "image/png": "[encoded data removed]",
      "text/plain": [
       "<Figure size 480x480 with 2 Axes>"
      ]
     },
     "metadata": {},
     "output_type": "display_data"
    }
   ],
   "source": [
    "import matplotlib.pyplot as plt\n",
    "plt.rcParams['font.sans-serif']=['Times New Roman']\n",
    "from sklearn.metrics import confusion_matrix\n",
    "confusion_matrix = confusion_matrix(y_test, y_pred)\n",
    "print(confusion_matrix)\n",
    "plt.matshow(confusion_matrix)\n",
    "plt.title('Confusion matrix',fontsize = 20)\n",
    "plt.xticks(fontsize = 16)\n",
    "plt.yticks(fontsize = 16)\n",
    "cb = plt.colorbar()\n",
    "cb.ax.tick_params(labelsize=16)\n",
    "plt.ylabel('True label', fontsize = 20)\n",
    "plt.xlabel('Predicted label',fontsize = 20)\n",
    "plt.savefig('c2.png', dpi = 300)\n",
    "#plt.show()"
   ]
  },
  {
   "cell_type": "code",
   "execution_count": 22,
   "id": "cf7ecc21-5e09-4627-b564-6953653f631c",
   "metadata": {},
   "outputs": [
    {
     "data": {
      "text/html": [
       "<div>\n",
       "<style scoped>\n",
       "    .dataframe tbody tr th:only-of-type {\n",
       "        vertical-align: middle;\n",
       "    }\n",
       "\n",
       "    .dataframe tbody tr th {\n",
       "        vertical-align: top;\n",
       "    }\n",
       "\n",
       "    .dataframe thead th {\n",
       "        text-align: right;\n",
       "    }\n",
       "</style>\n",
       "<table border=\"1\" class=\"dataframe\">\n",
       "  <thead>\n",
       "    <tr style=\"text-align: right;\">\n",
       "      <th>Predicted</th>\n",
       "      <th>0</th>\n",
       "      <th>1</th>\n",
       "    </tr>\n",
       "    <tr>\n",
       "      <th>Actual</th>\n",
       "      <th></th>\n",
       "      <th></th>\n",
       "    </tr>\n",
       "  </thead>\n",
       "  <tbody>\n",
       "    <tr>\n",
       "      <th>0</th>\n",
       "      <td>46</td>\n",
       "      <td>4</td>\n",
       "    </tr>\n",
       "    <tr>\n",
       "      <th>1</th>\n",
       "      <td>12</td>\n",
       "      <td>60</td>\n",
       "    </tr>\n",
       "  </tbody>\n",
       "</table>\n",
       "</div>"
      ],
      "text/plain": [
       "Predicted   0   1\n",
       "Actual           \n",
       "0          46   4\n",
       "1          12  60"
      ]
     },
     "execution_count": 22,
     "metadata": {},
     "output_type": "execute_result"
    }
   ],
   "source": [
    "#from sklearn.inspection import plot_partial_dependence\n",
    "table = pd.crosstab(y_test, y_pred, rownames = ['Actual'], colnames = ['Predicted'])\n",
    "table"
   ]
  },
  {
   "cell_type": "code",
   "execution_count": 23,
   "id": "248757bf-9459-4bf6-be35-d6ecd12ff562",
   "metadata": {},
   "outputs": [
    {
     "name": "stdout",
     "output_type": "stream",
     "text": [
      "0.8688524590163934\n",
      "0.1311475409836066\n"
     ]
    }
   ],
   "source": [
    "table = np.array(table)\n",
    "Accuracy = (table[0, 0] + table[1,1]) /np.sum(table)\n",
    "print(Accuracy)\n",
    "\n",
    "Error_rate = 1 - Accuracy\n",
    "print(Error_rate)"
   ]
  },
  {
   "cell_type": "code",
   "execution_count": 24,
   "id": "72b9a6ef-02bc-4a5f-a9c7-1bb2b42fd2b2",
   "metadata": {},
   "outputs": [
    {
     "name": "stdout",
     "output_type": "stream",
     "text": [
      "Precision: 0.9375\n",
      "0.8333333333333334\n",
      "0.92\n",
      "0.9375\n",
      "0.8823529411764706\n"
     ]
    },
    {
     "data": {
      "text/plain": [
       "0.735357917570499"
      ]
     },
     "execution_count": 24,
     "metadata": {},
     "output_type": "execute_result"
    }
   ],
   "source": [
    "Precision = table[1, 1]/(table[1, 1]+table[0, 1])\n",
    "print('Precision:', Precision)\n",
    "\n",
    "Sensitivity = table[1, 1]/(table[1, 0] + table[1,1])\n",
    "print(Sensitivity)\n",
    "\n",
    "Specificity = table[0, 0] /(table[0,0] + table[0, 1])\n",
    "print(Specificity)\n",
    "\n",
    "Recall = table[1, 1] /(table[0, 1] + table[1,1])\n",
    "print(Recall)\n",
    "\n",
    "print(f1_score(y_test, y_pred))\n",
    "cohen_kappa_score(y_test, y_pred)"
   ]
  },
  {
   "cell_type": "code",
   "execution_count": 25,
   "id": "76c4745f-d255-4fce-a0aa-16df2a65160e",
   "metadata": {},
   "outputs": [
    {
     "data": {
      "image/png": "[encoded data removed]",
      "text/plain": [
       "<Figure size 640x480 with 1 Axes>"
      ]
     },
     "metadata": {},
     "output_type": "display_data"
    }
   ],
   "source": [
    "from sklearn.metrics import RocCurveDisplay\n",
    "plt.rcParams['font.sans-serif']=['Times New Roman']\n",
    "\n",
    "RocCurveDisplay.from_estimator(model_SVC, X_test_s, y_test, color = 'lightskyblue')\n",
    "x = np.linspace(0, 1, 100)\n",
    "plt.plot(x, x, 'k--', linewidth = 1)\n",
    "plt.title('ROC Curve for SVC', fontsize = 15)\n",
    "plt.axis('square')\n",
    "plt.xlim()\n",
    "plt.xticks(fontsize = 15)\n",
    "plt.yticks(fontsize = 15)\n",
    "plt.xlabel('False Positive Rate', fontsize = 15)\n",
    "plt.ylabel('True Positive Rate',fontsize = 15)\n",
    "fontdict = {'family': 'Times New Roman',\n",
    "            'size': 12}\n",
    "            #'style': 'italic'}\n",
    "plt.legend(prop=fontdict, loc = 'upper left')\n",
    "plt.savefig('r2.png', dpi = 300)\n",
    "#plt.show()"
   ]
  },
  {
   "cell_type": "code",
   "execution_count": null,
   "id": "223d4a9c-1b04-468f-9d99-17c15d2a343a",
   "metadata": {},
   "outputs": [],
   "source": []
  }
 ],
 "metadata": {
  "kernelspec": {
   "display_name": "Python 3 (ipykernel)",
   "language": "python",
   "name": "python3"
  },
  "language_info": {
   "codemirror_mode": {
    "name": "ipython",
    "version": 3
   },
   "file_extension": ".py",
   "mimetype": "text/x-python",
   "name": "python",
   "nbconvert_exporter": "python",
   "pygments_lexer": "ipython3",
   "version": "3.8.8"
  }
 },
 "nbformat": 4,
 "nbformat_minor": 5
}
