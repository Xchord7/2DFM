{
 "cells": [
  {
   "cell_type": "code",
   "execution_count": 1,
   "id": "21465077-89e3-414a-8424-39da89886f13",
   "metadata": {},
   "outputs": [
    {
     "name": "stdout",
     "output_type": "stream",
     "text": [
      "  Formula  SGnumber  Magmom  Magnetic\n",
      "0  Ca4As4        14     0.0     False\n",
      "1  In2Se2        12     0.0     False\n",
      "\n",
      "False    1292\n",
      "True     1125\n",
      "Name: Magnetic, dtype: int64\n"
     ]
    }
   ],
   "source": [
    "import numpy as np\n",
    "import pandas as pd\n",
    "data = pd.read_csv('new2417.csv', index_col = 0)\n",
    "print(data.head(2))\n",
    "print()\n",
    "\n",
    "print(data['Magnetic'].value_counts())"
   ]
  },
  {
   "cell_type": "code",
   "execution_count": 2,
   "id": "f6cc73c1-b7e2-448b-b39b-677051b85b3a",
   "metadata": {},
   "outputs": [
    {
     "data": {
      "application/vnd.jupyter.widget-view+json": {
       "model_id": "397436e8a72646c5b15ee070fd54247b",
       "version_major": 2,
       "version_minor": 0
      },
      "text/plain": [
       "StrToComposition:   0%|          | 0/2417 [00:00<?, ?it/s]"
      ]
     },
     "metadata": {},
     "output_type": "display_data"
    },
    {
     "data": {
      "application/vnd.jupyter.widget-view+json": {
       "model_id": "7578b6547fb84ce8a6c9bd1adede89b4",
       "version_major": 2,
       "version_minor": 0
      },
      "text/plain": [
       "CompositionToOxidComposition:   0%|          | 0/2417 [00:00<?, ?it/s]"
      ]
     },
     "metadata": {},
     "output_type": "display_data"
    },
    {
     "data": {
      "application/vnd.jupyter.widget-view+json": {
       "model_id": "36a4ef8028ad485f9fc6f20155a0d06a",
       "version_major": 2,
       "version_minor": 0
      },
      "text/plain": [
       "OxidationStates:   0%|          | 0/2417 [00:00<?, ?it/s]"
      ]
     },
     "metadata": {},
     "output_type": "display_data"
    },
    {
     "data": {
      "application/vnd.jupyter.widget-view+json": {
       "model_id": "6cd1ffe9a6524b0690b167782b5a4219",
       "version_major": 2,
       "version_minor": 0
      },
      "text/plain": [
       "ElementProperty:   0%|          | 0/2417 [00:00<?, ?it/s]"
      ]
     },
     "metadata": {},
     "output_type": "display_data"
    },
    {
     "data": {
      "text/html": [
       "<div>\n",
       "<style scoped>\n",
       "    .dataframe tbody tr th:only-of-type {\n",
       "        vertical-align: middle;\n",
       "    }\n",
       "\n",
       "    .dataframe tbody tr th {\n",
       "        vertical-align: top;\n",
       "    }\n",
       "\n",
       "    .dataframe thead th {\n",
       "        text-align: right;\n",
       "    }\n",
       "</style>\n",
       "<table border=\"1\" class=\"dataframe\">\n",
       "  <thead>\n",
       "    <tr style=\"text-align: right;\">\n",
       "      <th></th>\n",
       "      <th>Formula</th>\n",
       "      <th>SGnumber</th>\n",
       "      <th>Magmom</th>\n",
       "      <th>Magnetic</th>\n",
       "      <th>composition</th>\n",
       "      <th>composition_oxid</th>\n",
       "      <th>minimum oxidation state</th>\n",
       "      <th>maximum oxidation state</th>\n",
       "      <th>range oxidation state</th>\n",
       "      <th>std_dev oxidation state</th>\n",
       "      <th>...</th>\n",
       "      <th>MagpieData range GSmagmom</th>\n",
       "      <th>MagpieData mean GSmagmom</th>\n",
       "      <th>MagpieData avg_dev GSmagmom</th>\n",
       "      <th>MagpieData mode GSmagmom</th>\n",
       "      <th>MagpieData minimum SpaceGroupNumber</th>\n",
       "      <th>MagpieData maximum SpaceGroupNumber</th>\n",
       "      <th>MagpieData range SpaceGroupNumber</th>\n",
       "      <th>MagpieData mean SpaceGroupNumber</th>\n",
       "      <th>MagpieData avg_dev SpaceGroupNumber</th>\n",
       "      <th>MagpieData mode SpaceGroupNumber</th>\n",
       "    </tr>\n",
       "  </thead>\n",
       "  <tbody>\n",
       "    <tr>\n",
       "      <th>0</th>\n",
       "      <td>Ca4As4</td>\n",
       "      <td>14</td>\n",
       "      <td>0.0</td>\n",
       "      <td>False</td>\n",
       "      <td>(Ca, As)</td>\n",
       "      <td>(Ca2+, As3-, As-)</td>\n",
       "      <td>-3</td>\n",
       "      <td>2</td>\n",
       "      <td>5</td>\n",
       "      <td>2.683282</td>\n",
       "      <td>...</td>\n",
       "      <td>0.0</td>\n",
       "      <td>0.0</td>\n",
       "      <td>0.0</td>\n",
       "      <td>0.0</td>\n",
       "      <td>166.0</td>\n",
       "      <td>225.0</td>\n",
       "      <td>59.0</td>\n",
       "      <td>195.5</td>\n",
       "      <td>29.5</td>\n",
       "      <td>166.0</td>\n",
       "    </tr>\n",
       "    <tr>\n",
       "      <th>1</th>\n",
       "      <td>In2Se2</td>\n",
       "      <td>12</td>\n",
       "      <td>0.0</td>\n",
       "      <td>False</td>\n",
       "      <td>(In, Se)</td>\n",
       "      <td>(In+, In3+, Se2-)</td>\n",
       "      <td>-2</td>\n",
       "      <td>3</td>\n",
       "      <td>5</td>\n",
       "      <td>2.683282</td>\n",
       "      <td>...</td>\n",
       "      <td>0.0</td>\n",
       "      <td>0.0</td>\n",
       "      <td>0.0</td>\n",
       "      <td>0.0</td>\n",
       "      <td>14.0</td>\n",
       "      <td>139.0</td>\n",
       "      <td>125.0</td>\n",
       "      <td>76.5</td>\n",
       "      <td>62.5</td>\n",
       "      <td>14.0</td>\n",
       "    </tr>\n",
       "  </tbody>\n",
       "</table>\n",
       "<p>2 rows × 142 columns</p>\n",
       "</div>"
      ],
      "text/plain": [
       "  Formula  SGnumber  Magmom  Magnetic composition   composition_oxid  \\\n",
       "0  Ca4As4        14     0.0     False    (Ca, As)  (Ca2+, As3-, As-)   \n",
       "1  In2Se2        12     0.0     False    (In, Se)  (In+, In3+, Se2-)   \n",
       "\n",
       "   minimum oxidation state  maximum oxidation state  range oxidation state  \\\n",
       "0                       -3                        2                      5   \n",
       "1                       -2                        3                      5   \n",
       "\n",
       "   std_dev oxidation state  ...  MagpieData range GSmagmom  \\\n",
       "0                 2.683282  ...                        0.0   \n",
       "1                 2.683282  ...                        0.0   \n",
       "\n",
       "   MagpieData mean GSmagmom  MagpieData avg_dev GSmagmom  \\\n",
       "0                       0.0                          0.0   \n",
       "1                       0.0                          0.0   \n",
       "\n",
       "   MagpieData mode GSmagmom  MagpieData minimum SpaceGroupNumber  \\\n",
       "0                       0.0                                166.0   \n",
       "1                       0.0                                 14.0   \n",
       "\n",
       "   MagpieData maximum SpaceGroupNumber  MagpieData range SpaceGroupNumber  \\\n",
       "0                                225.0                               59.0   \n",
       "1                                139.0                              125.0   \n",
       "\n",
       "   MagpieData mean SpaceGroupNumber  MagpieData avg_dev SpaceGroupNumber  \\\n",
       "0                             195.5                                 29.5   \n",
       "1                              76.5                                 62.5   \n",
       "\n",
       "   MagpieData mode SpaceGroupNumber  \n",
       "0                             166.0  \n",
       "1                              14.0  \n",
       "\n",
       "[2 rows x 142 columns]"
      ]
     },
     "execution_count": 2,
     "metadata": {},
     "output_type": "execute_result"
    }
   ],
   "source": [
    "from matminer.featurizers.conversions import StrToComposition\n",
    "data_Composition = StrToComposition().featurize_dataframe(data, 'Formula')\n",
    "\n",
    "from matminer.featurizers.conversions import CompositionToOxidComposition\n",
    "data_Oxide = CompositionToOxidComposition().featurize_dataframe(data_Composition, 'composition')\n",
    "\n",
    "from matminer.featurizers.composition import OxidationStates\n",
    "data_OS = OxidationStates().featurize_dataframe(data_Oxide, 'composition_oxid')\n",
    "\n",
    "from matminer.featurizers.composition import ElementProperty\n",
    "ep_feat = ElementProperty.from_preset(preset_name='magpie')\n",
    "data_EP = ep_feat.featurize_dataframe(data_OS, col_id = 'composition')\n",
    "data_EP.head(2)"
   ]
  },
  {
   "cell_type": "code",
   "execution_count": 3,
   "id": "afcd1772-9435-405a-849d-1a41e8fbc127",
   "metadata": {},
   "outputs": [],
   "source": [
    "from sklearn.model_selection import train_test_split\n",
    "from sklearn.model_selection import KFold, StratifiedKFold\n",
    "from sklearn.metrics import mean_squared_error\n",
    "from sklearn.svm import SVC\n",
    "from sklearn.metrics import cohen_kappa_score\n",
    "from sklearn.metrics import plot_roc_curve\n",
    "from sklearn.model_selection import GridSearchCV\n",
    "from sklearn.metrics import f1_score"
   ]
  },
  {
   "cell_type": "code",
   "execution_count": 4,
   "id": "720381cd-55d9-4093-a8ae-8b12d4625c7b",
   "metadata": {},
   "outputs": [],
   "source": [
    "y = data_EP['Magnetic'].values\n",
    "excluded = ['Formula', 'Magmom', 'composition', 'composition_oxid', 'Magnetic']\n",
    "X = data_EP.drop(excluded, axis = 1)"
   ]
  },
  {
   "cell_type": "code",
   "execution_count": 5,
   "id": "5dd9385b-b35b-43ad-876b-198b22f88c7c",
   "metadata": {},
   "outputs": [],
   "source": [
    "X_train, X_test, y_train, y_test = train_test_split(X, y, stratify = y, \n",
    "                                                    test_size = 0.3,\n",
    "                                                    random_state = 79)"
   ]
  },
  {
   "cell_type": "code",
   "execution_count": 6,
   "id": "8b6c0816-87d2-49c7-9721-89bfbba8fde0",
   "metadata": {},
   "outputs": [
    {
     "data": {
      "text/html": [
       "<div>\n",
       "<style scoped>\n",
       "    .dataframe tbody tr th:only-of-type {\n",
       "        vertical-align: middle;\n",
       "    }\n",
       "\n",
       "    .dataframe tbody tr th {\n",
       "        vertical-align: top;\n",
       "    }\n",
       "\n",
       "    .dataframe thead th {\n",
       "        text-align: right;\n",
       "    }\n",
       "</style>\n",
       "<table border=\"1\" class=\"dataframe\">\n",
       "  <thead>\n",
       "    <tr style=\"text-align: right;\">\n",
       "      <th></th>\n",
       "      <th>SGnumber</th>\n",
       "      <th>minimum oxidation state</th>\n",
       "      <th>maximum oxidation state</th>\n",
       "      <th>range oxidation state</th>\n",
       "      <th>std_dev oxidation state</th>\n",
       "      <th>MagpieData minimum Number</th>\n",
       "      <th>MagpieData maximum Number</th>\n",
       "      <th>MagpieData range Number</th>\n",
       "      <th>MagpieData mean Number</th>\n",
       "      <th>MagpieData avg_dev Number</th>\n",
       "      <th>...</th>\n",
       "      <th>MagpieData range GSmagmom</th>\n",
       "      <th>MagpieData mean GSmagmom</th>\n",
       "      <th>MagpieData avg_dev GSmagmom</th>\n",
       "      <th>MagpieData mode GSmagmom</th>\n",
       "      <th>MagpieData minimum SpaceGroupNumber</th>\n",
       "      <th>MagpieData maximum SpaceGroupNumber</th>\n",
       "      <th>MagpieData range SpaceGroupNumber</th>\n",
       "      <th>MagpieData mean SpaceGroupNumber</th>\n",
       "      <th>MagpieData avg_dev SpaceGroupNumber</th>\n",
       "      <th>MagpieData mode SpaceGroupNumber</th>\n",
       "    </tr>\n",
       "  </thead>\n",
       "  <tbody>\n",
       "    <tr>\n",
       "      <th>count</th>\n",
       "      <td>2417.000000</td>\n",
       "      <td>2417.000000</td>\n",
       "      <td>2417.000000</td>\n",
       "      <td>2417.000000</td>\n",
       "      <td>2417.000000</td>\n",
       "      <td>2417.000000</td>\n",
       "      <td>2417.000000</td>\n",
       "      <td>2417.000000</td>\n",
       "      <td>2417.000000</td>\n",
       "      <td>2417.000000</td>\n",
       "      <td>...</td>\n",
       "      <td>2417.000000</td>\n",
       "      <td>2417.000000</td>\n",
       "      <td>2417.000000</td>\n",
       "      <td>2417.000000</td>\n",
       "      <td>2417.000000</td>\n",
       "      <td>2417.000000</td>\n",
       "      <td>2417.000000</td>\n",
       "      <td>2417.000000</td>\n",
       "      <td>2417.000000</td>\n",
       "      <td>2417.000000</td>\n",
       "    </tr>\n",
       "    <tr>\n",
       "      <th>mean</th>\n",
       "      <td>101.334712</td>\n",
       "      <td>-1.718659</td>\n",
       "      <td>3.190319</td>\n",
       "      <td>4.908978</td>\n",
       "      <td>2.790315</td>\n",
       "      <td>17.889119</td>\n",
       "      <td>47.954903</td>\n",
       "      <td>30.065784</td>\n",
       "      <td>29.975149</td>\n",
       "      <td>11.320667</td>\n",
       "      <td>...</td>\n",
       "      <td>0.189744</td>\n",
       "      <td>0.052065</td>\n",
       "      <td>0.068965</td>\n",
       "      <td>0.005985</td>\n",
       "      <td>52.446835</td>\n",
       "      <td>208.581299</td>\n",
       "      <td>156.134464</td>\n",
       "      <td>114.518821</td>\n",
       "      <td>63.228374</td>\n",
       "      <td>66.239139</td>\n",
       "    </tr>\n",
       "    <tr>\n",
       "      <th>std</th>\n",
       "      <td>69.602627</td>\n",
       "      <td>0.963465</td>\n",
       "      <td>1.721318</td>\n",
       "      <td>2.421959</td>\n",
       "      <td>1.316851</td>\n",
       "      <td>13.611513</td>\n",
       "      <td>20.057782</td>\n",
       "      <td>18.864151</td>\n",
       "      <td>14.558804</td>\n",
       "      <td>7.602704</td>\n",
       "      <td>...</td>\n",
       "      <td>0.541907</td>\n",
       "      <td>0.161845</td>\n",
       "      <td>0.205000</td>\n",
       "      <td>0.086009</td>\n",
       "      <td>53.794593</td>\n",
       "      <td>31.627569</td>\n",
       "      <td>60.648036</td>\n",
       "      <td>41.489602</td>\n",
       "      <td>26.294099</td>\n",
       "      <td>64.679373</td>\n",
       "    </tr>\n",
       "    <tr>\n",
       "      <th>min</th>\n",
       "      <td>1.000000</td>\n",
       "      <td>-4.000000</td>\n",
       "      <td>0.000000</td>\n",
       "      <td>0.000000</td>\n",
       "      <td>0.000000</td>\n",
       "      <td>1.000000</td>\n",
       "      <td>6.000000</td>\n",
       "      <td>0.000000</td>\n",
       "      <td>2.727273</td>\n",
       "      <td>0.000000</td>\n",
       "      <td>...</td>\n",
       "      <td>0.000000</td>\n",
       "      <td>0.000000</td>\n",
       "      <td>0.000000</td>\n",
       "      <td>0.000000</td>\n",
       "      <td>2.000000</td>\n",
       "      <td>12.000000</td>\n",
       "      <td>0.000000</td>\n",
       "      <td>12.000000</td>\n",
       "      <td>0.000000</td>\n",
       "      <td>2.000000</td>\n",
       "    </tr>\n",
       "    <tr>\n",
       "      <th>25%</th>\n",
       "      <td>14.000000</td>\n",
       "      <td>-2.000000</td>\n",
       "      <td>2.000000</td>\n",
       "      <td>4.000000</td>\n",
       "      <td>2.323790</td>\n",
       "      <td>8.000000</td>\n",
       "      <td>32.000000</td>\n",
       "      <td>15.000000</td>\n",
       "      <td>18.000000</td>\n",
       "      <td>5.777778</td>\n",
       "      <td>...</td>\n",
       "      <td>0.000000</td>\n",
       "      <td>0.000000</td>\n",
       "      <td>0.000000</td>\n",
       "      <td>0.000000</td>\n",
       "      <td>12.000000</td>\n",
       "      <td>194.000000</td>\n",
       "      <td>130.000000</td>\n",
       "      <td>85.666667</td>\n",
       "      <td>48.750000</td>\n",
       "      <td>12.000000</td>\n",
       "    </tr>\n",
       "    <tr>\n",
       "      <th>50%</th>\n",
       "      <td>129.000000</td>\n",
       "      <td>-2.000000</td>\n",
       "      <td>3.000000</td>\n",
       "      <td>5.000000</td>\n",
       "      <td>2.828427</td>\n",
       "      <td>16.000000</td>\n",
       "      <td>46.000000</td>\n",
       "      <td>26.000000</td>\n",
       "      <td>28.333333</td>\n",
       "      <td>9.555556</td>\n",
       "      <td>...</td>\n",
       "      <td>0.000000</td>\n",
       "      <td>0.000000</td>\n",
       "      <td>0.000000</td>\n",
       "      <td>0.000000</td>\n",
       "      <td>15.000000</td>\n",
       "      <td>225.000000</td>\n",
       "      <td>165.000000</td>\n",
       "      <td>107.333333</td>\n",
       "      <td>67.454545</td>\n",
       "      <td>64.000000</td>\n",
       "    </tr>\n",
       "    <tr>\n",
       "      <th>75%</th>\n",
       "      <td>164.000000</td>\n",
       "      <td>-1.000000</td>\n",
       "      <td>4.000000</td>\n",
       "      <td>7.000000</td>\n",
       "      <td>3.609199</td>\n",
       "      <td>25.000000</td>\n",
       "      <td>64.000000</td>\n",
       "      <td>40.000000</td>\n",
       "      <td>40.666667</td>\n",
       "      <td>15.040000</td>\n",
       "      <td>...</td>\n",
       "      <td>0.000006</td>\n",
       "      <td>0.000002</td>\n",
       "      <td>0.000003</td>\n",
       "      <td>0.000000</td>\n",
       "      <td>64.000000</td>\n",
       "      <td>229.000000</td>\n",
       "      <td>213.000000</td>\n",
       "      <td>139.166667</td>\n",
       "      <td>82.666667</td>\n",
       "      <td>70.000000</td>\n",
       "    </tr>\n",
       "    <tr>\n",
       "      <th>max</th>\n",
       "      <td>191.000000</td>\n",
       "      <td>0.000000</td>\n",
       "      <td>8.000000</td>\n",
       "      <td>11.000000</td>\n",
       "      <td>6.363961</td>\n",
       "      <td>81.000000</td>\n",
       "      <td>94.000000</td>\n",
       "      <td>85.000000</td>\n",
       "      <td>82.000000</td>\n",
       "      <td>37.500000</td>\n",
       "      <td>...</td>\n",
       "      <td>2.110663</td>\n",
       "      <td>1.290393</td>\n",
       "      <td>1.055331</td>\n",
       "      <td>2.110663</td>\n",
       "      <td>227.000000</td>\n",
       "      <td>229.000000</td>\n",
       "      <td>227.000000</td>\n",
       "      <td>228.333333</td>\n",
       "      <td>108.500000</td>\n",
       "      <td>229.000000</td>\n",
       "    </tr>\n",
       "  </tbody>\n",
       "</table>\n",
       "<p>8 rows × 137 columns</p>\n",
       "</div>"
      ],
      "text/plain": [
       "          SGnumber  minimum oxidation state  maximum oxidation state  \\\n",
       "count  2417.000000              2417.000000              2417.000000   \n",
       "mean    101.334712                -1.718659                 3.190319   \n",
       "std      69.602627                 0.963465                 1.721318   \n",
       "min       1.000000                -4.000000                 0.000000   \n",
       "25%      14.000000                -2.000000                 2.000000   \n",
       "50%     129.000000                -2.000000                 3.000000   \n",
       "75%     164.000000                -1.000000                 4.000000   \n",
       "max     191.000000                 0.000000                 8.000000   \n",
       "\n",
       "       range oxidation state  std_dev oxidation state  \\\n",
       "count            2417.000000              2417.000000   \n",
       "mean                4.908978                 2.790315   \n",
       "std                 2.421959                 1.316851   \n",
       "min                 0.000000                 0.000000   \n",
       "25%                 4.000000                 2.323790   \n",
       "50%                 5.000000                 2.828427   \n",
       "75%                 7.000000                 3.609199   \n",
       "max                11.000000                 6.363961   \n",
       "\n",
       "       MagpieData minimum Number  MagpieData maximum Number  \\\n",
       "count                2417.000000                2417.000000   \n",
       "mean                   17.889119                  47.954903   \n",
       "std                    13.611513                  20.057782   \n",
       "min                     1.000000                   6.000000   \n",
       "25%                     8.000000                  32.000000   \n",
       "50%                    16.000000                  46.000000   \n",
       "75%                    25.000000                  64.000000   \n",
       "max                    81.000000                  94.000000   \n",
       "\n",
       "       MagpieData range Number  MagpieData mean Number  \\\n",
       "count              2417.000000             2417.000000   \n",
       "mean                 30.065784               29.975149   \n",
       "std                  18.864151               14.558804   \n",
       "min                   0.000000                2.727273   \n",
       "25%                  15.000000               18.000000   \n",
       "50%                  26.000000               28.333333   \n",
       "75%                  40.000000               40.666667   \n",
       "max                  85.000000               82.000000   \n",
       "\n",
       "       MagpieData avg_dev Number  ...  MagpieData range GSmagmom  \\\n",
       "count                2417.000000  ...                2417.000000   \n",
       "mean                   11.320667  ...                   0.189744   \n",
       "std                     7.602704  ...                   0.541907   \n",
       "min                     0.000000  ...                   0.000000   \n",
       "25%                     5.777778  ...                   0.000000   \n",
       "50%                     9.555556  ...                   0.000000   \n",
       "75%                    15.040000  ...                   0.000006   \n",
       "max                    37.500000  ...                   2.110663   \n",
       "\n",
       "       MagpieData mean GSmagmom  MagpieData avg_dev GSmagmom  \\\n",
       "count               2417.000000                  2417.000000   \n",
       "mean                   0.052065                     0.068965   \n",
       "std                    0.161845                     0.205000   \n",
       "min                    0.000000                     0.000000   \n",
       "25%                    0.000000                     0.000000   \n",
       "50%                    0.000000                     0.000000   \n",
       "75%                    0.000002                     0.000003   \n",
       "max                    1.290393                     1.055331   \n",
       "\n",
       "       MagpieData mode GSmagmom  MagpieData minimum SpaceGroupNumber  \\\n",
       "count               2417.000000                          2417.000000   \n",
       "mean                   0.005985                            52.446835   \n",
       "std                    0.086009                            53.794593   \n",
       "min                    0.000000                             2.000000   \n",
       "25%                    0.000000                            12.000000   \n",
       "50%                    0.000000                            15.000000   \n",
       "75%                    0.000000                            64.000000   \n",
       "max                    2.110663                           227.000000   \n",
       "\n",
       "       MagpieData maximum SpaceGroupNumber  MagpieData range SpaceGroupNumber  \\\n",
       "count                          2417.000000                        2417.000000   \n",
       "mean                            208.581299                         156.134464   \n",
       "std                              31.627569                          60.648036   \n",
       "min                              12.000000                           0.000000   \n",
       "25%                             194.000000                         130.000000   \n",
       "50%                             225.000000                         165.000000   \n",
       "75%                             229.000000                         213.000000   \n",
       "max                             229.000000                         227.000000   \n",
       "\n",
       "       MagpieData mean SpaceGroupNumber  MagpieData avg_dev SpaceGroupNumber  \\\n",
       "count                       2417.000000                          2417.000000   \n",
       "mean                         114.518821                            63.228374   \n",
       "std                           41.489602                            26.294099   \n",
       "min                           12.000000                             0.000000   \n",
       "25%                           85.666667                            48.750000   \n",
       "50%                          107.333333                            67.454545   \n",
       "75%                          139.166667                            82.666667   \n",
       "max                          228.333333                           108.500000   \n",
       "\n",
       "       MagpieData mode SpaceGroupNumber  \n",
       "count                       2417.000000  \n",
       "mean                          66.239139  \n",
       "std                           64.679373  \n",
       "min                            2.000000  \n",
       "25%                           12.000000  \n",
       "50%                           64.000000  \n",
       "75%                           70.000000  \n",
       "max                          229.000000  \n",
       "\n",
       "[8 rows x 137 columns]"
      ]
     },
     "execution_count": 6,
     "metadata": {},
     "output_type": "execute_result"
    }
   ],
   "source": [
    "X.describe()"
   ]
  },
  {
   "cell_type": "code",
   "execution_count": 7,
   "id": "c149edcf-0ee7-4667-9bfe-8b21d6f602a7",
   "metadata": {},
   "outputs": [],
   "source": [
    "from sklearn.preprocessing import StandardScaler\n",
    "scaler = StandardScaler()"
   ]
  },
  {
   "cell_type": "code",
   "execution_count": 8,
   "id": "c6ce557e-8179-428b-b6f4-83fa81df76c8",
   "metadata": {},
   "outputs": [
    {
     "data": {
      "text/html": [
       "<style>#sk-container-id-1 {color: black;background-color: white;}#sk-container-id-1 pre{padding: 0;}#sk-container-id-1 div.sk-toggleable {background-color: white;}#sk-container-id-1 label.sk-toggleable__label {cursor: pointer;display: block;width: 100%;margin-bottom: 0;padding: 0.3em;box-sizing: border-box;text-align: center;}#sk-container-id-1 label.sk-toggleable__label-arrow:before {content: \"▸\";float: left;margin-right: 0.25em;color: #696969;}#sk-container-id-1 label.sk-toggleable__label-arrow:hover:before {color: black;}#sk-container-id-1 div.sk-estimator:hover label.sk-toggleable__label-arrow:before {color: black;}#sk-container-id-1 div.sk-toggleable__content {max-height: 0;max-width: 0;overflow: hidden;text-align: left;background-color: #f0f8ff;}#sk-container-id-1 div.sk-toggleable__content pre {margin: 0.2em;color: black;border-radius: 0.25em;background-color: #f0f8ff;}#sk-container-id-1 input.sk-toggleable__control:checked~div.sk-toggleable__content {max-height: 200px;max-width: 100%;overflow: auto;}#sk-container-id-1 input.sk-toggleable__control:checked~label.sk-toggleable__label-arrow:before {content: \"▾\";}#sk-container-id-1 div.sk-estimator input.sk-toggleable__control:checked~label.sk-toggleable__label {background-color: #d4ebff;}#sk-container-id-1 div.sk-label input.sk-toggleable__control:checked~label.sk-toggleable__label {background-color: #d4ebff;}#sk-container-id-1 input.sk-hidden--visually {border: 0;clip: rect(1px 1px 1px 1px);clip: rect(1px, 1px, 1px, 1px);height: 1px;margin: -1px;overflow: hidden;padding: 0;position: absolute;width: 1px;}#sk-container-id-1 div.sk-estimator {font-family: monospace;background-color: #f0f8ff;border: 1px dotted black;border-radius: 0.25em;box-sizing: border-box;margin-bottom: 0.5em;}#sk-container-id-1 div.sk-estimator:hover {background-color: #d4ebff;}#sk-container-id-1 div.sk-parallel-item::after {content: \"\";width: 100%;border-bottom: 1px solid gray;flex-grow: 1;}#sk-container-id-1 div.sk-label:hover label.sk-toggleable__label {background-color: #d4ebff;}#sk-container-id-1 div.sk-serial::before {content: \"\";position: absolute;border-left: 1px solid gray;box-sizing: border-box;top: 0;bottom: 0;left: 50%;z-index: 0;}#sk-container-id-1 div.sk-serial {display: flex;flex-direction: column;align-items: center;background-color: white;padding-right: 0.2em;padding-left: 0.2em;position: relative;}#sk-container-id-1 div.sk-item {position: relative;z-index: 1;}#sk-container-id-1 div.sk-parallel {display: flex;align-items: stretch;justify-content: center;background-color: white;position: relative;}#sk-container-id-1 div.sk-item::before, #sk-container-id-1 div.sk-parallel-item::before {content: \"\";position: absolute;border-left: 1px solid gray;box-sizing: border-box;top: 0;bottom: 0;left: 50%;z-index: -1;}#sk-container-id-1 div.sk-parallel-item {display: flex;flex-direction: column;z-index: 1;position: relative;background-color: white;}#sk-container-id-1 div.sk-parallel-item:first-child::after {align-self: flex-end;width: 50%;}#sk-container-id-1 div.sk-parallel-item:last-child::after {align-self: flex-start;width: 50%;}#sk-container-id-1 div.sk-parallel-item:only-child::after {width: 0;}#sk-container-id-1 div.sk-dashed-wrapped {border: 1px dashed gray;margin: 0 0.4em 0.5em 0.4em;box-sizing: border-box;padding-bottom: 0.4em;background-color: white;}#sk-container-id-1 div.sk-label label {font-family: monospace;font-weight: bold;display: inline-block;line-height: 1.2em;}#sk-container-id-1 div.sk-label-container {text-align: center;}#sk-container-id-1 div.sk-container {/* jupyter's `normalize.less` sets `[hidden] { display: none; }` but bootstrap.min.css set `[hidden] { display: none !important; }` so we also need the `!important` here to be able to override the default hidden behavior on the sphinx rendered scikit-learn.org. See: https://github.com/scikit-learn/scikit-learn/issues/21755 */display: inline-block !important;position: relative;}#sk-container-id-1 div.sk-text-repr-fallback {display: none;}</style><div id=\"sk-container-id-1\" class=\"sk-top-container\"><div class=\"sk-text-repr-fallback\"><pre>StandardScaler()</pre><b>In a Jupyter environment, please rerun this cell to show the HTML representation or trust the notebook. <br />On GitHub, the HTML representation is unable to render, please try loading this page with nbviewer.org.</b></div><div class=\"sk-container\" hidden><div class=\"sk-item\"><div class=\"sk-estimator sk-toggleable\"><input class=\"sk-toggleable__control sk-hidden--visually\" id=\"sk-estimator-id-1\" type=\"checkbox\" checked><label for=\"sk-estimator-id-1\" class=\"sk-toggleable__label sk-toggleable__label-arrow\">StandardScaler</label><div class=\"sk-toggleable__content\"><pre>StandardScaler()</pre></div></div></div></div></div>"
      ],
      "text/plain": [
       "StandardScaler()"
      ]
     },
     "execution_count": 8,
     "metadata": {},
     "output_type": "execute_result"
    }
   ],
   "source": [
    "scaler.fit(X_train)"
   ]
  },
  {
   "cell_type": "code",
   "execution_count": 9,
   "id": "7211069b-d49f-46db-b1a1-eb8cecbc68ef",
   "metadata": {},
   "outputs": [],
   "source": [
    "X_train_s = scaler.transform(X_train)\n",
    "X_test_s = scaler.transform(X_test)"
   ]
  },
  {
   "cell_type": "code",
   "execution_count": 10,
   "id": "7885e10b-fd4e-4e05-8c94-4f837f4f9da4",
   "metadata": {},
   "outputs": [
    {
     "data": {
      "text/plain": [
       "array([-3.04638370e-17,  1.36562028e-17,  2.10095427e-18, -5.46248111e-17,\n",
       "       -2.73124056e-17,  1.00845805e-16, -2.52114513e-17,  7.14324453e-17,\n",
       "        1.84883976e-16,  1.40763936e-16, -5.88267197e-17, -4.20190855e-17,\n",
       "       -9.45429424e-16,  7.56343539e-17, -6.80709185e-16, -1.72278251e-16,\n",
       "       -4.83219483e-17,  2.31104970e-16,  1.99590656e-16,  7.66848310e-17,\n",
       "       -6.72305368e-17, -1.11875815e-16,  8.40381710e-17, -9.24419881e-17,\n",
       "       -1.84883976e-16, -1.99590656e-16,  2.10095427e-16, -2.98335507e-16,\n",
       "       -1.46541561e-16, -3.36152684e-17,  7.22728271e-16, -1.63874433e-16,\n",
       "       -4.62209940e-17,  1.90136362e-16, -7.87857853e-17,  3.36152684e-17,\n",
       "        1.13451531e-16,  3.36152684e-17,  0.00000000e+00, -2.10095427e-17,\n",
       "       -1.30259165e-16,  2.94133598e-17, -3.19345050e-16, -3.25647913e-17,\n",
       "        2.18499245e-16, -5.56752883e-17, -2.52114513e-17,  2.10095427e-17,\n",
       "       -2.47912604e-16,  1.27107734e-16, -6.13478648e-16,  2.22701153e-16,\n",
       "        2.73124056e-17, -1.51793946e-16, -2.71023101e-16,  5.98771968e-17,\n",
       "        1.30259165e-16, -7.35333996e-18, -7.03819682e-17,  1.26057256e-17,\n",
       "        4.13887992e-16, -4.08110368e-16, -1.81732545e-16, -1.39713459e-16,\n",
       "       -9.82196124e-17, -1.05047714e-17, -5.04229026e-17,  5.04229026e-17,\n",
       "       -2.94133598e-17, -1.63874433e-16, -5.88267197e-17,  8.40381710e-18,\n",
       "       -5.35743340e-17, -5.98771968e-17,  1.13451531e-16, -1.26057256e-17,\n",
       "        5.14733797e-17, -4.20190855e-18, -7.56343539e-17,  8.08867396e-17,\n",
       "       -9.24419881e-17,  5.04229026e-17, -6.51295825e-17, -3.36152684e-17,\n",
       "        1.68076342e-17, -7.35333996e-17,  2.78376441e-17, -6.82810139e-17,\n",
       "        3.78171769e-17,  2.94133598e-17, -1.47066799e-16,  2.31104970e-17,\n",
       "        6.09276740e-17, -1.70177296e-16, -5.67257654e-17, -4.20190855e-18,\n",
       "        1.26057256e-16, -1.00845805e-16,  1.15552485e-16, -1.00845805e-16,\n",
       "        1.68076342e-17,  0.00000000e+00, -4.83219483e-17, -4.83219483e-17,\n",
       "       -3.99181312e-17,  1.47066799e-17, -1.57571571e-17,  1.80682068e-16,\n",
       "       -1.17653439e-16,  2.52114513e-17,  1.47066799e-17, -5.88267197e-17,\n",
       "       -7.98362624e-17,  2.85729781e-16,  8.40381710e-17, -9.24419881e-17,\n",
       "       -1.09249622e-16, -1.59672525e-16, -1.84883976e-16,  1.26057256e-17,\n",
       "        2.94133598e-17,  1.07148668e-16,  2.07994473e-16,  1.09249622e-16,\n",
       "       -3.67666998e-17, -4.20190855e-18, -1.05047714e-17, -4.20190855e-18,\n",
       "       -3.99181312e-17,  7.14324453e-17,  3.15143141e-17, -8.40381710e-18,\n",
       "       -6.30286282e-17,  7.66848310e-17,  2.35306879e-16,  2.05893519e-16,\n",
       "       -5.25238569e-17])"
      ]
     },
     "execution_count": 10,
     "metadata": {},
     "output_type": "execute_result"
    }
   ],
   "source": [
    "np.mean(X_train_s, axis = 0)"
   ]
  },
  {
   "cell_type": "code",
   "execution_count": 11,
   "id": "c20857bc-91e0-4d10-a207-76de34976d79",
   "metadata": {},
   "outputs": [
    {
     "data": {
      "text/plain": [
       "array([1., 1., 1., 1., 1., 1., 1., 1., 1., 1., 1., 1., 1., 1., 1., 1., 1.,\n",
       "       1., 1., 1., 1., 1., 1., 1., 1., 1., 1., 1., 1., 1., 1., 1., 1., 1.,\n",
       "       1., 1., 1., 1., 1., 1., 1., 1., 1., 1., 1., 1., 1., 1., 1., 1., 1.,\n",
       "       1., 1., 1., 1., 1., 1., 1., 1., 1., 1., 1., 1., 1., 1., 1., 1., 1.,\n",
       "       1., 1., 1., 1., 1., 1., 1., 1., 1., 1., 1., 1., 1., 1., 1., 1., 1.,\n",
       "       1., 1., 1., 1., 1., 1., 1., 1., 1., 1., 1., 1., 1., 1., 1., 1., 0.,\n",
       "       1., 1., 1., 1., 1., 1., 1., 1., 1., 1., 1., 1., 1., 1., 1., 1., 1.,\n",
       "       1., 1., 1., 1., 1., 1., 1., 1., 1., 1., 1., 1., 1., 1., 1., 1., 1.,\n",
       "       1.])"
      ]
     },
     "execution_count": 11,
     "metadata": {},
     "output_type": "execute_result"
    }
   ],
   "source": [
    "np.std(X_train_s, axis = 0)"
   ]
  },
  {
   "cell_type": "code",
   "execution_count": 12,
   "id": "bf8baf7a-afaf-4d77-b884-e3c8f3a2a5b1",
   "metadata": {},
   "outputs": [
    {
     "data": {
      "text/plain": [
       "array([ 0.09449565, -0.06659615, -0.00360915,  0.02363078,  0.03490922,\n",
       "       -0.05490229,  0.01303792,  0.05416031, -0.01499272,  0.06918839,\n",
       "        0.00334785,  0.00526255, -0.01591074, -0.00998966, -0.00892146,\n",
       "       -0.01086822, -0.0571491 , -0.05720869,  0.01410829,  0.0539875 ,\n",
       "       -0.0145184 ,  0.0676643 ,  0.00262801, -0.01359948,  0.03601259,\n",
       "        0.03983138,  0.02153644,  0.01860301,  0.03490913, -0.01734772,\n",
       "       -0.03802609,  0.00492397, -0.02318147, -0.01451456, -0.05351097,\n",
       "       -0.05216944,  0.02232158,  0.06627112, -0.01416184,  0.07549848,\n",
       "        0.00289971, -0.03311503,  0.04527013,  0.05462294, -0.00742632,\n",
       "        0.04025911,  0.00967507,  0.00227377, -0.03162629, -0.0262445 ,\n",
       "       -0.02547312, -0.0311232 , -0.02895065,  0.0024012 , -0.00566411,\n",
       "       -0.00277864,  0.01331317, -0.01210629, -0.03971007, -0.00504459,\n",
       "       -0.05330913, -0.03829552, -0.0328097 , -0.06630429, -0.04890147,\n",
       "       -0.02679992, -0.0002517 ,  0.02315553, -0.02226938,  0.0246292 ,\n",
       "       -0.01611078,  0.01466792,  0.01267921,  0.01119584,  0.01623416,\n",
       "        0.00639957,  0.09555265, -0.04501254,  0.0270524 ,  0.06282325,\n",
       "       -0.01459636,  0.0601127 , -0.00737763, -0.03441123, -0.01001075,\n",
       "       -0.00751206, -0.03372945, -0.02177902, -0.03397866,  0.02126509,\n",
       "        0.08873802,  0.08963958,  0.06349254,  0.03181673, -0.01616157,\n",
       "       -0.04774589, -0.02180085, -0.01997794, -0.01446618, -0.01773613,\n",
       "        0.05479557,  0.        , -0.02159807, -0.02159807, -0.0229111 ,\n",
       "       -0.02062949,  0.00202089,  0.03059905, -0.02966399, -0.03847575,\n",
       "        0.00485378, -0.04480998,  0.05004201, -0.03155214,  0.05456117,\n",
       "        0.07645178,  0.00144639,  0.07368645, -0.04442815, -0.07028353,\n",
       "        0.05823631,  0.06663976,  0.00483955,  0.04943526, -0.05770897,\n",
       "       -0.02432521,  0.06312561,  0.06380685,  0.02717334,  0.04646066,\n",
       "        0.00345732,  0.02611602,  0.10720593,  0.03565413,  0.06789293,\n",
       "        0.01272279,  0.05293601])"
      ]
     },
     "execution_count": 12,
     "metadata": {},
     "output_type": "execute_result"
    }
   ],
   "source": [
    "np.mean(X_test_s, axis = 0)"
   ]
  },
  {
   "cell_type": "code",
   "execution_count": 13,
   "id": "8bd8c6c4-5618-4b43-914e-a2a7293c7121",
   "metadata": {},
   "outputs": [
    {
     "data": {
      "text/plain": [
       "array([9.86904641e-01, 1.03220650e+00, 9.82646343e-01, 9.97774884e-01,\n",
       "       9.93414143e-01, 9.54907403e-01, 9.76381581e-01, 1.00281106e+00,\n",
       "       9.59993569e-01, 1.01857775e+00, 1.01939127e+00, 9.83865479e-01,\n",
       "       8.76370753e-01, 9.77942327e-01, 9.83085978e-01, 1.01337704e+00,\n",
       "       1.02433824e+00, 9.52862165e-01, 9.76104208e-01, 1.00350636e+00,\n",
       "       9.58924310e-01, 1.01871239e+00, 1.02044685e+00, 9.06318497e-01,\n",
       "       1.03106710e+00, 1.02741036e+00, 1.02305855e+00, 9.95295909e-01,\n",
       "       1.03985998e+00, 9.94251386e-01, 1.04110075e+00, 9.93463224e-01,\n",
       "       1.02291223e+00, 1.00025016e+00, 1.02146670e+00, 9.79427074e-01,\n",
       "       9.59660374e-01, 9.96744013e-01, 9.66365886e-01, 1.01119252e+00,\n",
       "       1.01684687e+00, 9.99667354e-01, 1.00565317e+00, 1.03468710e+00,\n",
       "       9.88776910e-01, 1.02606592e+00, 1.02045005e+00, 1.03072027e+00,\n",
       "       1.00940248e+00, 9.87712552e-01, 1.03944183e+00, 9.77601848e-01,\n",
       "       1.02142228e+00, 1.00512641e+00, 1.07906143e+00, 9.99903703e-01,\n",
       "       1.02918897e+00, 1.00031204e+00, 1.08383415e+00, 9.98369733e-01,\n",
       "       9.88512440e-01, 9.86917539e-01, 1.01694839e+00, 9.90896066e-01,\n",
       "       1.00366218e+00, 9.79297448e-01, 1.00382273e+00, 1.00232175e+00,\n",
       "       9.86974590e-01, 9.93119059e-01, 9.88094122e-01, 1.19602686e+00,\n",
       "       1.00850013e+00, 1.00822854e+00, 1.03184493e+00, 1.00358317e+00,\n",
       "       1.35816567e+00, 9.64857632e-01, 9.87318850e-01, 1.00453973e+00,\n",
       "       9.75347298e-01, 1.00612159e+00, 1.00272247e+00, 6.93889390e-18,\n",
       "       9.96451252e-01, 9.97326418e-01, 9.54878348e-01, 9.82657711e-01,\n",
       "       8.68817594e-01, 1.05327535e+00, 1.03401452e+00, 1.03959851e+00,\n",
       "       1.02407407e+00, 1.01559583e+00, 1.02059994e+00, 6.93889390e-18,\n",
       "       9.87338689e-01, 9.87803091e-01, 1.00504736e+00, 9.91284559e-01,\n",
       "       1.10019242e+00, 0.00000000e+00, 9.10057539e-01, 9.10057539e-01,\n",
       "       8.68095419e-01, 9.08859905e-01, 9.80964932e-01, 1.05446380e+00,\n",
       "       9.24400403e-01, 9.10649785e-01, 9.57207589e-01, 9.23096805e-01,\n",
       "       1.03016731e+00, 9.92229923e-01, 1.04852042e+00, 1.04073546e+00,\n",
       "       1.00418855e+00, 1.06673764e+00, 9.77100924e-01, 3.84076978e-01,\n",
       "       1.05075318e+00, 1.05629688e+00, 9.95693640e-01, 1.04478631e+00,\n",
       "       9.57820354e-01, 3.46944695e-18, 1.10648871e+00, 1.10665577e+00,\n",
       "       1.00860343e+00, 1.06091633e+00, 1.06392092e+00, 1.02235372e+00,\n",
       "       8.34131017e-01, 1.00779341e+00, 1.00068522e+00, 9.95513852e-01,\n",
       "       1.03411687e+00])"
      ]
     },
     "execution_count": 13,
     "metadata": {},
     "output_type": "execute_result"
    }
   ],
   "source": [
    "np.std(X_test_s, axis = 0)"
   ]
  },
  {
   "cell_type": "code",
   "execution_count": 14,
   "id": "7827d1ca-780c-419b-a6de-b785b71e5256",
   "metadata": {},
   "outputs": [
    {
     "data": {
      "text/plain": [
       "0.7988980716253443"
      ]
     },
     "execution_count": 14,
     "metadata": {},
     "output_type": "execute_result"
    }
   ],
   "source": [
    "modelsvc = SVC(kernel=\"linear\", random_state = 1)\n",
    "modelsvc.fit(X_train_s, y_train)\n",
    "modelsvc.score(X_test_s, y_test)"
   ]
  },
  {
   "cell_type": "code",
   "execution_count": 15,
   "id": "3a9f0aa7-0e74-4746-be45-297931b170b4",
   "metadata": {},
   "outputs": [],
   "source": [
    "param_grid = {'C': [0.1, 1, 10],\n",
    "              'kernel': ('linear', 'poly', 'rbf', 'sigmoid'),\n",
    "              'gamma': [0.01, 0.1, 1]}\n",
    "kfold = StratifiedKFold(n_splits=10, shuffle=True,\n",
    "                        random_state = 55)\n",
    "model_svc = GridSearchCV(SVC(random_state = 56),\n",
    "                     param_grid, cv = kfold)"
   ]
  },
  {
   "cell_type": "code",
   "execution_count": 16,
   "id": "179527e2-49fd-408c-8a48-2ae4dcc0da38",
   "metadata": {},
   "outputs": [
    {
     "data": {
      "text/plain": [
       "{'C': 10, 'gamma': 0.01, 'kernel': 'rbf'}"
      ]
     },
     "execution_count": 16,
     "metadata": {},
     "output_type": "execute_result"
    }
   ],
   "source": [
    "model_svc.fit(X_train_s, y_train)\n",
    "model_svc.best_params_"
   ]
  },
  {
   "cell_type": "code",
   "execution_count": 17,
   "id": "68fca203-8b09-487f-9297-2927c123e54f",
   "metadata": {},
   "outputs": [
    {
     "data": {
      "text/plain": [
       "0.8512396694214877"
      ]
     },
     "execution_count": 17,
     "metadata": {},
     "output_type": "execute_result"
    }
   ],
   "source": [
    "model_svc.score(X_test_s, y_test)"
   ]
  },
  {
   "cell_type": "code",
   "execution_count": 18,
   "id": "eff9dec9-fc3a-47a9-9b4f-491c7362b737",
   "metadata": {},
   "outputs": [
    {
     "data": {
      "text/html": [
       "<style>#sk-container-id-2 {color: black;background-color: white;}#sk-container-id-2 pre{padding: 0;}#sk-container-id-2 div.sk-toggleable {background-color: white;}#sk-container-id-2 label.sk-toggleable__label {cursor: pointer;display: block;width: 100%;margin-bottom: 0;padding: 0.3em;box-sizing: border-box;text-align: center;}#sk-container-id-2 label.sk-toggleable__label-arrow:before {content: \"▸\";float: left;margin-right: 0.25em;color: #696969;}#sk-container-id-2 label.sk-toggleable__label-arrow:hover:before {color: black;}#sk-container-id-2 div.sk-estimator:hover label.sk-toggleable__label-arrow:before {color: black;}#sk-container-id-2 div.sk-toggleable__content {max-height: 0;max-width: 0;overflow: hidden;text-align: left;background-color: #f0f8ff;}#sk-container-id-2 div.sk-toggleable__content pre {margin: 0.2em;color: black;border-radius: 0.25em;background-color: #f0f8ff;}#sk-container-id-2 input.sk-toggleable__control:checked~div.sk-toggleable__content {max-height: 200px;max-width: 100%;overflow: auto;}#sk-container-id-2 input.sk-toggleable__control:checked~label.sk-toggleable__label-arrow:before {content: \"▾\";}#sk-container-id-2 div.sk-estimator input.sk-toggleable__control:checked~label.sk-toggleable__label {background-color: #d4ebff;}#sk-container-id-2 div.sk-label input.sk-toggleable__control:checked~label.sk-toggleable__label {background-color: #d4ebff;}#sk-container-id-2 input.sk-hidden--visually {border: 0;clip: rect(1px 1px 1px 1px);clip: rect(1px, 1px, 1px, 1px);height: 1px;margin: -1px;overflow: hidden;padding: 0;position: absolute;width: 1px;}#sk-container-id-2 div.sk-estimator {font-family: monospace;background-color: #f0f8ff;border: 1px dotted black;border-radius: 0.25em;box-sizing: border-box;margin-bottom: 0.5em;}#sk-container-id-2 div.sk-estimator:hover {background-color: #d4ebff;}#sk-container-id-2 div.sk-parallel-item::after {content: \"\";width: 100%;border-bottom: 1px solid gray;flex-grow: 1;}#sk-container-id-2 div.sk-label:hover label.sk-toggleable__label {background-color: #d4ebff;}#sk-container-id-2 div.sk-serial::before {content: \"\";position: absolute;border-left: 1px solid gray;box-sizing: border-box;top: 0;bottom: 0;left: 50%;z-index: 0;}#sk-container-id-2 div.sk-serial {display: flex;flex-direction: column;align-items: center;background-color: white;padding-right: 0.2em;padding-left: 0.2em;position: relative;}#sk-container-id-2 div.sk-item {position: relative;z-index: 1;}#sk-container-id-2 div.sk-parallel {display: flex;align-items: stretch;justify-content: center;background-color: white;position: relative;}#sk-container-id-2 div.sk-item::before, #sk-container-id-2 div.sk-parallel-item::before {content: \"\";position: absolute;border-left: 1px solid gray;box-sizing: border-box;top: 0;bottom: 0;left: 50%;z-index: -1;}#sk-container-id-2 div.sk-parallel-item {display: flex;flex-direction: column;z-index: 1;position: relative;background-color: white;}#sk-container-id-2 div.sk-parallel-item:first-child::after {align-self: flex-end;width: 50%;}#sk-container-id-2 div.sk-parallel-item:last-child::after {align-self: flex-start;width: 50%;}#sk-container-id-2 div.sk-parallel-item:only-child::after {width: 0;}#sk-container-id-2 div.sk-dashed-wrapped {border: 1px dashed gray;margin: 0 0.4em 0.5em 0.4em;box-sizing: border-box;padding-bottom: 0.4em;background-color: white;}#sk-container-id-2 div.sk-label label {font-family: monospace;font-weight: bold;display: inline-block;line-height: 1.2em;}#sk-container-id-2 div.sk-label-container {text-align: center;}#sk-container-id-2 div.sk-container {/* jupyter's `normalize.less` sets `[hidden] { display: none; }` but bootstrap.min.css set `[hidden] { display: none !important; }` so we also need the `!important` here to be able to override the default hidden behavior on the sphinx rendered scikit-learn.org. See: https://github.com/scikit-learn/scikit-learn/issues/21755 */display: inline-block !important;position: relative;}#sk-container-id-2 div.sk-text-repr-fallback {display: none;}</style><div id=\"sk-container-id-2\" class=\"sk-top-container\"><div class=\"sk-text-repr-fallback\"><pre>SVC(C=10, gamma=0.01, random_state=56)</pre><b>In a Jupyter environment, please rerun this cell to show the HTML representation or trust the notebook. <br />On GitHub, the HTML representation is unable to render, please try loading this page with nbviewer.org.</b></div><div class=\"sk-container\" hidden><div class=\"sk-item\"><div class=\"sk-estimator sk-toggleable\"><input class=\"sk-toggleable__control sk-hidden--visually\" id=\"sk-estimator-id-2\" type=\"checkbox\" checked><label for=\"sk-estimator-id-2\" class=\"sk-toggleable__label sk-toggleable__label-arrow\">SVC</label><div class=\"sk-toggleable__content\"><pre>SVC(C=10, gamma=0.01, random_state=56)</pre></div></div></div></div></div>"
      ],
      "text/plain": [
       "SVC(C=10, gamma=0.01, random_state=56)"
      ]
     },
     "execution_count": 18,
     "metadata": {},
     "output_type": "execute_result"
    }
   ],
   "source": [
    "model_svc.best_estimator_"
   ]
  },
  {
   "cell_type": "code",
   "execution_count": 19,
   "id": "f66b5ca9-84a1-40e8-bd78-c716f7c0f4e3",
   "metadata": {},
   "outputs": [
    {
     "data": {
      "text/plain": [
       "0.8512396694214877"
      ]
     },
     "execution_count": 19,
     "metadata": {},
     "output_type": "execute_result"
    }
   ],
   "source": [
    "model_SVC = SVC(C=10, gamma=0.01, random_state=12, kernel='rbf')\n",
    "model_SVC.fit(X_train_s, y_train)\n",
    "model_SVC.score(X_test_s, y_test)"
   ]
  },
  {
   "cell_type": "code",
   "execution_count": 20,
   "id": "f4b3d7f4-c53b-4cab-b782-109e3e19e7fe",
   "metadata": {},
   "outputs": [
    {
     "data": {
      "text/plain": [
       "(726,)"
      ]
     },
     "execution_count": 20,
     "metadata": {},
     "output_type": "execute_result"
    }
   ],
   "source": [
    "y_pred = model_SVC.predict(X_test_s)\n",
    "y_pred.shape"
   ]
  },
  {
   "cell_type": "code",
   "execution_count": 22,
   "id": "8e53b7d6-f66c-4919-9359-3f549515a67d",
   "metadata": {},
   "outputs": [
    {
     "name": "stdout",
     "output_type": "stream",
     "text": [
      "[[330  58]\n",
      " [ 50 288]]\n"
     ]
    },
    {
     "data": {
      "image/png": "[encoded data removed]",
      "text/plain": [
       "<Figure size 480x480 with 2 Axes>"
      ]
     },
     "metadata": {},
     "output_type": "display_data"
    }
   ],
   "source": [
    "import matplotlib.pyplot as plt\n",
    "plt.rcParams['font.sans-serif']=['Times New Roman']\n",
    "from sklearn.metrics import confusion_matrix\n",
    "confusion_matrix = confusion_matrix(y_test, y_pred)\n",
    "print(confusion_matrix)\n",
    "plt.matshow(confusion_matrix)\n",
    "plt.title('Confusion matrix',fontsize = 20)\n",
    "plt.xticks(fontsize = 16)\n",
    "plt.yticks(fontsize = 16)\n",
    "cb = plt.colorbar()\n",
    "cb.ax.tick_params(labelsize=16)\n",
    "plt.ylabel('True label', fontsize = 20)\n",
    "plt.xlabel('Predicted label',fontsize = 20)\n",
    "plt.savefig('c3.png', dpi = 300)\n",
    "#plt.show()"
   ]
  },
  {
   "cell_type": "code",
   "execution_count": 23,
   "id": "c21f7ee6-8631-4415-ae1c-ae9c2755ae6f",
   "metadata": {},
   "outputs": [
    {
     "data": {
      "text/html": [
       "<div>\n",
       "<style scoped>\n",
       "    .dataframe tbody tr th:only-of-type {\n",
       "        vertical-align: middle;\n",
       "    }\n",
       "\n",
       "    .dataframe tbody tr th {\n",
       "        vertical-align: top;\n",
       "    }\n",
       "\n",
       "    .dataframe thead th {\n",
       "        text-align: right;\n",
       "    }\n",
       "</style>\n",
       "<table border=\"1\" class=\"dataframe\">\n",
       "  <thead>\n",
       "    <tr style=\"text-align: right;\">\n",
       "      <th>Predicted</th>\n",
       "      <th>False</th>\n",
       "      <th>True</th>\n",
       "    </tr>\n",
       "    <tr>\n",
       "      <th>Actual</th>\n",
       "      <th></th>\n",
       "      <th></th>\n",
       "    </tr>\n",
       "  </thead>\n",
       "  <tbody>\n",
       "    <tr>\n",
       "      <th>False</th>\n",
       "      <td>330</td>\n",
       "      <td>58</td>\n",
       "    </tr>\n",
       "    <tr>\n",
       "      <th>True</th>\n",
       "      <td>50</td>\n",
       "      <td>288</td>\n",
       "    </tr>\n",
       "  </tbody>\n",
       "</table>\n",
       "</div>"
      ],
      "text/plain": [
       "Predicted  False  True \n",
       "Actual                 \n",
       "False        330     58\n",
       "True          50    288"
      ]
     },
     "execution_count": 23,
     "metadata": {},
     "output_type": "execute_result"
    }
   ],
   "source": [
    "#from sklearn.inspection import plot_partial_dependence\n",
    "table = pd.crosstab(y_test, y_pred, rownames = ['Actual'], colnames = ['Predicted'])\n",
    "table"
   ]
  },
  {
   "cell_type": "code",
   "execution_count": 24,
   "id": "752ea775-eb94-4062-aba3-4a430cc45dcf",
   "metadata": {},
   "outputs": [
    {
     "name": "stdout",
     "output_type": "stream",
     "text": [
      "0.8512396694214877\n",
      "0.14876033057851235\n"
     ]
    }
   ],
   "source": [
    "table = np.array(table)\n",
    "Accuracy = (table[0, 0] + table[1,1]) /np.sum(table)\n",
    "print(Accuracy)\n",
    "\n",
    "Error_rate = 1 - Accuracy\n",
    "print(Error_rate)"
   ]
  },
  {
   "cell_type": "code",
   "execution_count": 25,
   "id": "54d58858-d301-4b74-b122-dcb30c520d35",
   "metadata": {},
   "outputs": [
    {
     "name": "stdout",
     "output_type": "stream",
     "text": [
      "Precision: 0.8323699421965318\n",
      "0.8520710059171598\n",
      "0.8505154639175257\n",
      "0.8323699421965318\n",
      "0.8421052631578949\n"
     ]
    },
    {
     "data": {
      "text/plain": [
       "0.7015166280911196"
      ]
     },
     "execution_count": 25,
     "metadata": {},
     "output_type": "execute_result"
    }
   ],
   "source": [
    "Precision = table[1, 1]/(table[1, 1]+table[0, 1])\n",
    "print('Precision:', Precision)\n",
    "\n",
    "Sensitivity = table[1, 1]/(table[1, 0] + table[1,1])\n",
    "print(Sensitivity)\n",
    "\n",
    "Specificity = table[0, 0] /(table[0,0] + table[0, 1])\n",
    "print(Specificity)\n",
    "\n",
    "Recall = table[1, 1] /(table[0, 1] + table[1,1])\n",
    "print(Recall)\n",
    "\n",
    "print(f1_score(y_test, y_pred))\n",
    "cohen_kappa_score(y_test, y_pred)"
   ]
  },
  {
   "cell_type": "code",
   "execution_count": 37,
   "id": "0818b23c-80f6-4c07-ad3b-31e573e653ba",
   "metadata": {},
   "outputs": [
    {
     "data": {
      "image/png": "[encoded data removed]",
      "text/plain": [
       "<Figure size 640x480 with 1 Axes>"
      ]
     },
     "metadata": {},
     "output_type": "display_data"
    }
   ],
   "source": [
    "from sklearn.metrics import RocCurveDisplay\n",
    "plt.rcParams['font.sans-serif']=['Times New Roman']\n",
    "\n",
    "RocCurveDisplay.from_estimator(model_SVC, X_test_s, y_test, color = 'tomato')\n",
    "x = np.linspace(0, 1, 100)\n",
    "plt.plot(x, x, 'k--', linewidth = 1)\n",
    "plt.title('ROC Curve for SVC', fontsize = 15)\n",
    "plt.axis('square')\n",
    "plt.xlim()\n",
    "plt.xticks(fontsize = 15)\n",
    "plt.yticks(fontsize = 15)\n",
    "plt.xlabel('False Positive Rate', fontsize = 15)\n",
    "plt.ylabel('True Positive Rate',fontsize = 15)\n",
    "fontdict = {'family': 'Times New Roman',\n",
    "            'size': 12}\n",
    "            #'style': 'italic'}\n",
    "plt.legend(prop=fontdict, loc = 'upper left')\n",
    "plt.savefig('r3.png', dpi = 300)\n",
    "#plt.show()"
   ]
  },
  {
   "cell_type": "code",
   "execution_count": 28,
   "id": "e80ee668-7375-4f76-bca5-f0623cb01b7e",
   "metadata": {},
   "outputs": [
    {
     "data": {
      "text/html": [
       "<div>\n",
       "<style scoped>\n",
       "    .dataframe tbody tr th:only-of-type {\n",
       "        vertical-align: middle;\n",
       "    }\n",
       "\n",
       "    .dataframe tbody tr th {\n",
       "        vertical-align: top;\n",
       "    }\n",
       "\n",
       "    .dataframe thead th {\n",
       "        text-align: right;\n",
       "    }\n",
       "</style>\n",
       "<table border=\"1\" class=\"dataframe\">\n",
       "  <thead>\n",
       "    <tr style=\"text-align: right;\">\n",
       "      <th></th>\n",
       "      <th>Formula</th>\n",
       "      <th>SGnumber</th>\n",
       "      <th>Magmom</th>\n",
       "      <th>Magnetic</th>\n",
       "    </tr>\n",
       "  </thead>\n",
       "  <tbody>\n",
       "    <tr>\n",
       "      <th>209</th>\n",
       "      <td>CrI3</td>\n",
       "      <td>162</td>\n",
       "      <td>6.001</td>\n",
       "      <td>True</td>\n",
       "    </tr>\n",
       "    <tr>\n",
       "      <th>4955</th>\n",
       "      <td>CrGeTe3</td>\n",
       "      <td>162</td>\n",
       "      <td>6.002</td>\n",
       "      <td>True</td>\n",
       "    </tr>\n",
       "  </tbody>\n",
       "</table>\n",
       "</div>"
      ],
      "text/plain": [
       "      Formula  SGnumber  Magmom  Magnetic\n",
       "209      CrI3       162   6.001      True\n",
       "4955  CrGeTe3       162   6.002      True"
      ]
     },
     "execution_count": 28,
     "metadata": {},
     "output_type": "execute_result"
    }
   ],
   "source": [
    "df_ex = pd.read_csv('testset0.csv', index_col = 0)\n",
    "df_ex['Magmom'] = df_ex['Magmom'].round(3)\n",
    "df_ex.head(2)"
   ]
  },
  {
   "cell_type": "code",
   "execution_count": 29,
   "id": "c10c593f-aac6-4d0b-a57b-e66343c31811",
   "metadata": {},
   "outputs": [
    {
     "data": {
      "application/vnd.jupyter.widget-view+json": {
       "model_id": "8a6e0957525f4253b0a240ccb680178c",
       "version_major": 2,
       "version_minor": 0
      },
      "text/plain": [
       "StrToComposition:   0%|          | 0/10 [00:00<?, ?it/s]"
      ]
     },
     "metadata": {},
     "output_type": "display_data"
    },
    {
     "data": {
      "application/vnd.jupyter.widget-view+json": {
       "model_id": "8b9b3d1034864384b2f3db8fa399ff67",
       "version_major": 2,
       "version_minor": 0
      },
      "text/plain": [
       "CompositionToOxidComposition:   0%|          | 0/10 [00:00<?, ?it/s]"
      ]
     },
     "metadata": {},
     "output_type": "display_data"
    },
    {
     "data": {
      "application/vnd.jupyter.widget-view+json": {
       "model_id": "f47b6968a74a4fbf81e3d98560927f03",
       "version_major": 2,
       "version_minor": 0
      },
      "text/plain": [
       "OxidationStates:   0%|          | 0/10 [00:00<?, ?it/s]"
      ]
     },
     "metadata": {},
     "output_type": "display_data"
    },
    {
     "data": {
      "application/vnd.jupyter.widget-view+json": {
       "model_id": "f4a77eb839d34253806a48002d864a70",
       "version_major": 2,
       "version_minor": 0
      },
      "text/plain": [
       "ElementProperty:   0%|          | 0/10 [00:00<?, ?it/s]"
      ]
     },
     "metadata": {},
     "output_type": "display_data"
    },
    {
     "data": {
      "text/html": [
       "<div>\n",
       "<style scoped>\n",
       "    .dataframe tbody tr th:only-of-type {\n",
       "        vertical-align: middle;\n",
       "    }\n",
       "\n",
       "    .dataframe tbody tr th {\n",
       "        vertical-align: top;\n",
       "    }\n",
       "\n",
       "    .dataframe thead th {\n",
       "        text-align: right;\n",
       "    }\n",
       "</style>\n",
       "<table border=\"1\" class=\"dataframe\">\n",
       "  <thead>\n",
       "    <tr style=\"text-align: right;\">\n",
       "      <th></th>\n",
       "      <th>Formula</th>\n",
       "      <th>SGnumber</th>\n",
       "      <th>Magmom</th>\n",
       "      <th>Magnetic</th>\n",
       "      <th>composition</th>\n",
       "      <th>composition_oxid</th>\n",
       "      <th>minimum oxidation state</th>\n",
       "      <th>maximum oxidation state</th>\n",
       "      <th>range oxidation state</th>\n",
       "      <th>std_dev oxidation state</th>\n",
       "      <th>...</th>\n",
       "      <th>MagpieData range GSmagmom</th>\n",
       "      <th>MagpieData mean GSmagmom</th>\n",
       "      <th>MagpieData avg_dev GSmagmom</th>\n",
       "      <th>MagpieData mode GSmagmom</th>\n",
       "      <th>MagpieData minimum SpaceGroupNumber</th>\n",
       "      <th>MagpieData maximum SpaceGroupNumber</th>\n",
       "      <th>MagpieData range SpaceGroupNumber</th>\n",
       "      <th>MagpieData mean SpaceGroupNumber</th>\n",
       "      <th>MagpieData avg_dev SpaceGroupNumber</th>\n",
       "      <th>MagpieData mode SpaceGroupNumber</th>\n",
       "    </tr>\n",
       "  </thead>\n",
       "  <tbody>\n",
       "    <tr>\n",
       "      <th>209</th>\n",
       "      <td>CrI3</td>\n",
       "      <td>162</td>\n",
       "      <td>6.001</td>\n",
       "      <td>True</td>\n",
       "      <td>(Cr, I)</td>\n",
       "      <td>(Cr3+, I-)</td>\n",
       "      <td>-1</td>\n",
       "      <td>3</td>\n",
       "      <td>4</td>\n",
       "      <td>2.828427</td>\n",
       "      <td>...</td>\n",
       "      <td>0.000000</td>\n",
       "      <td>0.000000</td>\n",
       "      <td>0.000000</td>\n",
       "      <td>0.0</td>\n",
       "      <td>64.0</td>\n",
       "      <td>229.0</td>\n",
       "      <td>165.0</td>\n",
       "      <td>105.250000</td>\n",
       "      <td>61.875000</td>\n",
       "      <td>64.0</td>\n",
       "    </tr>\n",
       "    <tr>\n",
       "      <th>4955</th>\n",
       "      <td>CrGeTe3</td>\n",
       "      <td>162</td>\n",
       "      <td>6.002</td>\n",
       "      <td>True</td>\n",
       "      <td>(Cr, Ge, Te)</td>\n",
       "      <td>(Cr2+, Ge4+, Te2-)</td>\n",
       "      <td>-2</td>\n",
       "      <td>4</td>\n",
       "      <td>6</td>\n",
       "      <td>3.380617</td>\n",
       "      <td>...</td>\n",
       "      <td>0.000000</td>\n",
       "      <td>0.000000</td>\n",
       "      <td>0.000000</td>\n",
       "      <td>0.0</td>\n",
       "      <td>152.0</td>\n",
       "      <td>229.0</td>\n",
       "      <td>77.0</td>\n",
       "      <td>182.000000</td>\n",
       "      <td>36.000000</td>\n",
       "      <td>152.0</td>\n",
       "    </tr>\n",
       "    <tr>\n",
       "      <th>2108</th>\n",
       "      <td>PrTe3</td>\n",
       "      <td>191</td>\n",
       "      <td>-0.000</td>\n",
       "      <td>False</td>\n",
       "      <td>(Pr, Te)</td>\n",
       "      <td>(Pr4+, Te2-, Te-)</td>\n",
       "      <td>-2</td>\n",
       "      <td>4</td>\n",
       "      <td>6</td>\n",
       "      <td>2.966479</td>\n",
       "      <td>...</td>\n",
       "      <td>0.000000</td>\n",
       "      <td>0.000000</td>\n",
       "      <td>0.000000</td>\n",
       "      <td>0.0</td>\n",
       "      <td>152.0</td>\n",
       "      <td>194.0</td>\n",
       "      <td>42.0</td>\n",
       "      <td>162.500000</td>\n",
       "      <td>15.750000</td>\n",
       "      <td>152.0</td>\n",
       "    </tr>\n",
       "    <tr>\n",
       "      <th>3969</th>\n",
       "      <td>TiPb9O11</td>\n",
       "      <td>75</td>\n",
       "      <td>0.000</td>\n",
       "      <td>False</td>\n",
       "      <td>(Ti, Pb, O)</td>\n",
       "      <td>(Ti4+, Pb2+, O2-)</td>\n",
       "      <td>-2</td>\n",
       "      <td>4</td>\n",
       "      <td>6</td>\n",
       "      <td>2.910428</td>\n",
       "      <td>...</td>\n",
       "      <td>0.000023</td>\n",
       "      <td>0.000001</td>\n",
       "      <td>0.000002</td>\n",
       "      <td>0.0</td>\n",
       "      <td>12.0</td>\n",
       "      <td>225.0</td>\n",
       "      <td>213.0</td>\n",
       "      <td>111.952381</td>\n",
       "      <td>104.712018</td>\n",
       "      <td>12.0</td>\n",
       "    </tr>\n",
       "    <tr>\n",
       "      <th>1691</th>\n",
       "      <td>TaSe</td>\n",
       "      <td>129</td>\n",
       "      <td>0.000</td>\n",
       "      <td>False</td>\n",
       "      <td>(Ta, Se)</td>\n",
       "      <td>(Ta0+, Se0+)</td>\n",
       "      <td>0</td>\n",
       "      <td>0</td>\n",
       "      <td>0</td>\n",
       "      <td>0.000000</td>\n",
       "      <td>...</td>\n",
       "      <td>0.000000</td>\n",
       "      <td>0.000000</td>\n",
       "      <td>0.000000</td>\n",
       "      <td>0.0</td>\n",
       "      <td>14.0</td>\n",
       "      <td>229.0</td>\n",
       "      <td>215.0</td>\n",
       "      <td>121.500000</td>\n",
       "      <td>107.500000</td>\n",
       "      <td>14.0</td>\n",
       "    </tr>\n",
       "  </tbody>\n",
       "</table>\n",
       "<p>5 rows × 142 columns</p>\n",
       "</div>"
      ],
      "text/plain": [
       "       Formula  SGnumber  Magmom  Magnetic   composition    composition_oxid  \\\n",
       "209       CrI3       162   6.001      True       (Cr, I)          (Cr3+, I-)   \n",
       "4955   CrGeTe3       162   6.002      True  (Cr, Ge, Te)  (Cr2+, Ge4+, Te2-)   \n",
       "2108     PrTe3       191  -0.000     False      (Pr, Te)   (Pr4+, Te2-, Te-)   \n",
       "3969  TiPb9O11        75   0.000     False   (Ti, Pb, O)   (Ti4+, Pb2+, O2-)   \n",
       "1691      TaSe       129   0.000     False      (Ta, Se)        (Ta0+, Se0+)   \n",
       "\n",
       "      minimum oxidation state  maximum oxidation state  range oxidation state  \\\n",
       "209                        -1                        3                      4   \n",
       "4955                       -2                        4                      6   \n",
       "2108                       -2                        4                      6   \n",
       "3969                       -2                        4                      6   \n",
       "1691                        0                        0                      0   \n",
       "\n",
       "      std_dev oxidation state  ...  MagpieData range GSmagmom  \\\n",
       "209                  2.828427  ...                   0.000000   \n",
       "4955                 3.380617  ...                   0.000000   \n",
       "2108                 2.966479  ...                   0.000000   \n",
       "3969                 2.910428  ...                   0.000023   \n",
       "1691                 0.000000  ...                   0.000000   \n",
       "\n",
       "      MagpieData mean GSmagmom  MagpieData avg_dev GSmagmom  \\\n",
       "209                   0.000000                     0.000000   \n",
       "4955                  0.000000                     0.000000   \n",
       "2108                  0.000000                     0.000000   \n",
       "3969                  0.000001                     0.000002   \n",
       "1691                  0.000000                     0.000000   \n",
       "\n",
       "      MagpieData mode GSmagmom  MagpieData minimum SpaceGroupNumber  \\\n",
       "209                        0.0                                 64.0   \n",
       "4955                       0.0                                152.0   \n",
       "2108                       0.0                                152.0   \n",
       "3969                       0.0                                 12.0   \n",
       "1691                       0.0                                 14.0   \n",
       "\n",
       "      MagpieData maximum SpaceGroupNumber  MagpieData range SpaceGroupNumber  \\\n",
       "209                                 229.0                              165.0   \n",
       "4955                                229.0                               77.0   \n",
       "2108                                194.0                               42.0   \n",
       "3969                                225.0                              213.0   \n",
       "1691                                229.0                              215.0   \n",
       "\n",
       "      MagpieData mean SpaceGroupNumber  MagpieData avg_dev SpaceGroupNumber  \\\n",
       "209                         105.250000                            61.875000   \n",
       "4955                        182.000000                            36.000000   \n",
       "2108                        162.500000                            15.750000   \n",
       "3969                        111.952381                           104.712018   \n",
       "1691                        121.500000                           107.500000   \n",
       "\n",
       "      MagpieData mode SpaceGroupNumber  \n",
       "209                               64.0  \n",
       "4955                             152.0  \n",
       "2108                             152.0  \n",
       "3969                              12.0  \n",
       "1691                              14.0  \n",
       "\n",
       "[5 rows x 142 columns]"
      ]
     },
     "execution_count": 29,
     "metadata": {},
     "output_type": "execute_result"
    }
   ],
   "source": [
    "df_ex = StrToComposition().featurize_dataframe(df_ex, 'Formula')\n",
    "df_ex = CompositionToOxidComposition().featurize_dataframe(df_ex, 'composition')\n",
    "df_ex = OxidationStates().featurize_dataframe(df_ex, 'composition_oxid')\n",
    "ep_feat = ElementProperty.from_preset(preset_name='magpie')\n",
    "df_ex = ep_feat.featurize_dataframe(df_ex, col_id = 'composition')\n",
    "df_ex.head()"
   ]
  },
  {
   "cell_type": "code",
   "execution_count": 30,
   "id": "237e9b76-1c1f-40fe-8fde-515be699610e",
   "metadata": {},
   "outputs": [],
   "source": [
    "excluded = ['Formula', 'Magmom', 'composition', 'composition_oxid', 'Magnetic']\n",
    "X_validation = df_ex.drop(excluded, axis = 1)\n",
    "X_validation\n",
    "y_validation = df_ex['Magnetic'].values"
   ]
  },
  {
   "cell_type": "code",
   "execution_count": 31,
   "id": "d1762a7e-b938-4cf9-9e9e-1437b6cb199e",
   "metadata": {},
   "outputs": [],
   "source": [
    "scaler.fit(X_validation)\n",
    "X_test_v = scaler.transform(X_validation)"
   ]
  },
  {
   "cell_type": "code",
   "execution_count": 32,
   "id": "bbac8178-d61b-4459-8c70-aef0af5cfb17",
   "metadata": {},
   "outputs": [
    {
     "data": {
      "text/plain": [
       "array([[ 1.03974407,  0.89625816, -0.26726124, ..., -0.79939494,\n",
       "         0.14509442, -0.35922767],\n",
       "       [ 1.03974407, -0.38411064,  0.40089186, ...,  1.146315  ,\n",
       "        -0.62203595,  1.09086569],\n",
       "       [ 1.50506163, -0.38411064,  0.40089186, ...,  0.65196524,\n",
       "        -1.22239885,  1.09086569],\n",
       "       ...,\n",
       "       [-0.74129901, -0.38411064,  0.40089186, ..., -1.17332617,\n",
       "         0.97046106, -1.21610102],\n",
       "       [-1.38311633, -0.38411064,  1.73719807, ...,  0.00550787,\n",
       "         0.58080754, -0.26035767],\n",
       "       [ 0.51024477, -1.66447944, -0.93541435, ...,  1.80544801,\n",
       "        -0.85921636,  1.32156236]])"
      ]
     },
     "execution_count": 32,
     "metadata": {},
     "output_type": "execute_result"
    }
   ],
   "source": [
    "X_test_v"
   ]
  },
  {
   "cell_type": "code",
   "execution_count": 33,
   "id": "9949c020-2511-4d21-a5d4-0b6d33e3bcae",
   "metadata": {},
   "outputs": [
    {
     "data": {
      "text/plain": [
       "array([ True,  True, False, False, False, False, False, False, False,\n",
       "       False])"
      ]
     },
     "execution_count": 33,
     "metadata": {},
     "output_type": "execute_result"
    }
   ],
   "source": [
    "y_validation"
   ]
  },
  {
   "cell_type": "code",
   "execution_count": 34,
   "id": "880e716b-0342-4d54-a75a-e2ab52ef1a87",
   "metadata": {},
   "outputs": [
    {
     "data": {
      "text/plain": [
       "array([ True,  True,  True,  True, False, False,  True,  True, False,\n",
       "       False])"
      ]
     },
     "execution_count": 34,
     "metadata": {},
     "output_type": "execute_result"
    }
   ],
   "source": [
    "y_predv = model_SVC.predict(X_test_v)\n",
    "y_predv"
   ]
  },
  {
   "cell_type": "code",
   "execution_count": 35,
   "id": "bfbfb17c-c021-4cb3-8931-a7e9c5c2bde3",
   "metadata": {},
   "outputs": [
    {
     "data": {
      "text/plain": [
       "(10, 137)"
      ]
     },
     "execution_count": 35,
     "metadata": {},
     "output_type": "execute_result"
    }
   ],
   "source": [
    "X_test_v.shape"
   ]
  },
  {
   "cell_type": "code",
   "execution_count": null,
   "id": "3a8b1f67-1fe3-494e-b75e-f1c67a2529dd",
   "metadata": {},
   "outputs": [],
   "source": []
  }
 ],
 "metadata": {
  "kernelspec": {
   "display_name": "Python 3 (ipykernel)",
   "language": "python",
   "name": "python3"
  },
  "language_info": {
   "codemirror_mode": {
    "name": "ipython",
    "version": 3
   },
   "file_extension": ".py",
   "mimetype": "text/x-python",
   "name": "python",
   "nbconvert_exporter": "python",
   "pygments_lexer": "ipython3",
   "version": "3.8.8"
  }
 },
 "nbformat": 4,
 "nbformat_minor": 5
}
